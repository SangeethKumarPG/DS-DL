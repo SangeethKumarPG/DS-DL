{
 "cells": [
  {
   "cell_type": "markdown",
   "metadata": {
    "id": "ZmEG4nKim1wO"
   },
   "source": [
    "# In this notebook, we are going to cover some of the most fundamental concepts of tensors using tensorflow\n",
    "\n",
    "We are gong to cover:\n",
    "* Introduction to tensors\n",
    "* Getting information from tensors\n",
    "* Manipulating tensors\n",
    "* Tensors & Numpy\n",
    "* Using @tf.function(a way to speed up your normal python functions)\n",
    "* Using GPUs with TensorFlow or TPUs\n",
    "* Example excercises"
   ]
  },
  {
   "cell_type": "markdown",
   "metadata": {
    "id": "HTnUQzE1nknY"
   },
   "source": [
    "## Introduction to Tensors"
   ]
  },
  {
   "cell_type": "code",
   "execution_count": null,
   "metadata": {
    "colab": {
     "base_uri": "https://localhost:8080/"
    },
    "id": "EGHxGM7dnh58",
    "outputId": "710aaa60-ee96-4ae0-e722-bbf2c2e2156b"
   },
   "outputs": [
    {
     "name": "stdout",
     "output_type": "stream",
     "text": [
      "2.15.0\n"
     ]
    }
   ],
   "source": [
    "# import tensorflow\n",
    "import tensorflow as tf\n",
    "print(tf.__version__)"
   ]
  },
  {
   "cell_type": "code",
   "execution_count": null,
   "metadata": {
    "colab": {
     "base_uri": "https://localhost:8080/"
    },
    "id": "K-2Ge3_ynwj7",
    "outputId": "35a84b33-0252-4ece-d411-4ff416e4750d"
   },
   "outputs": [
    {
     "data": {
      "text/plain": [
       "<tf.Tensor: shape=(), dtype=int32, numpy=7>"
      ]
     },
     "execution_count": 2,
     "metadata": {},
     "output_type": "execute_result"
    }
   ],
   "source": [
    "# Creating Tensors with tf.constant()\n",
    "scalar = tf.constant(7)\n",
    "scalar\n"
   ]
  },
  {
   "cell_type": "code",
   "execution_count": null,
   "metadata": {
    "colab": {
     "base_uri": "https://localhost:8080/"
    },
    "id": "J3r2ZevcoMuW",
    "outputId": "6a969dd2-0569-4045-8050-aafab4b525b7"
   },
   "outputs": [
    {
     "data": {
      "text/plain": [
       "0"
      ]
     },
     "execution_count": 3,
     "metadata": {},
     "output_type": "execute_result"
    }
   ],
   "source": [
    "# Check the number of dimensions of a tensor(ndim stands for number of dimensions)\n",
    "scalar.ndim"
   ]
  },
  {
   "cell_type": "code",
   "execution_count": null,
   "metadata": {
    "colab": {
     "base_uri": "https://localhost:8080/"
    },
    "id": "5TSub2vMonZc",
    "outputId": "43281cad-de60-4f7e-90b9-e60d7f124b2d"
   },
   "outputs": [
    {
     "data": {
      "text/plain": [
       "<tf.Tensor: shape=(2,), dtype=int32, numpy=array([10, 10], dtype=int32)>"
      ]
     },
     "execution_count": 4,
     "metadata": {},
     "output_type": "execute_result"
    }
   ],
   "source": [
    "# Creating a vector\n",
    "vector = tf.constant([10,10])\n",
    "vector"
   ]
  },
  {
   "cell_type": "code",
   "execution_count": null,
   "metadata": {
    "colab": {
     "base_uri": "https://localhost:8080/"
    },
    "id": "-3OFZyDMotbw",
    "outputId": "19060ed7-1e06-47de-e686-dde9151bbbb1"
   },
   "outputs": [
    {
     "data": {
      "text/plain": [
       "1"
      ]
     },
     "execution_count": 5,
     "metadata": {},
     "output_type": "execute_result"
    }
   ],
   "source": [
    "#Check the dimension of our vector\n",
    "vector.ndim"
   ]
  },
  {
   "cell_type": "code",
   "execution_count": null,
   "metadata": {
    "colab": {
     "base_uri": "https://localhost:8080/"
    },
    "id": "tThV9Q8ro5eN",
    "outputId": "22ad7ffd-6989-44c1-a477-5a1a2813e700"
   },
   "outputs": [
    {
     "data": {
      "text/plain": [
       "<tf.Tensor: shape=(2, 2), dtype=int32, numpy=\n",
       "array([[10,  7],\n",
       "       [ 7, 10]], dtype=int32)>"
      ]
     },
     "execution_count": 6,
     "metadata": {},
     "output_type": "execute_result"
    }
   ],
   "source": [
    "# create a matrix (more than one dimension)\n",
    "matrix = tf.constant([[10,7],[7,10]])\n",
    "matrix"
   ]
  },
  {
   "cell_type": "code",
   "execution_count": null,
   "metadata": {
    "colab": {
     "base_uri": "https://localhost:8080/"
    },
    "id": "dzZtHAUzpHLL",
    "outputId": "3dc87243-da95-4094-c6d5-9102835fa92b"
   },
   "outputs": [
    {
     "data": {
      "text/plain": [
       "2"
      ]
     },
     "execution_count": 7,
     "metadata": {},
     "output_type": "execute_result"
    }
   ],
   "source": [
    "matrix.ndim"
   ]
  },
  {
   "cell_type": "code",
   "execution_count": null,
   "metadata": {
    "colab": {
     "base_uri": "https://localhost:8080/"
    },
    "id": "FxOEL3ebpJd9",
    "outputId": "a5cfb62d-71dd-442e-bbba-2aa0130520d3"
   },
   "outputs": [
    {
     "data": {
      "text/plain": [
       "<tf.Tensor: shape=(3, 2), dtype=float16, numpy=\n",
       "array([[10.,  7.],\n",
       "       [ 3.,  2.],\n",
       "       [ 8.,  9.]], dtype=float16)>"
      ]
     },
     "execution_count": 8,
     "metadata": {},
     "output_type": "execute_result"
    }
   ],
   "source": [
    "# Create another matrix\n",
    "another_matrix = tf.constant([[10.,7.],[3.,2.,],[8.,9.]], dtype=tf.float16) #dtype specifies the datatype of tensor\n",
    "another_matrix"
   ]
  },
  {
   "cell_type": "code",
   "execution_count": null,
   "metadata": {
    "colab": {
     "base_uri": "https://localhost:8080/"
    },
    "id": "BlstmqPTpsKj",
    "outputId": "e0b0e8d3-211e-4f6b-b400-f55e13b11481"
   },
   "outputs": [
    {
     "data": {
      "text/plain": [
       "2"
      ]
     },
     "execution_count": 9,
     "metadata": {},
     "output_type": "execute_result"
    }
   ],
   "source": [
    "another_matrix.ndim"
   ]
  },
  {
   "cell_type": "code",
   "execution_count": null,
   "metadata": {
    "colab": {
     "base_uri": "https://localhost:8080/"
    },
    "id": "KSNqUB_YqBtO",
    "outputId": "d4eeb6a6-6e38-4b3e-b01f-42b04cdb6d5a"
   },
   "outputs": [
    {
     "data": {
      "text/plain": [
       "<tf.Tensor: shape=(3, 2, 3), dtype=int32, numpy=\n",
       "array([[[ 1,  2,  3],\n",
       "        [ 4,  5,  6]],\n",
       "\n",
       "       [[ 7,  8,  9],\n",
       "        [10, 11, 12]],\n",
       "\n",
       "       [[13, 14, 15],\n",
       "        [16, 17, 18]]], dtype=int32)>"
      ]
     },
     "execution_count": 10,
     "metadata": {},
     "output_type": "execute_result"
    }
   ],
   "source": [
    "# Let's create a tensor\n",
    "tensor = tf.constant([[[1,2,3],\n",
    "                      [4,5,6]],\n",
    "                      [[7,8,9],\n",
    "                       [10,11,12]],\n",
    "                     [[13,14,15],\n",
    "                      [16,17,18]]\n",
    "                      ])\n",
    "tensor"
   ]
  },
  {
   "cell_type": "code",
   "execution_count": null,
   "metadata": {
    "colab": {
     "base_uri": "https://localhost:8080/"
    },
    "id": "-LuOLEOhqytE",
    "outputId": "c55b278d-f2b1-4170-a4c6-3d708abfeb90"
   },
   "outputs": [
    {
     "data": {
      "text/plain": [
       "3"
      ]
     },
     "execution_count": 11,
     "metadata": {},
     "output_type": "execute_result"
    }
   ],
   "source": [
    "tensor.ndim"
   ]
  },
  {
   "cell_type": "markdown",
   "metadata": {
    "id": "888SEgWTrLwA"
   },
   "source": [
    "What we created so far:\n",
    "* Scaler : a single number\n",
    "* Vector : a number with direction (eg: wind speed and direction)\n",
    "* Matrix : a 2-dimentional array of numbers\n",
    "* Tensor : an n-dimentional array of numbers( where n can be any number, a 0-dimensional tensor is a scalar, a 1-dimentional tensor is a vector)\n"
   ]
  },
  {
   "cell_type": "markdown",
   "metadata": {
    "id": "xiJ-7IVgD4V2"
   },
   "source": [
    "### Creating Tensors with `tf.Variable()`"
   ]
  },
  {
   "cell_type": "code",
   "execution_count": null,
   "metadata": {
    "colab": {
     "base_uri": "https://localhost:8080/"
    },
    "id": "iomDrTWkq-nv",
    "outputId": "803d2363-7ab9-40a4-d46e-adffadb53f7c"
   },
   "outputs": [
    {
     "data": {
      "text/plain": [
       "(<tf.Variable 'Variable:0' shape=(2,) dtype=int32, numpy=array([10,  7], dtype=int32)>,\n",
       " <tf.Tensor: shape=(2,), dtype=int32, numpy=array([10,  7], dtype=int32)>)"
      ]
     },
     "execution_count": 12,
     "metadata": {},
     "output_type": "execute_result"
    }
   ],
   "source": [
    "# Creating a tensor with tf.Variable() as above\n",
    "changable_tensor = tf.Variable([10,7])\n",
    "unchangable_tensor = tf.constant([10,7])\n",
    "changable_tensor, unchangable_tensor"
   ]
  },
  {
   "cell_type": "code",
   "execution_count": null,
   "metadata": {
    "colab": {
     "base_uri": "https://localhost:8080/"
    },
    "id": "G2kmLf3NEdvp",
    "outputId": "a24e7c81-9e3a-449f-aa02-5aa71e9ef63c"
   },
   "outputs": [
    {
     "data": {
      "text/plain": [
       "<tf.Tensor: shape=(), dtype=int32, numpy=10>"
      ]
     },
     "execution_count": 13,
     "metadata": {},
     "output_type": "execute_result"
    }
   ],
   "source": [
    "# Let's try to change an element in our changable tensor\n",
    "changable_tensor[0]"
   ]
  },
  {
   "cell_type": "code",
   "execution_count": null,
   "metadata": {
    "id": "dfmtQSBjFR1R"
   },
   "outputs": [],
   "source": [
    "#changable_tensor[0] = 7\n",
    "# will give error"
   ]
  },
  {
   "cell_type": "code",
   "execution_count": null,
   "metadata": {
    "colab": {
     "base_uri": "https://localhost:8080/"
    },
    "id": "Z841x9sPEsmH",
    "outputId": "eb4c291a-fe77-4bb3-8a45-020aff0adc2b"
   },
   "outputs": [
    {
     "data": {
      "text/plain": [
       "<tf.Variable 'Variable:0' shape=(2,) dtype=int32, numpy=array([7, 7], dtype=int32)>"
      ]
     },
     "execution_count": 15,
     "metadata": {},
     "output_type": "execute_result"
    }
   ],
   "source": [
    "# Trying with assign\n",
    "changable_tensor[0].assign(7)\n",
    "changable_tensor"
   ]
  },
  {
   "cell_type": "code",
   "execution_count": null,
   "metadata": {
    "colab": {
     "base_uri": "https://localhost:8080/"
    },
    "id": "f3z4otknE8Eh",
    "outputId": "55558a3e-cc55-43c1-ee99-3176de9bd73b"
   },
   "outputs": [
    {
     "data": {
      "text/plain": [
       "<tf.Tensor: shape=(), dtype=int32, numpy=10>"
      ]
     },
     "execution_count": 16,
     "metadata": {},
     "output_type": "execute_result"
    }
   ],
   "source": [
    "# Let's try change our unchanagble tensor\n",
    "unchangable_tensor[0]"
   ]
  },
  {
   "cell_type": "code",
   "execution_count": null,
   "metadata": {
    "id": "kMATGmpeFBZX"
   },
   "outputs": [],
   "source": [
    "# Trying with assign\n",
    "#unchangable_tensor[0].assign(7)\n",
    "# will give error"
   ]
  },
  {
   "cell_type": "markdown",
   "metadata": {
    "id": "1nrJDTPnFn1E"
   },
   "source": [
    "*NOTE* : Rarely in practice you need to use `tf.constant` or `tf.Variable`. Tensorflow will do it for you"
   ]
  },
  {
   "cell_type": "markdown",
   "metadata": {
    "id": "RIA8CjcXFHl_"
   },
   "source": [
    "### Creating random tensors\n",
    "\n",
    "Random Tensors are tensors of some arbitrary size which contain random numbers"
   ]
  },
  {
   "cell_type": "code",
   "execution_count": null,
   "metadata": {
    "colab": {
     "base_uri": "https://localhost:8080/"
    },
    "id": "huF0XxLqGES3",
    "outputId": "41404b17-46f2-42b3-bbbf-c6009ec20037"
   },
   "outputs": [
    {
     "data": {
      "text/plain": [
       "<tf.Tensor: shape=(3, 2), dtype=float32, numpy=\n",
       "array([[-0.7565803 , -0.06854702],\n",
       "       [ 0.07595026, -1.2573844 ],\n",
       "       [-0.23193763, -1.8107855 ]], dtype=float32)>"
      ]
     },
     "execution_count": 18,
     "metadata": {},
     "output_type": "execute_result"
    }
   ],
   "source": [
    "# Create two random tensors (but same tensors)\n",
    "random_1 = tf.random.Generator.from_seed(42) # Set seed for reproducibility\n",
    "random_1 = random_1.normal(shape=(3,2))\n",
    "random_1\n"
   ]
  },
  {
   "cell_type": "code",
   "execution_count": null,
   "metadata": {
    "colab": {
     "base_uri": "https://localhost:8080/"
    },
    "id": "mKD1i9UJHGLu",
    "outputId": "902890db-a28b-4ba4-a148-1399608a0151"
   },
   "outputs": [
    {
     "data": {
      "text/plain": [
       "<tf.Tensor: shape=(3, 2), dtype=float32, numpy=\n",
       "array([[-0.7565803 , -0.06854702],\n",
       "       [ 0.07595026, -1.2573844 ],\n",
       "       [-0.23193763, -1.8107855 ]], dtype=float32)>"
      ]
     },
     "execution_count": 19,
     "metadata": {},
     "output_type": "execute_result"
    }
   ],
   "source": [
    "random_2 = tf.random.Generator.from_seed(42)\n",
    "random_2 = random_2.normal(shape=(3,2))\n",
    "random_2"
   ]
  },
  {
   "cell_type": "code",
   "execution_count": null,
   "metadata": {
    "colab": {
     "base_uri": "https://localhost:8080/"
    },
    "id": "2I-A5_qGHep_",
    "outputId": "eaa7fe5e-e262-4499-e2cd-78f14883dba4"
   },
   "outputs": [
    {
     "data": {
      "text/plain": [
       "(<tf.Tensor: shape=(3, 2), dtype=float32, numpy=\n",
       " array([[-0.7565803 , -0.06854702],\n",
       "        [ 0.07595026, -1.2573844 ],\n",
       "        [-0.23193763, -1.8107855 ]], dtype=float32)>,\n",
       " <tf.Tensor: shape=(3, 2), dtype=float32, numpy=\n",
       " array([[-0.7565803 , -0.06854702],\n",
       "        [ 0.07595026, -1.2573844 ],\n",
       "        [-0.23193763, -1.8107855 ]], dtype=float32)>,\n",
       " <tf.Tensor: shape=(3, 2), dtype=bool, numpy=\n",
       " array([[ True,  True],\n",
       "        [ True,  True],\n",
       "        [ True,  True]])>)"
      ]
     },
     "execution_count": 20,
     "metadata": {},
     "output_type": "execute_result"
    }
   ],
   "source": [
    "# Are they equal?\n",
    "random_1, random_2, random_1 == random_2"
   ]
  },
  {
   "cell_type": "markdown",
   "metadata": {
    "id": "Dkj5S5JmHob8"
   },
   "source": [
    "### Shuffle the order of elements in a tensor"
   ]
  },
  {
   "cell_type": "code",
   "execution_count": null,
   "metadata": {
    "colab": {
     "base_uri": "https://localhost:8080/"
    },
    "id": "Re7VAYNSILtg",
    "outputId": "e82d077e-43cb-4b34-9575-5b671207bf15"
   },
   "outputs": [
    {
     "data": {
      "text/plain": [
       "2"
      ]
     },
     "execution_count": 21,
     "metadata": {},
     "output_type": "execute_result"
    }
   ],
   "source": [
    "# shuffle a tensor(valuable when you want to shuffle your data so that the inherent data doesn't affect learning)\n",
    "not_shuffled = tf.constant([[10,7],\n",
    "                            [3,4],\n",
    "                            [2,5]])\n",
    "not_shuffled.ndim"
   ]
  },
  {
   "cell_type": "code",
   "execution_count": null,
   "metadata": {
    "colab": {
     "base_uri": "https://localhost:8080/"
    },
    "id": "CVTq33TMI4jd",
    "outputId": "42637ebc-d41c-4eff-cf15-6958f3c51b3c"
   },
   "outputs": [
    {
     "data": {
      "text/plain": [
       "<tf.Tensor: shape=(3, 2), dtype=int32, numpy=\n",
       "array([[10,  7],\n",
       "       [ 3,  4],\n",
       "       [ 2,  5]], dtype=int32)>"
      ]
     },
     "execution_count": 22,
     "metadata": {},
     "output_type": "execute_result"
    }
   ],
   "source": [
    "not_shuffled"
   ]
  },
  {
   "cell_type": "code",
   "execution_count": null,
   "metadata": {
    "colab": {
     "base_uri": "https://localhost:8080/"
    },
    "id": "rFWudTh1I61W",
    "outputId": "c9193011-9b97-4b3d-823b-e0101dbcab02"
   },
   "outputs": [
    {
     "data": {
      "text/plain": [
       "<tf.Tensor: shape=(3, 2), dtype=int32, numpy=\n",
       "array([[ 3,  4],\n",
       "       [ 2,  5],\n",
       "       [10,  7]], dtype=int32)>"
      ]
     },
     "execution_count": 23,
     "metadata": {},
     "output_type": "execute_result"
    }
   ],
   "source": [
    "# shuffle our non shuffle tensor\n",
    "tf.random.set_seed(42)\n",
    "tf.random.shuffle(not_shuffled)"
   ]
  },
  {
   "cell_type": "markdown",
   "metadata": {
    "id": "5qK806c6KKsU"
   },
   "source": [
    "Operations that rely on a random seed actually derive it from two seeds: the global and operation-level seeds. This sets the global seed.\n",
    "\n",
    "Its interactions with operation-level seeds is as follows:\n",
    "\n",
    "1. If neither the global seed nor the operation seed is set: A randomly picked seed is used for this op.\n",
    "2. If the global seed is set, but the operation seed is not: The system deterministically picks an operation seed in conjunction with the global seed so that it gets a unique random sequence. Within the same version of tensorflow and user code, this sequence is deterministic. However across different versions, this sequence might change. If the code depends on particular seeds to work, specify both global and operation-level seeds explicitly.\n",
    "3. If the operation seed is set, but the global seed is not set: A default global seed and the specified operation seed are used to determine the random sequence.\n",
    "4. If both the global and the operation seed are set: Both seeds are used in conjunction to determine the random sequence."
   ]
  },
  {
   "cell_type": "code",
   "execution_count": null,
   "metadata": {
    "colab": {
     "base_uri": "https://localhost:8080/"
    },
    "id": "KRMWO6_5JTgK",
    "outputId": "d02ee876-19ff-4ed2-bde2-52c4ba3027a8"
   },
   "outputs": [
    {
     "data": {
      "text/plain": [
       "(<tf.Tensor: shape=(3, 3), dtype=float32, numpy=\n",
       " array([[0.6645621 , 0.44100678, 0.3528825 ],\n",
       "        [0.46448255, 0.03366041, 0.68467236],\n",
       "        [0.74011743, 0.8724445 , 0.22632635]], dtype=float32)>,\n",
       " <tf.Tensor: shape=(3, 3), dtype=float32, numpy=\n",
       " array([[ 1.3148774 , -0.15421568,  0.9113878 ],\n",
       "        [-0.7991441 , -0.10875294,  0.28436786],\n",
       "        [ 0.7661625 , -0.6211289 ,  0.9974318 ]], dtype=float32)>,\n",
       " <tf.Tensor: shape=(3, 3), dtype=float32, numpy=\n",
       " array([[ 1.2668815 , -0.9484186 ,  0.10077834],\n",
       "        [-0.6262223 ,  1.6540284 ,  1.0248556 ],\n",
       "        [ 0.98768395,  1.399825  ,  0.58911043]], dtype=float32)>)"
      ]
     },
     "execution_count": 24,
     "metadata": {},
     "output_type": "execute_result"
    }
   ],
   "source": [
    "# creaing some tensors\n",
    "\n",
    "tf.random.set_seed(42)\n",
    "tensor_1 = tf.constant(tf.random.uniform(shape=(3,3)))\n",
    "tensor_1\n",
    "\n",
    "tensor_2 = tf.constant(tf.random.normal(shape=(3,3), seed=42))\n",
    "\n",
    "\n",
    "tensor_3 = tf.constant(tf.random.normal(shape=(3,3), seed=42))\n",
    "tensor_1,tensor_2, tensor_3"
   ]
  },
  {
   "cell_type": "code",
   "execution_count": null,
   "metadata": {
    "colab": {
     "base_uri": "https://localhost:8080/"
    },
    "id": "pjsZ1uqpLU2U",
    "outputId": "17263e89-4507-419e-c9b1-a0cbe302d40e"
   },
   "outputs": [
    {
     "data": {
      "text/plain": [
       "(<tf.Tensor: shape=(3, 3), dtype=float32, numpy=\n",
       " array([[0.46448255, 0.03366041, 0.68467236],\n",
       "        [0.74011743, 0.8724445 , 0.22632635],\n",
       "        [0.6645621 , 0.44100678, 0.3528825 ]], dtype=float32)>,\n",
       " <tf.Tensor: shape=(3, 3), dtype=bool, numpy=\n",
       " array([[False, False, False],\n",
       "        [False, False, False],\n",
       "        [False, False, False]])>)"
      ]
     },
     "execution_count": 25,
     "metadata": {},
     "output_type": "execute_result"
    }
   ],
   "source": [
    "# shuffling\n",
    "tf.random.set_seed(42)\n",
    "shuffled_1 = tf.random.shuffle(tensor_1)\n",
    "shuffled_1, shuffled_1 == tensor_1\n"
   ]
  },
  {
   "cell_type": "markdown",
   "metadata": {
    "id": "aGyqQUmCL8t2"
   },
   "source": [
    "### Other ways to make tensors"
   ]
  },
  {
   "cell_type": "code",
   "execution_count": null,
   "metadata": {
    "colab": {
     "base_uri": "https://localhost:8080/"
    },
    "id": "Eey-ULM0GlSx",
    "outputId": "96be4233-eae8-4b67-a707-ef82e74393c6"
   },
   "outputs": [
    {
     "data": {
      "text/plain": [
       "<tf.Tensor: shape=(3, 3, 3), dtype=float32, numpy=\n",
       "array([[[1., 1., 1.],\n",
       "        [1., 1., 1.],\n",
       "        [1., 1., 1.]],\n",
       "\n",
       "       [[1., 1., 1.],\n",
       "        [1., 1., 1.],\n",
       "        [1., 1., 1.]],\n",
       "\n",
       "       [[1., 1., 1.],\n",
       "        [1., 1., 1.],\n",
       "        [1., 1., 1.]]], dtype=float32)>"
      ]
     },
     "execution_count": 26,
     "metadata": {},
     "output_type": "execute_result"
    }
   ],
   "source": [
    "# Creating tensor of ones\n",
    "tf.ones(shape=(3,3,3))"
   ]
  },
  {
   "cell_type": "code",
   "execution_count": null,
   "metadata": {
    "colab": {
     "base_uri": "https://localhost:8080/"
    },
    "id": "rq7eF_zMGvS_",
    "outputId": "c78fbc64-46a4-4eb4-b5a9-788ebcc2192e"
   },
   "outputs": [
    {
     "data": {
      "text/plain": [
       "<tf.Tensor: shape=(3, 2, 3), dtype=float32, numpy=\n",
       "array([[[0., 0., 0.],\n",
       "        [0., 0., 0.]],\n",
       "\n",
       "       [[0., 0., 0.],\n",
       "        [0., 0., 0.]],\n",
       "\n",
       "       [[0., 0., 0.],\n",
       "        [0., 0., 0.]]], dtype=float32)>"
      ]
     },
     "execution_count": 27,
     "metadata": {},
     "output_type": "execute_result"
    }
   ],
   "source": [
    "# Creating tensor of zeroes\n",
    "tf.zeros(shape=(3,2,3))"
   ]
  },
  {
   "cell_type": "markdown",
   "metadata": {
    "id": "3TXxb5flHCsi"
   },
   "source": [
    "### Turn NumPy Arrays into Tensors\n",
    "\n",
    "The main difference between NumPy arrays and tenorflow is that tensors can be run on GPU in a much faster way."
   ]
  },
  {
   "cell_type": "code",
   "execution_count": null,
   "metadata": {
    "colab": {
     "base_uri": "https://localhost:8080/"
    },
    "id": "MJaW-H6GG5Oc",
    "outputId": "9b6bed87-f90c-44dd-af5f-f5a6b15b6e59"
   },
   "outputs": [
    {
     "data": {
      "text/plain": [
       "array([ 1,  2,  3,  4,  5,  6,  7,  8,  9, 10, 11, 12, 13, 14, 15, 16, 17,\n",
       "       18, 19, 20, 21, 22, 23, 24], dtype=int32)"
      ]
     },
     "execution_count": 28,
     "metadata": {},
     "output_type": "execute_result"
    }
   ],
   "source": [
    "# You can also turn numpy arrays into tensors\n",
    "import numpy as np\n",
    "\n",
    "numpy_A = np.arange(1,25, dtype=np.int32) #create a numpy array with elements from 1 and 25\n",
    "numpy_A\n",
    "\n",
    "# X = tf.constant(some_matrix) Capital for matrix or tensor\n",
    "# y = tf.constant(vector) small letter for vector"
   ]
  },
  {
   "cell_type": "code",
   "execution_count": null,
   "metadata": {
    "colab": {
     "base_uri": "https://localhost:8080/"
    },
    "id": "ydNo9SICH_P1",
    "outputId": "1f0e08f7-11d3-474a-ea6d-67234be3367c"
   },
   "outputs": [
    {
     "data": {
      "text/plain": [
       "<tf.Tensor: shape=(6, 4), dtype=int32, numpy=\n",
       "array([[ 1,  2,  3,  4],\n",
       "       [ 5,  6,  7,  8],\n",
       "       [ 9, 10, 11, 12],\n",
       "       [13, 14, 15, 16],\n",
       "       [17, 18, 19, 20],\n",
       "       [21, 22, 23, 24]], dtype=int32)>"
      ]
     },
     "execution_count": 29,
     "metadata": {},
     "output_type": "execute_result"
    }
   ],
   "source": [
    "A = tf.constant(numpy_A,shape=(6,4))\n",
    "A"
   ]
  },
  {
   "cell_type": "code",
   "execution_count": null,
   "metadata": {
    "colab": {
     "base_uri": "https://localhost:8080/"
    },
    "id": "ADtN3U87ID8Q",
    "outputId": "e78be7d7-e5f1-4851-ff97-23da751d230d"
   },
   "outputs": [
    {
     "data": {
      "text/plain": [
       "<tf.Tensor: shape=(24,), dtype=int32, numpy=\n",
       "array([ 1,  2,  3,  4,  5,  6,  7,  8,  9, 10, 11, 12, 13, 14, 15, 16, 17,\n",
       "       18, 19, 20, 21, 22, 23, 24], dtype=int32)>"
      ]
     },
     "execution_count": 30,
     "metadata": {},
     "output_type": "execute_result"
    }
   ],
   "source": [
    "B = tf.constant(numpy_A)\n",
    "B"
   ]
  },
  {
   "cell_type": "markdown",
   "metadata": {
    "id": "gqCU07ivIV2V"
   },
   "source": [
    "### Getting information from Tensors\n",
    "\n",
    "When dealing with tensors you probably want to be aware of the following attributes.\n",
    "* Shape - tensor.shape\n",
    "* Rank - tensor.ndim\n",
    "* Axis or Dimension - tensor[0], tensor[:,1]...\n",
    "* Size - tf.size(tensor)"
   ]
  },
  {
   "cell_type": "code",
   "execution_count": null,
   "metadata": {
    "colab": {
     "base_uri": "https://localhost:8080/"
    },
    "id": "J27Uye3AI15P",
    "outputId": "ee8be8c5-f786-4e0a-9efc-a620ea073043"
   },
   "outputs": [
    {
     "data": {
      "text/plain": [
       "<tf.Tensor: shape=(2, 3, 4, 5), dtype=float32, numpy=\n",
       "array([[[[0., 0., 0., 0., 0.],\n",
       "         [0., 0., 0., 0., 0.],\n",
       "         [0., 0., 0., 0., 0.],\n",
       "         [0., 0., 0., 0., 0.]],\n",
       "\n",
       "        [[0., 0., 0., 0., 0.],\n",
       "         [0., 0., 0., 0., 0.],\n",
       "         [0., 0., 0., 0., 0.],\n",
       "         [0., 0., 0., 0., 0.]],\n",
       "\n",
       "        [[0., 0., 0., 0., 0.],\n",
       "         [0., 0., 0., 0., 0.],\n",
       "         [0., 0., 0., 0., 0.],\n",
       "         [0., 0., 0., 0., 0.]]],\n",
       "\n",
       "\n",
       "       [[[0., 0., 0., 0., 0.],\n",
       "         [0., 0., 0., 0., 0.],\n",
       "         [0., 0., 0., 0., 0.],\n",
       "         [0., 0., 0., 0., 0.]],\n",
       "\n",
       "        [[0., 0., 0., 0., 0.],\n",
       "         [0., 0., 0., 0., 0.],\n",
       "         [0., 0., 0., 0., 0.],\n",
       "         [0., 0., 0., 0., 0.]],\n",
       "\n",
       "        [[0., 0., 0., 0., 0.],\n",
       "         [0., 0., 0., 0., 0.],\n",
       "         [0., 0., 0., 0., 0.],\n",
       "         [0., 0., 0., 0., 0.]]]], dtype=float32)>"
      ]
     },
     "execution_count": 31,
     "metadata": {},
     "output_type": "execute_result"
    }
   ],
   "source": [
    "# Create a rank 4 tensor\n",
    "rank_4_tensor = tf.zeros((2,3,4,5))\n",
    "rank_4_tensor"
   ]
  },
  {
   "cell_type": "code",
   "execution_count": null,
   "metadata": {
    "colab": {
     "base_uri": "https://localhost:8080/"
    },
    "id": "cFixk1EAKBGN",
    "outputId": "06be136f-c97b-49cf-8bf4-f5afb72b96ca"
   },
   "outputs": [
    {
     "data": {
      "text/plain": [
       "<tf.Tensor: shape=(3, 4, 5), dtype=float32, numpy=\n",
       "array([[[0., 0., 0., 0., 0.],\n",
       "        [0., 0., 0., 0., 0.],\n",
       "        [0., 0., 0., 0., 0.],\n",
       "        [0., 0., 0., 0., 0.]],\n",
       "\n",
       "       [[0., 0., 0., 0., 0.],\n",
       "        [0., 0., 0., 0., 0.],\n",
       "        [0., 0., 0., 0., 0.],\n",
       "        [0., 0., 0., 0., 0.]],\n",
       "\n",
       "       [[0., 0., 0., 0., 0.],\n",
       "        [0., 0., 0., 0., 0.],\n",
       "        [0., 0., 0., 0., 0.],\n",
       "        [0., 0., 0., 0., 0.]]], dtype=float32)>"
      ]
     },
     "execution_count": 32,
     "metadata": {},
     "output_type": "execute_result"
    }
   ],
   "source": [
    "rank_4_tensor[0]"
   ]
  },
  {
   "cell_type": "code",
   "execution_count": null,
   "metadata": {
    "colab": {
     "base_uri": "https://localhost:8080/"
    },
    "id": "BSAKRYA8KkZF",
    "outputId": "76d03600-16e8-40a5-fa0b-327ec91636ea"
   },
   "outputs": [
    {
     "data": {
      "text/plain": [
       "(TensorShape([2, 3, 4, 5]), 4, <tf.Tensor: shape=(), dtype=int32, numpy=120>)"
      ]
     },
     "execution_count": 33,
     "metadata": {},
     "output_type": "execute_result"
    }
   ],
   "source": [
    "rank_4_tensor.shape , rank_4_tensor.ndim, tf.size(rank_4_tensor)"
   ]
  },
  {
   "cell_type": "code",
   "execution_count": null,
   "metadata": {
    "colab": {
     "base_uri": "https://localhost:8080/"
    },
    "id": "uRN9X_ZbK3aH",
    "outputId": "f3550507-2803-45a6-e8e2-6f75468f9bc0"
   },
   "outputs": [
    {
     "name": "stdout",
     "output_type": "stream",
     "text": [
      "DataType of every element :  <dtype: 'float32'>\n",
      "Number of dimensions :  4\n",
      "Shape of tensor :  (2, 3, 4, 5)\n",
      "Elements along the 0 axis :  2\n",
      "Elements along the last axis :  5\n",
      "Total number of elements in our tensor :  tf.Tensor(120, shape=(), dtype=int32)\n",
      "Total number of elements in our tensor :  120\n"
     ]
    }
   ],
   "source": [
    "# Get various attributes of our tensor\n",
    "print(\"DataType of every element : \",rank_4_tensor.dtype)\n",
    "print(\"Number of dimensions : \",rank_4_tensor.ndim)\n",
    "print(\"Shape of tensor : \",rank_4_tensor.shape)\n",
    "print(\"Elements along the 0 axis : \",rank_4_tensor.shape[0])\n",
    "print(\"Elements along the last axis : \",rank_4_tensor.shape[-1])\n",
    "print(\"Total number of elements in our tensor : \",tf.size(rank_4_tensor))\n",
    "print(\"Total number of elements in our tensor : \",tf.size(rank_4_tensor).numpy())"
   ]
  },
  {
   "cell_type": "markdown",
   "metadata": {
    "id": "uFcWbqVvLu62"
   },
   "source": [
    "### Indexing Tensors\n",
    "\n",
    "Tensors can be indexed just like Python lists"
   ]
  },
  {
   "cell_type": "code",
   "execution_count": null,
   "metadata": {
    "colab": {
     "base_uri": "https://localhost:8080/"
    },
    "id": "Bur1ErJ8MXM1",
    "outputId": "90f5ea95-927f-455b-9514-3305d075a446"
   },
   "outputs": [
    {
     "data": {
      "text/plain": [
       "<tf.Tensor: shape=(2, 2, 2, 2), dtype=float32, numpy=\n",
       "array([[[[0., 0.],\n",
       "         [0., 0.]],\n",
       "\n",
       "        [[0., 0.],\n",
       "         [0., 0.]]],\n",
       "\n",
       "\n",
       "       [[[0., 0.],\n",
       "         [0., 0.]],\n",
       "\n",
       "        [[0., 0.],\n",
       "         [0., 0.]]]], dtype=float32)>"
      ]
     },
     "execution_count": 35,
     "metadata": {},
     "output_type": "execute_result"
    }
   ],
   "source": [
    "# Get the first 2 elements of each dimensions\n",
    "rank_4_tensor[:2,:2,:2,:2]"
   ]
  },
  {
   "cell_type": "code",
   "execution_count": null,
   "metadata": {
    "colab": {
     "base_uri": "https://localhost:8080/"
    },
    "id": "3Qsq6bLpMrwY",
    "outputId": "7e024992-0387-4b56-ce0e-09205aab0c1b"
   },
   "outputs": [
    {
     "data": {
      "text/plain": [
       "<tf.Tensor: shape=(1, 1, 1, 5), dtype=float32, numpy=array([[[[0., 0., 0., 0., 0.]]]], dtype=float32)>"
      ]
     },
     "execution_count": 36,
     "metadata": {},
     "output_type": "execute_result"
    }
   ],
   "source": [
    "# Get first element from each dimension from each index except for the final one\n",
    "rank_4_tensor[:1,:1,:1,:]\n"
   ]
  },
  {
   "cell_type": "code",
   "execution_count": null,
   "metadata": {
    "colab": {
     "base_uri": "https://localhost:8080/"
    },
    "id": "96WQLwTXNSS0",
    "outputId": "92ee8842-ac56-4c59-f48a-af90b14e42de"
   },
   "outputs": [
    {
     "data": {
      "text/plain": [
       "<tf.Tensor: shape=(2, 2), dtype=int64, numpy=\n",
       "array([[1, 2],\n",
       "       [3, 4]])>"
      ]
     },
     "execution_count": 37,
     "metadata": {},
     "output_type": "execute_result"
    }
   ],
   "source": [
    "# Create a rank 2 tensor\n",
    "rank_2_tensor = tf.constant(np.arange(1,5), shape=(2,2))\n",
    "rank_2_tensor"
   ]
  },
  {
   "cell_type": "code",
   "execution_count": null,
   "metadata": {
    "colab": {
     "base_uri": "https://localhost:8080/"
    },
    "id": "zwTSlpYbNi9-",
    "outputId": "a779e5f0-dd4d-4e15-f152-123fa3f658eb"
   },
   "outputs": [
    {
     "data": {
      "text/plain": [
       "<tf.Tensor: shape=(2,), dtype=int64, numpy=array([2, 4])>"
      ]
     },
     "execution_count": 38,
     "metadata": {},
     "output_type": "execute_result"
    }
   ],
   "source": [
    "# Get the last item of each row of rank_2_tensor\n",
    "rank_2_tensor[:,-1]"
   ]
  },
  {
   "cell_type": "code",
   "execution_count": null,
   "metadata": {
    "colab": {
     "base_uri": "https://localhost:8080/"
    },
    "id": "X_8h3RhtOY7e",
    "outputId": "3657e890-ac19-40d6-c864-dd731b72f94e"
   },
   "outputs": [
    {
     "data": {
      "text/plain": [
       "<tf.Tensor: shape=(2, 2, 1), dtype=int64, numpy=\n",
       "array([[[1],\n",
       "        [2]],\n",
       "\n",
       "       [[3],\n",
       "        [4]]])>"
      ]
     },
     "execution_count": 39,
     "metadata": {},
     "output_type": "execute_result"
    }
   ],
   "source": [
    "# Adding in extra dimension to our rank 2 tensor\n",
    "rank_3_tensor = rank_2_tensor[...,tf.newaxis]\n",
    "rank_3_tensor"
   ]
  },
  {
   "cell_type": "code",
   "execution_count": null,
   "metadata": {
    "colab": {
     "base_uri": "https://localhost:8080/"
    },
    "id": "6FFpKIQ7PHjx",
    "outputId": "164d6c95-d3a0-45b7-f066-db7a925c4a7b"
   },
   "outputs": [
    {
     "data": {
      "text/plain": [
       "<tf.Tensor: shape=(2, 2, 1), dtype=int64, numpy=\n",
       "array([[[1],\n",
       "        [2]],\n",
       "\n",
       "       [[3],\n",
       "        [4]]])>"
      ]
     },
     "execution_count": 40,
     "metadata": {},
     "output_type": "execute_result"
    }
   ],
   "source": [
    "# Alternative to tf.newaxis\n",
    "tf.expand_dims(rank_2_tensor, axis=-1) #means expand the final axis"
   ]
  },
  {
   "cell_type": "code",
   "execution_count": null,
   "metadata": {
    "colab": {
     "base_uri": "https://localhost:8080/"
    },
    "id": "lytKArvyPqk3",
    "outputId": "757ec274-2766-4baa-c468-1fd2fa262b5c"
   },
   "outputs": [
    {
     "data": {
      "text/plain": [
       "<tf.Tensor: shape=(1, 2, 2), dtype=int64, numpy=\n",
       "array([[[1, 2],\n",
       "        [3, 4]]])>"
      ]
     },
     "execution_count": 41,
     "metadata": {},
     "output_type": "execute_result"
    }
   ],
   "source": [
    "tf.expand_dims(rank_2_tensor, axis=0) # expand the 0 axis"
   ]
  },
  {
   "cell_type": "markdown",
   "metadata": {
    "id": "U_QU0BKIPzfq"
   },
   "source": [
    "### Manipulating Tensors(tensor operations)\n",
    "\n",
    "**Basic Operations**\n",
    "\n",
    "`+ - * /`"
   ]
  },
  {
   "cell_type": "code",
   "execution_count": null,
   "metadata": {
    "colab": {
     "base_uri": "https://localhost:8080/"
    },
    "id": "h_5MHSjdQEce",
    "outputId": "ea07e345-cbba-4899-8429-2fd2e904f47b"
   },
   "outputs": [
    {
     "data": {
      "text/plain": [
       "<tf.Tensor: shape=(2, 2), dtype=int32, numpy=\n",
       "array([[20, 17],\n",
       "       [13, 14]], dtype=int32)>"
      ]
     },
     "execution_count": 42,
     "metadata": {},
     "output_type": "execute_result"
    }
   ],
   "source": [
    "# You can add values into a tensor using addition opertor\n",
    "\n",
    "tensor = tf.constant([[10,7],[3,4]])\n",
    "tensor + 10"
   ]
  },
  {
   "cell_type": "code",
   "execution_count": null,
   "metadata": {
    "colab": {
     "base_uri": "https://localhost:8080/"
    },
    "id": "TduVJH72r1ku",
    "outputId": "3c544867-4f42-4e82-b4db-020c234324af"
   },
   "outputs": [
    {
     "data": {
      "text/plain": [
       "<tf.Tensor: shape=(2, 2), dtype=int32, numpy=\n",
       "array([[10,  7],\n",
       "       [ 3,  4]], dtype=int32)>"
      ]
     },
     "execution_count": 43,
     "metadata": {},
     "output_type": "execute_result"
    }
   ],
   "source": [
    "#original tensor\n",
    "tensor"
   ]
  },
  {
   "cell_type": "code",
   "execution_count": null,
   "metadata": {
    "colab": {
     "base_uri": "https://localhost:8080/"
    },
    "id": "IdSpeO65sBGs",
    "outputId": "b1dcbbaa-9f85-4dbd-daa4-dcf34458680e"
   },
   "outputs": [
    {
     "data": {
      "text/plain": [
       "<tf.Tensor: shape=(2, 2), dtype=int32, numpy=\n",
       "array([[100,  70],\n",
       "       [ 30,  40]], dtype=int32)>"
      ]
     },
     "execution_count": 44,
     "metadata": {},
     "output_type": "execute_result"
    }
   ],
   "source": [
    "# Multiplication\n",
    "\n",
    "tensor * 10"
   ]
  },
  {
   "cell_type": "code",
   "execution_count": null,
   "metadata": {
    "colab": {
     "base_uri": "https://localhost:8080/"
    },
    "id": "W1_tw9RAsGAS",
    "outputId": "2ca1b8d7-a930-4105-fc32-6916e7d8a9ae"
   },
   "outputs": [
    {
     "data": {
      "text/plain": [
       "<tf.Tensor: shape=(2, 2), dtype=int32, numpy=\n",
       "array([[ 0, -3],\n",
       "       [-7, -6]], dtype=int32)>"
      ]
     },
     "execution_count": 45,
     "metadata": {},
     "output_type": "execute_result"
    }
   ],
   "source": [
    "# Subtraction\n",
    "\n",
    "tensor - 10"
   ]
  },
  {
   "cell_type": "code",
   "execution_count": null,
   "metadata": {
    "colab": {
     "base_uri": "https://localhost:8080/"
    },
    "id": "glHRuGWfsJbA",
    "outputId": "5b0c2f4d-778e-475c-90da-95b041c6a1ea"
   },
   "outputs": [
    {
     "data": {
      "text/plain": [
       "<tf.Tensor: shape=(2, 2), dtype=int32, numpy=\n",
       "array([[100,  70],\n",
       "       [ 30,  40]], dtype=int32)>"
      ]
     },
     "execution_count": 46,
     "metadata": {},
     "output_type": "execute_result"
    }
   ],
   "source": [
    "# We can use tensorflow builtin function too\n",
    "tf.multiply(tensor,10)"
   ]
  },
  {
   "cell_type": "code",
   "execution_count": null,
   "metadata": {
    "colab": {
     "base_uri": "https://localhost:8080/"
    },
    "id": "mf3P41_osY6v",
    "outputId": "5569712f-de1b-4f10-d6a5-71b48714c438"
   },
   "outputs": [
    {
     "data": {
      "text/plain": [
       "<tf.Tensor: shape=(2, 2), dtype=int32, numpy=\n",
       "array([[15, 12],\n",
       "       [ 8,  9]], dtype=int32)>"
      ]
     },
     "execution_count": 47,
     "metadata": {},
     "output_type": "execute_result"
    }
   ],
   "source": [
    "tf.math.add(tensor,5)"
   ]
  },
  {
   "cell_type": "code",
   "execution_count": null,
   "metadata": {
    "colab": {
     "base_uri": "https://localhost:8080/"
    },
    "id": "5cIUcqOXskeD",
    "outputId": "0df2e2b6-5f7d-41f0-bee0-3d1f91a69b16"
   },
   "outputs": [
    {
     "data": {
      "text/plain": [
       "<tf.Tensor: shape=(2, 2), dtype=int32, numpy=\n",
       "array([[8, 5],\n",
       "       [1, 2]], dtype=int32)>"
      ]
     },
     "execution_count": 48,
     "metadata": {},
     "output_type": "execute_result"
    }
   ],
   "source": [
    "tf.math.subtract(tensor, 2)"
   ]
  },
  {
   "cell_type": "code",
   "execution_count": null,
   "metadata": {
    "colab": {
     "base_uri": "https://localhost:8080/"
    },
    "id": "VyOkbqd_s6B_",
    "outputId": "5293d327-502b-4b7d-d0cb-38dd0d63af77"
   },
   "outputs": [
    {
     "data": {
      "text/plain": [
       "<tf.Tensor: shape=(2, 2), dtype=float64, numpy=\n",
       "array([[5. , 3.5],\n",
       "       [1.5, 2. ]])>"
      ]
     },
     "execution_count": 49,
     "metadata": {},
     "output_type": "execute_result"
    }
   ],
   "source": [
    "tf.math.divide(tensor,2)"
   ]
  },
  {
   "cell_type": "markdown",
   "metadata": {
    "id": "frRMzDhCtBYR"
   },
   "source": [
    "### Matrix Multiplication(Tensor Multiplication)\n",
    "\n",
    "In machine learning, matrix multiplication is one of the most tensor operations.\n",
    "\n",
    "There are 2 rules the matrices need to fullfill if we are going to matrix multiply them.\n",
    "1. The inner dimensions must match\n",
    "2. The resulting matrix has the shape of outer dimension"
   ]
  },
  {
   "cell_type": "code",
   "execution_count": null,
   "metadata": {
    "colab": {
     "base_uri": "https://localhost:8080/"
    },
    "id": "QSNIcsUzs9Kd",
    "outputId": "a74491f9-3475-4f2a-88cd-b4a51afec579"
   },
   "outputs": [
    {
     "name": "stdout",
     "output_type": "stream",
     "text": [
      "tf.Tensor(\n",
      "[[10  7]\n",
      " [ 3  4]], shape=(2, 2), dtype=int32)\n"
     ]
    },
    {
     "data": {
      "text/plain": [
       "<tf.Tensor: shape=(2, 2), dtype=int32, numpy=\n",
       "array([[121,  98],\n",
       "       [ 42,  37]], dtype=int32)>"
      ]
     },
     "execution_count": 50,
     "metadata": {},
     "output_type": "execute_result"
    }
   ],
   "source": [
    "# Matrix multiplication in tensorflow\n",
    "print(tensor)\n",
    "tf.matmul(tensor, tensor)"
   ]
  },
  {
   "cell_type": "code",
   "execution_count": null,
   "metadata": {
    "colab": {
     "base_uri": "https://localhost:8080/"
    },
    "id": "jx0Ha1mnuO92",
    "outputId": "2bdc7721-1607-44dd-910a-52144e06c9a1"
   },
   "outputs": [
    {
     "data": {
      "text/plain": [
       "<tf.Tensor: shape=(2, 2), dtype=int32, numpy=\n",
       "array([[121,  98],\n",
       "       [ 42,  37]], dtype=int32)>"
      ]
     },
     "execution_count": 51,
     "metadata": {},
     "output_type": "execute_result"
    }
   ],
   "source": [
    "# Matrix multiplication with python using @ operator\n",
    "tensor @ tensor"
   ]
  },
  {
   "cell_type": "code",
   "execution_count": null,
   "metadata": {
    "colab": {
     "base_uri": "https://localhost:8080/"
    },
    "id": "urQ7jEp5uhUk",
    "outputId": "2a60f1c8-45a6-4905-a5d0-1449ced66c42"
   },
   "outputs": [
    {
     "data": {
      "text/plain": [
       "(<tf.Tensor: shape=(3, 3), dtype=int32, numpy=\n",
       " array([[1, 2, 5],\n",
       "        [7, 2, 1],\n",
       "        [3, 3, 3]], dtype=int32)>,\n",
       " <tf.Tensor: shape=(3, 2), dtype=int32, numpy=\n",
       " array([[3, 5],\n",
       "        [6, 7],\n",
       "        [1, 8]], dtype=int32)>)"
      ]
     },
     "execution_count": 52,
     "metadata": {},
     "output_type": "execute_result"
    }
   ],
   "source": [
    "# Example\n",
    "matrix_One = tf.constant([[1,2,5],[7,2,1],[3,3,3]])\n",
    "matrix_Two = tf.constant([[3,5],[6,7],[1,8]])\n",
    "\n",
    "matrix_One, matrix_Two"
   ]
  },
  {
   "cell_type": "code",
   "execution_count": null,
   "metadata": {
    "colab": {
     "base_uri": "https://localhost:8080/"
    },
    "id": "_FaU7Gbqu-D6",
    "outputId": "0c4dd6da-fe02-4c03-84a0-33966fe6c4c2"
   },
   "outputs": [
    {
     "data": {
      "text/plain": [
       "<tf.Tensor: shape=(3, 2), dtype=int32, numpy=\n",
       "array([[20, 59],\n",
       "       [34, 57],\n",
       "       [30, 60]], dtype=int32)>"
      ]
     },
     "execution_count": 53,
     "metadata": {},
     "output_type": "execute_result"
    }
   ],
   "source": [
    "tf.matmul(matrix_One, matrix_Two)"
   ]
  },
  {
   "cell_type": "code",
   "execution_count": null,
   "metadata": {
    "colab": {
     "base_uri": "https://localhost:8080/"
    },
    "id": "3k7SMoHYvCgj",
    "outputId": "2b2af399-1bd1-4638-c9ca-a7b83573ad48"
   },
   "outputs": [
    {
     "data": {
      "text/plain": [
       "TensorShape([2, 2])"
      ]
     },
     "execution_count": 54,
     "metadata": {},
     "output_type": "execute_result"
    }
   ],
   "source": [
    "tensor.shape"
   ]
  },
  {
   "cell_type": "code",
   "execution_count": null,
   "metadata": {
    "colab": {
     "base_uri": "https://localhost:8080/"
    },
    "id": "Um8g3aYDvSIv",
    "outputId": "923b29e7-93b7-4384-d768-fb2916986557"
   },
   "outputs": [
    {
     "data": {
      "text/plain": [
       "(<tf.Tensor: shape=(3, 2), dtype=int64, numpy=\n",
       " array([[1, 2],\n",
       "        [3, 4],\n",
       "        [5, 6]])>,\n",
       " <tf.Tensor: shape=(3, 2), dtype=int64, numpy=\n",
       " array([[ 7,  8],\n",
       "        [ 9, 10],\n",
       "        [11, 12]])>)"
      ]
     },
     "execution_count": 55,
     "metadata": {},
     "output_type": "execute_result"
    }
   ],
   "source": [
    "X = tf.constant(np.arange(1,7), shape=(3,2))\n",
    "Y = tf.constant(np.arange(7,13), shape=(3,2))\n",
    "X,Y"
   ]
  },
  {
   "cell_type": "code",
   "execution_count": null,
   "metadata": {
    "colab": {
     "base_uri": "https://localhost:8080/"
    },
    "id": "JBL3h_wkwq6k",
    "outputId": "0a7380da-899c-4591-a834-d249999060b7"
   },
   "outputs": [
    {
     "data": {
      "text/plain": [
       "<tf.Tensor: shape=(3, 2), dtype=int64, numpy=\n",
       "array([[1, 2],\n",
       "       [3, 4],\n",
       "       [5, 6]])>"
      ]
     },
     "execution_count": 56,
     "metadata": {},
     "output_type": "execute_result"
    }
   ],
   "source": [
    "X"
   ]
  },
  {
   "cell_type": "code",
   "execution_count": null,
   "metadata": {
    "colab": {
     "base_uri": "https://localhost:8080/"
    },
    "id": "I4m5E9oexloL",
    "outputId": "7a6a275a-e704-4ac4-c309-18fb1e7a7e1a"
   },
   "outputs": [
    {
     "data": {
      "text/plain": [
       "<tf.Tensor: shape=(2, 3), dtype=int64, numpy=\n",
       "array([[ 7,  8,  9],\n",
       "       [10, 11, 12]])>"
      ]
     },
     "execution_count": 57,
     "metadata": {},
     "output_type": "execute_result"
    }
   ],
   "source": [
    "# Let's change the shape of Y\n",
    "tf.reshape(Y, shape=(2,3))"
   ]
  },
  {
   "cell_type": "code",
   "execution_count": null,
   "metadata": {
    "colab": {
     "base_uri": "https://localhost:8080/"
    },
    "id": "9_T-TSSJzLxn",
    "outputId": "b2558b54-e930-4b4a-fc78-0cc617f666b8"
   },
   "outputs": [
    {
     "data": {
      "text/plain": [
       "<tf.Tensor: shape=(3, 3), dtype=int64, numpy=\n",
       "array([[ 27,  30,  33],\n",
       "       [ 61,  68,  75],\n",
       "       [ 95, 106, 117]])>"
      ]
     },
     "execution_count": 58,
     "metadata": {},
     "output_type": "execute_result"
    }
   ],
   "source": [
    "# Try to multiply X with reshaped Y\n",
    "X @ tf.reshape(Y, shape=(2,3))"
   ]
  },
  {
   "cell_type": "code",
   "execution_count": null,
   "metadata": {
    "colab": {
     "base_uri": "https://localhost:8080/"
    },
    "id": "qrNxSLNmzY1e",
    "outputId": "c1fd182e-29d0-4915-a1e0-903f071730fe"
   },
   "outputs": [
    {
     "data": {
      "text/plain": [
       "<tf.Tensor: shape=(2, 2), dtype=int64, numpy=\n",
       "array([[ 58,  64],\n",
       "       [139, 154]])>"
      ]
     },
     "execution_count": 59,
     "metadata": {},
     "output_type": "execute_result"
    }
   ],
   "source": [
    "# Try reshaping X\n",
    "tf.matmul(tf.reshape(X, shape=(2,3)), Y)"
   ]
  },
  {
   "cell_type": "code",
   "execution_count": null,
   "metadata": {
    "colab": {
     "base_uri": "https://localhost:8080/"
    },
    "id": "hSKbs-cbzx3c",
    "outputId": "9189ce27-36c0-46f8-8e17-b0985051b04a"
   },
   "outputs": [
    {
     "data": {
      "text/plain": [
       "(TensorShape([2, 3]), TensorShape([3, 2]))"
      ]
     },
     "execution_count": 60,
     "metadata": {},
     "output_type": "execute_result"
    }
   ],
   "source": [
    "tf.reshape(X, shape=(2,3)).shape , Y.shape"
   ]
  },
  {
   "cell_type": "code",
   "execution_count": null,
   "metadata": {
    "colab": {
     "base_uri": "https://localhost:8080/"
    },
    "id": "vduLUJ9y0Fz1",
    "outputId": "dd1325d8-9d74-46b7-f211-3e350070bc58"
   },
   "outputs": [
    {
     "data": {
      "text/plain": [
       "(<tf.Tensor: shape=(3, 2), dtype=int64, numpy=\n",
       " array([[1, 2],\n",
       "        [3, 4],\n",
       "        [5, 6]])>,\n",
       " <tf.Tensor: shape=(2, 3), dtype=int64, numpy=\n",
       " array([[1, 3, 5],\n",
       "        [2, 4, 6]])>,\n",
       " <tf.Tensor: shape=(2, 3), dtype=int64, numpy=\n",
       " array([[1, 2, 3],\n",
       "        [4, 5, 6]])>)"
      ]
     },
     "execution_count": 61,
     "metadata": {},
     "output_type": "execute_result"
    }
   ],
   "source": [
    "# Can do the same with Transpose\n",
    "X, tf.transpose(X), tf.reshape(X, shape=(2,3))"
   ]
  },
  {
   "cell_type": "code",
   "execution_count": null,
   "metadata": {
    "colab": {
     "base_uri": "https://localhost:8080/"
    },
    "id": "EqJe5chT0VDR",
    "outputId": "66045428-12d5-48f1-8a6b-23b23a111e7f"
   },
   "outputs": [
    {
     "data": {
      "text/plain": [
       "<tf.Tensor: shape=(2, 2), dtype=int64, numpy=\n",
       "array([[ 89,  98],\n",
       "       [116, 128]])>"
      ]
     },
     "execution_count": 62,
     "metadata": {},
     "output_type": "execute_result"
    }
   ],
   "source": [
    "# Try matrix multiplication with transpose\n",
    "tf.matmul(tf.transpose(X), Y)"
   ]
  },
  {
   "cell_type": "markdown",
   "metadata": {
    "id": "yqjq4PWf1Xgc"
   },
   "source": [
    "**The dot product**\n",
    "Matrix multiplication is also reffered to as dot product\n",
    "\n",
    "You can perform matrix multiplication using:\n",
    "* `tf.matmul()`\n",
    "* `tf.tensordot()`\n"
   ]
  },
  {
   "cell_type": "code",
   "execution_count": null,
   "metadata": {
    "colab": {
     "base_uri": "https://localhost:8080/"
    },
    "id": "_9CyV0JZ2C2Q",
    "outputId": "db604236-2e11-4d4a-b491-dbcecc169635"
   },
   "outputs": [
    {
     "data": {
      "text/plain": [
       "(<tf.Tensor: shape=(3, 2), dtype=int64, numpy=\n",
       " array([[1, 2],\n",
       "        [3, 4],\n",
       "        [5, 6]])>,\n",
       " <tf.Tensor: shape=(3, 2), dtype=int64, numpy=\n",
       " array([[ 7,  8],\n",
       "        [ 9, 10],\n",
       "        [11, 12]])>)"
      ]
     },
     "execution_count": 63,
     "metadata": {},
     "output_type": "execute_result"
    }
   ],
   "source": [
    "X,Y"
   ]
  },
  {
   "cell_type": "code",
   "execution_count": null,
   "metadata": {
    "colab": {
     "base_uri": "https://localhost:8080/"
    },
    "id": "03gDVd6y01H-",
    "outputId": "b226b3a5-f5ad-4692-d2b6-e2f9e3a2cbbe"
   },
   "outputs": [
    {
     "data": {
      "text/plain": [
       "<tf.Tensor: shape=(2, 2), dtype=int64, numpy=\n",
       "array([[ 89,  98],\n",
       "       [116, 128]])>"
      ]
     },
     "execution_count": 64,
     "metadata": {},
     "output_type": "execute_result"
    }
   ],
   "source": [
    "# Perform the dot product on X and Y (requires X or Y to be transposed)\n",
    "tf.tensordot(tf.transpose(X),Y, axes=1)"
   ]
  },
  {
   "cell_type": "code",
   "execution_count": null,
   "metadata": {
    "colab": {
     "base_uri": "https://localhost:8080/"
    },
    "id": "bXh3NVGK2JeQ",
    "outputId": "38566fef-aa8f-4009-9913-951988a574b2"
   },
   "outputs": [
    {
     "data": {
      "text/plain": [
       "<tf.Tensor: shape=(3, 3), dtype=int64, numpy=\n",
       "array([[ 23,  29,  35],\n",
       "       [ 53,  67,  81],\n",
       "       [ 83, 105, 127]])>"
      ]
     },
     "execution_count": 65,
     "metadata": {},
     "output_type": "execute_result"
    }
   ],
   "source": [
    "# Perform matrix multiplication between X and Y(transposed)\n",
    "tf.matmul(X, tf.transpose(Y))"
   ]
  },
  {
   "cell_type": "code",
   "execution_count": null,
   "metadata": {
    "colab": {
     "base_uri": "https://localhost:8080/"
    },
    "id": "1GvuSeNz2eq4",
    "outputId": "f9b0c626-6bfd-4845-c1e8-ddb4cac2a947"
   },
   "outputs": [
    {
     "data": {
      "text/plain": [
       "<tf.Tensor: shape=(3, 3), dtype=int64, numpy=\n",
       "array([[ 27,  30,  33],\n",
       "       [ 61,  68,  75],\n",
       "       [ 95, 106, 117]])>"
      ]
     },
     "execution_count": 66,
     "metadata": {},
     "output_type": "execute_result"
    }
   ],
   "source": [
    "# Perform matrix multiplication between X and Y(reshaped)\n",
    "tf.matmul(X, tf.reshape(Y, shape=(2,3)))"
   ]
  },
  {
   "cell_type": "code",
   "execution_count": null,
   "metadata": {
    "colab": {
     "base_uri": "https://localhost:8080/"
    },
    "id": "P9xGUCWb2rAQ",
    "outputId": "bd52e4f3-73fd-4159-a27b-56b6355d8a8f"
   },
   "outputs": [
    {
     "name": "stdout",
     "output_type": "stream",
     "text": [
      "Normal : \n",
      "tf.Tensor(\n",
      "[[ 7  8]\n",
      " [ 9 10]\n",
      " [11 12]], shape=(3, 2), dtype=int64) \n",
      "\n",
      "Y reshaped to (2,3): \n",
      "tf.Tensor(\n",
      "[[ 7  8  9]\n",
      " [10 11 12]], shape=(2, 3), dtype=int64) \n",
      "\n",
      "Y transposed\n",
      "tf.Tensor(\n",
      "[[ 7  9 11]\n",
      " [ 8 10 12]], shape=(2, 3), dtype=int64)\n"
     ]
    }
   ],
   "source": [
    "# Check the values of Y, reshape Y and transposed Y\n",
    "print(\"Normal : \")\n",
    "print(Y,\"\\n\")\n",
    "print(\"Y reshaped to (2,3): \")\n",
    "print(tf.reshape(Y,(2,3)),\"\\n\")\n",
    "\n",
    "print(\"Y transposed\")\n",
    "print(tf.transpose(Y))"
   ]
  },
  {
   "cell_type": "code",
   "execution_count": null,
   "metadata": {
    "colab": {
     "base_uri": "https://localhost:8080/"
    },
    "id": "Oq7JxZ963Q08",
    "outputId": "7e153964-2ea8-4f9b-b004-785768b8a55e"
   },
   "outputs": [
    {
     "data": {
      "text/plain": [
       "<tf.Tensor: shape=(3, 3), dtype=int64, numpy=\n",
       "array([[ 27,  30,  33],\n",
       "       [ 61,  68,  75],\n",
       "       [ 95, 106, 117]])>"
      ]
     },
     "execution_count": 68,
     "metadata": {},
     "output_type": "execute_result"
    }
   ],
   "source": [
    "tf.matmul(X, tf.reshape(Y, shape=(2,3)))"
   ]
  },
  {
   "cell_type": "markdown",
   "metadata": {
    "id": "IBtd5CB430O1"
   },
   "source": [
    "**NOTE:** Generally when performing matrix multiplication on two tensors and one of the axes doesn't line up you will generally transpose rather than reshape one of the tensors to satisfy the matrix multiplication condition."
   ]
  },
  {
   "cell_type": "markdown",
   "metadata": {
    "id": "gb8uwH-94ZrQ"
   },
   "source": [
    "### Changing the datatype of a tensor"
   ]
  },
  {
   "cell_type": "code",
   "execution_count": null,
   "metadata": {
    "colab": {
     "base_uri": "https://localhost:8080/"
    },
    "id": "eH7629qD3ssB",
    "outputId": "8a8ca85f-a643-4698-f6e5-54855e8eca70"
   },
   "outputs": [
    {
     "data": {
      "text/plain": [
       "tf.float32"
      ]
     },
     "execution_count": 69,
     "metadata": {},
     "output_type": "execute_result"
    }
   ],
   "source": [
    "# Changing a new tensor with default datatype(float32)\n",
    "B = tf.constant([1.7,7.4])\n",
    "B.dtype"
   ]
  },
  {
   "cell_type": "code",
   "execution_count": null,
   "metadata": {
    "colab": {
     "base_uri": "https://localhost:8080/"
    },
    "id": "5ZYAFliIqCob",
    "outputId": "281dfb7b-02dd-4805-f938-7fbd3cf5ca12"
   },
   "outputs": [
    {
     "data": {
      "text/plain": [
       "tf.int32"
      ]
     },
     "execution_count": 70,
     "metadata": {},
     "output_type": "execute_result"
    }
   ],
   "source": [
    "C = tf.constant([7,10])\n",
    "C.dtype"
   ]
  },
  {
   "cell_type": "code",
   "execution_count": null,
   "metadata": {
    "colab": {
     "base_uri": "https://localhost:8080/"
    },
    "id": "Lu3tGRwwp4Wx",
    "outputId": "ae6a9a1c-f846-4594-9798-97d7856de359"
   },
   "outputs": [
    {
     "data": {
      "text/plain": [
       "(<tf.Tensor: shape=(2,), dtype=float16, numpy=array([1.7, 7.4], dtype=float16)>,\n",
       " tf.float16)"
      ]
     },
     "execution_count": 71,
     "metadata": {},
     "output_type": "execute_result"
    }
   ],
   "source": [
    "# Change from float32 to float16 (reduced precision)\n",
    "D = tf.cast(B, dtype=tf.float16)\n",
    "D, D.dtype"
   ]
  },
  {
   "cell_type": "code",
   "execution_count": null,
   "metadata": {
    "colab": {
     "base_uri": "https://localhost:8080/"
    },
    "id": "2bwZV9hyq2oc",
    "outputId": "ed35cba8-4204-46f3-e3a0-f20a4a75749f"
   },
   "outputs": [
    {
     "data": {
      "text/plain": [
       "<tf.Tensor: shape=(2,), dtype=float32, numpy=array([ 7., 10.], dtype=float32)>"
      ]
     },
     "execution_count": 72,
     "metadata": {},
     "output_type": "execute_result"
    }
   ],
   "source": [
    "# chnage from int32 to float32\n",
    "E = tf.cast(C, dtype=tf.float32)\n",
    "E"
   ]
  },
  {
   "cell_type": "code",
   "execution_count": null,
   "metadata": {
    "colab": {
     "base_uri": "https://localhost:8080/"
    },
    "id": "NkFB92x6rQ5i",
    "outputId": "f19013e8-de8c-4cac-8875-c63e60233537"
   },
   "outputs": [
    {
     "data": {
      "text/plain": [
       "<tf.Tensor: shape=(2,), dtype=float16, numpy=array([ 7., 10.], dtype=float16)>"
      ]
     },
     "execution_count": 73,
     "metadata": {},
     "output_type": "execute_result"
    }
   ],
   "source": [
    "E_float16 = tf.cast(E, dtype=tf.float16)\n",
    "E_float16"
   ]
  },
  {
   "cell_type": "markdown",
   "metadata": {
    "id": "sqNHh6u3riiH"
   },
   "source": [
    "### Aggregating Tensors\n",
    "\n",
    "Aggregating tensors = condensing them from multiple values down to a smaller amount of values.\n"
   ]
  },
  {
   "cell_type": "code",
   "execution_count": null,
   "metadata": {
    "colab": {
     "base_uri": "https://localhost:8080/"
    },
    "id": "oneRoNtXrb5Y",
    "outputId": "8a3a914c-f588-417d-ba62-afbecbf782ab"
   },
   "outputs": [
    {
     "data": {
      "text/plain": [
       "<tf.Tensor: shape=(2,), dtype=int32, numpy=array([ -7, -10], dtype=int32)>"
      ]
     },
     "execution_count": 74,
     "metadata": {},
     "output_type": "execute_result"
    }
   ],
   "source": [
    "# Getting the absolute values\n",
    "D = tf.constant([-7,-10])\n",
    "D"
   ]
  },
  {
   "cell_type": "code",
   "execution_count": null,
   "metadata": {
    "colab": {
     "base_uri": "https://localhost:8080/"
    },
    "id": "ffFg_zvnsedT",
    "outputId": "f28c3c5e-361a-4645-f0a2-6dcc7825b579"
   },
   "outputs": [
    {
     "data": {
      "text/plain": [
       "<tf.Tensor: shape=(2,), dtype=int32, numpy=array([ 7, 10], dtype=int32)>"
      ]
     },
     "execution_count": 75,
     "metadata": {},
     "output_type": "execute_result"
    }
   ],
   "source": [
    "tf.abs(D)"
   ]
  },
  {
   "cell_type": "markdown",
   "metadata": {
    "id": "L2qfVsYLsuAz"
   },
   "source": [
    "Let's go through the following forms of aggreagation:\n",
    "* Minumum of tensor\n",
    "* Maximum of a tensor\n",
    "* Mean of a tensor\n",
    "* Sum of a tensor"
   ]
  },
  {
   "cell_type": "code",
   "execution_count": null,
   "metadata": {
    "colab": {
     "base_uri": "https://localhost:8080/"
    },
    "id": "GrKjBBEnsjjR",
    "outputId": "15e995b4-8c9d-469e-bb8b-c228ed9f6de8"
   },
   "outputs": [
    {
     "data": {
      "text/plain": [
       "<tf.Tensor: shape=(5, 4), dtype=int64, numpy=\n",
       "array([[ 9, 10, 11, 12],\n",
       "       [ 1,  2,  3,  4],\n",
       "       [17, 18, 19, 20],\n",
       "       [13, 14, 15, 16],\n",
       "       [ 5,  6,  7,  8]])>"
      ]
     },
     "execution_count": 76,
     "metadata": {},
     "output_type": "execute_result"
    }
   ],
   "source": [
    "tf.random.set_seed(42)\n",
    "new_Tensor = tf.constant(np.arange(1,21), shape=(5,4))\n",
    "new_Tensor = tf.random.shuffle(new_Tensor)\n",
    "new_Tensor"
   ]
  },
  {
   "cell_type": "code",
   "execution_count": null,
   "metadata": {
    "colab": {
     "base_uri": "https://localhost:8080/"
    },
    "id": "o2_kdSsatbQB",
    "outputId": "4d28e1d9-cfef-4f02-a7ee-ff64f553369c"
   },
   "outputs": [
    {
     "data": {
      "text/plain": [
       "<tf.Tensor: shape=(5, 4), dtype=int64, numpy=\n",
       "array([[13, 12, 11, 10],\n",
       "       [21, 20, 19, 18],\n",
       "       [ 5,  4,  3,  2],\n",
       "       [ 9,  8,  7,  6],\n",
       "       [17, 16, 15, 14]])>"
      ]
     },
     "execution_count": 77,
     "metadata": {},
     "output_type": "execute_result"
    }
   ],
   "source": [
    "tf.random.set_seed(42)\n",
    "new_Tensor2 = tf.constant(np.arange(21,1,-1), shape=(5,4))\n",
    "new_Tensor2 = tf.random.shuffle(new_Tensor2)\n",
    "new_Tensor2"
   ]
  },
  {
   "cell_type": "code",
   "execution_count": null,
   "metadata": {
    "colab": {
     "base_uri": "https://localhost:8080/"
    },
    "id": "g_DTCM8dtT4V",
    "outputId": "2ff7eb8c-297b-478b-df41-650fc41ac0f7"
   },
   "outputs": [
    {
     "data": {
      "text/plain": [
       "<tf.Tensor: shape=(5, 4), dtype=int64, numpy=\n",
       "array([[ 9, 10, 11, 10],\n",
       "       [ 1,  2,  3,  4],\n",
       "       [ 5,  4,  3,  2],\n",
       "       [ 9,  8,  7,  6],\n",
       "       [ 5,  6,  7,  8]])>"
      ]
     },
     "execution_count": 78,
     "metadata": {},
     "output_type": "execute_result"
    }
   ],
   "source": [
    "#compairing 2 tensors for min\n",
    "tf.math.minimum(new_Tensor, new_Tensor2)"
   ]
  },
  {
   "cell_type": "code",
   "execution_count": null,
   "metadata": {
    "colab": {
     "base_uri": "https://localhost:8080/"
    },
    "id": "_5YZGvXvuUKP",
    "outputId": "874d4ac1-1381-44be-a871-2e0977d30059"
   },
   "outputs": [
    {
     "data": {
      "text/plain": [
       "<tf.Tensor: shape=(5, 4), dtype=int64, numpy=\n",
       "array([[13, 12, 11, 12],\n",
       "       [21, 20, 19, 18],\n",
       "       [17, 18, 19, 20],\n",
       "       [13, 14, 15, 16],\n",
       "       [17, 16, 15, 14]])>"
      ]
     },
     "execution_count": 79,
     "metadata": {},
     "output_type": "execute_result"
    }
   ],
   "source": [
    "# Compairing two tensors for max\n",
    "tf.math.maximum(new_Tensor, new_Tensor2)"
   ]
  },
  {
   "cell_type": "code",
   "execution_count": null,
   "metadata": {
    "colab": {
     "base_uri": "https://localhost:8080/"
    },
    "id": "DqqGdRaLvKDX",
    "outputId": "2ea5efb1-c372-4196-ff91-cb99535b03ff"
   },
   "outputs": [
    {
     "data": {
      "text/plain": [
       "<tf.Tensor: shape=(), dtype=int64, numpy=1>"
      ]
     },
     "execution_count": 80,
     "metadata": {},
     "output_type": "execute_result"
    }
   ],
   "source": [
    "#computing the min of a tensor\n",
    "tf.math.reduce_min(new_Tensor)"
   ]
  },
  {
   "cell_type": "code",
   "execution_count": null,
   "metadata": {
    "colab": {
     "base_uri": "https://localhost:8080/"
    },
    "id": "VqDOhGPEvO4a",
    "outputId": "a25242be-a2f0-4aa3-ac2a-d5c095272b40"
   },
   "outputs": [
    {
     "data": {
      "text/plain": [
       "<tf.Tensor: shape=(1, 1), dtype=int64, numpy=array([[1]])>"
      ]
     },
     "execution_count": 81,
     "metadata": {},
     "output_type": "execute_result"
    }
   ],
   "source": [
    "# computing the min of a tensor by keeping the dimension\n",
    "tf.math.reduce_min(new_Tensor,keepdims=True)"
   ]
  },
  {
   "cell_type": "code",
   "execution_count": null,
   "metadata": {
    "colab": {
     "base_uri": "https://localhost:8080/"
    },
    "id": "Kx02P2mmv_XY",
    "outputId": "460f0795-3697-44ec-bb67-ad14dc5bd26f"
   },
   "outputs": [
    {
     "data": {
      "text/plain": [
       "<tf.Tensor: shape=(), dtype=int64, numpy=21>"
      ]
     },
     "execution_count": 82,
     "metadata": {},
     "output_type": "execute_result"
    }
   ],
   "source": [
    "# Finding the max of a tensor\n",
    "tf.math.reduce_max(new_Tensor2)"
   ]
  },
  {
   "cell_type": "code",
   "execution_count": null,
   "metadata": {
    "colab": {
     "base_uri": "https://localhost:8080/"
    },
    "id": "n18fxBr8wIbH",
    "outputId": "68b2c565-4529-408a-c6d5-c17f7688d8b7"
   },
   "outputs": [
    {
     "data": {
      "text/plain": [
       "<tf.Tensor: shape=(1, 1), dtype=int64, numpy=array([[21]])>"
      ]
     },
     "execution_count": 83,
     "metadata": {},
     "output_type": "execute_result"
    }
   ],
   "source": [
    "# Finding the max of a tensor by keeping dimensions\n",
    "tf.math.reduce_max(new_Tensor2, keepdims=True)"
   ]
  },
  {
   "cell_type": "code",
   "execution_count": null,
   "metadata": {
    "colab": {
     "base_uri": "https://localhost:8080/"
    },
    "id": "4r2AEFtawRgx",
    "outputId": "95c77141-ad6d-41c5-b6e5-b67dfe32429d"
   },
   "outputs": [
    {
     "data": {
      "text/plain": [
       "<tf.Tensor: shape=(), dtype=int64, numpy=10>"
      ]
     },
     "execution_count": 84,
     "metadata": {},
     "output_type": "execute_result"
    }
   ],
   "source": [
    "#Finding the mean of a tensor\n",
    "tf.math.reduce_mean(new_Tensor)"
   ]
  },
  {
   "cell_type": "code",
   "execution_count": null,
   "metadata": {
    "colab": {
     "base_uri": "https://localhost:8080/"
    },
    "id": "MOSLuY4cwdJZ",
    "outputId": "531c31b9-54fc-45cd-bb1a-1cbb3844d0a8"
   },
   "outputs": [
    {
     "data": {
      "text/plain": [
       "<tf.Tensor: shape=(5,), dtype=int64, numpy=array([10,  2, 18, 14,  6])>"
      ]
     },
     "execution_count": 85,
     "metadata": {},
     "output_type": "execute_result"
    }
   ],
   "source": [
    "# finding the mean of tensor among axis1\n",
    "tf.math.reduce_mean(new_Tensor, axis=1)"
   ]
  },
  {
   "cell_type": "code",
   "execution_count": null,
   "metadata": {
    "colab": {
     "base_uri": "https://localhost:8080/"
    },
    "id": "LEBmMZldwn5P",
    "outputId": "7a5f56c0-a09a-420c-f3d1-3deb7c425547"
   },
   "outputs": [
    {
     "data": {
      "text/plain": [
       "<tf.Tensor: shape=(4,), dtype=int64, numpy=array([ 9, 10, 11, 12])>"
      ]
     },
     "execution_count": 86,
     "metadata": {},
     "output_type": "execute_result"
    }
   ],
   "source": [
    "# finding the mean of tensor along axis 0\n",
    "tf.math.reduce_mean(new_Tensor, axis=0)"
   ]
  },
  {
   "cell_type": "code",
   "execution_count": null,
   "metadata": {
    "colab": {
     "base_uri": "https://localhost:8080/"
    },
    "id": "xptnSEi3wxtm",
    "outputId": "57e72cc2-4acd-486f-e5fb-9b1bfbfa67fd"
   },
   "outputs": [
    {
     "data": {
      "text/plain": [
       "<tf.Tensor: shape=(1, 1), dtype=int64, numpy=array([[10]])>"
      ]
     },
     "execution_count": 87,
     "metadata": {},
     "output_type": "execute_result"
    }
   ],
   "source": [
    "# Keeping the dimensions of original tensor when finding mean\n",
    "tf.math.reduce_mean(new_Tensor, keepdims=True)"
   ]
  },
  {
   "cell_type": "code",
   "execution_count": null,
   "metadata": {
    "colab": {
     "base_uri": "https://localhost:8080/"
    },
    "id": "7HHXHnOCw8Yj",
    "outputId": "e30c3c85-8842-4577-b1f7-8d067735836c"
   },
   "outputs": [
    {
     "data": {
      "text/plain": [
       "<tf.Tensor: shape=(), dtype=int64, numpy=230>"
      ]
     },
     "execution_count": 88,
     "metadata": {},
     "output_type": "execute_result"
    }
   ],
   "source": [
    "# finding the sum of elements in a tensor\n",
    "tf.math.reduce_sum(new_Tensor2)"
   ]
  },
  {
   "cell_type": "code",
   "execution_count": null,
   "metadata": {
    "colab": {
     "base_uri": "https://localhost:8080/"
    },
    "id": "ag0Cv7M5xKKy",
    "outputId": "f9d8436f-2d62-4d02-e313-d5eddd5b047d"
   },
   "outputs": [
    {
     "data": {
      "text/plain": [
       "<tf.Tensor: shape=(4,), dtype=int64, numpy=array([65, 60, 55, 50])>"
      ]
     },
     "execution_count": 89,
     "metadata": {},
     "output_type": "execute_result"
    }
   ],
   "source": [
    "# finding the sum of tensor along axis 0\n",
    "tf.math.reduce_sum(new_Tensor2, axis=0)"
   ]
  },
  {
   "cell_type": "code",
   "execution_count": null,
   "metadata": {
    "colab": {
     "base_uri": "https://localhost:8080/"
    },
    "id": "odXG4pRxxUpb",
    "outputId": "692befd8-5d1c-460c-fc6e-a6e843272901"
   },
   "outputs": [
    {
     "data": {
      "text/plain": [
       "<tf.Tensor: shape=(5,), dtype=int64, numpy=array([46, 78, 14, 30, 62])>"
      ]
     },
     "execution_count": 90,
     "metadata": {},
     "output_type": "execute_result"
    }
   ],
   "source": [
    "# finding the sum of tensor along axis1\n",
    "tf.math.reduce_sum(new_Tensor2, axis=1)"
   ]
  },
  {
   "cell_type": "code",
   "execution_count": null,
   "metadata": {
    "colab": {
     "base_uri": "https://localhost:8080/"
    },
    "id": "Q-yz71szxd5G",
    "outputId": "7d114e0a-8d8c-4c55-aea3-03649ee7c97e"
   },
   "outputs": [
    {
     "data": {
      "text/plain": [
       "<tf.Tensor: shape=(1, 4), dtype=int64, numpy=array([[65, 60, 55, 50]])>"
      ]
     },
     "execution_count": 91,
     "metadata": {},
     "output_type": "execute_result"
    }
   ],
   "source": [
    "# finding the sum of a tensor along axis 0 by keeping the dimensions\n",
    "tf.math.reduce_sum(new_Tensor2, axis=0, keepdims=True)"
   ]
  },
  {
   "cell_type": "code",
   "execution_count": null,
   "metadata": {
    "colab": {
     "base_uri": "https://localhost:8080/"
    },
    "id": "c2XIK6rYyzdR",
    "outputId": "bcaeef20-f787-4657-d589-0b4abfc272e0"
   },
   "outputs": [
    {
     "data": {
      "text/plain": [
       "<tf.Tensor: shape=(5, 4), dtype=float32, numpy=\n",
       "array([[ 9., 10., 11., 12.],\n",
       "       [ 1.,  2.,  3.,  4.],\n",
       "       [17., 18., 19., 20.],\n",
       "       [13., 14., 15., 16.],\n",
       "       [ 5.,  6.,  7.,  8.]], dtype=float32)>"
      ]
     },
     "execution_count": 92,
     "metadata": {},
     "output_type": "execute_result"
    }
   ],
   "source": [
    "# converting the dtype of new_Tensor\n",
    "copy_of_Tensor = tf.cast(new_Tensor, dtype=tf.float32)\n",
    "copy_of_Tensor"
   ]
  },
  {
   "cell_type": "markdown",
   "metadata": {
    "id": "SS7gUONJzStj"
   },
   "source": [
    "**NOTE:** We can only compute variance and standard deviation on float type tensors"
   ]
  },
  {
   "cell_type": "code",
   "execution_count": null,
   "metadata": {
    "colab": {
     "base_uri": "https://localhost:8080/"
    },
    "id": "kp4yKiDOxpLy",
    "outputId": "2bfd96a9-084a-4718-cfa8-0b1354318a2c"
   },
   "outputs": [
    {
     "data": {
      "text/plain": [
       "<tf.Tensor: shape=(), dtype=float32, numpy=33.25>"
      ]
     },
     "execution_count": 93,
     "metadata": {},
     "output_type": "execute_result"
    }
   ],
   "source": [
    "# finding the variance\n",
    "tf.math.reduce_variance(copy_of_Tensor)"
   ]
  },
  {
   "cell_type": "code",
   "execution_count": null,
   "metadata": {
    "colab": {
     "base_uri": "https://localhost:8080/"
    },
    "id": "1Js2M1rnyNh4",
    "outputId": "295e0c69-979d-4a07-b160-9ceb48dba419"
   },
   "outputs": [
    {
     "data": {
      "text/plain": [
       "<tf.Tensor: shape=(1, 4), dtype=float32, numpy=array([[32., 32., 32., 32.]], dtype=float32)>"
      ]
     },
     "execution_count": 94,
     "metadata": {},
     "output_type": "execute_result"
    }
   ],
   "source": [
    "# finding the variance across an axis 0\n",
    "tf.math.reduce_variance(copy_of_Tensor, axis=0, keepdims=True)"
   ]
  },
  {
   "cell_type": "code",
   "execution_count": null,
   "metadata": {
    "colab": {
     "base_uri": "https://localhost:8080/"
    },
    "id": "lZ0ErB77zomB",
    "outputId": "f4bd7cc7-b3f5-4e77-90c6-65d45003b9bd"
   },
   "outputs": [
    {
     "data": {
      "text/plain": [
       "<tf.Tensor: shape=(5, 1), dtype=float32, numpy=\n",
       "array([[1.25],\n",
       "       [1.25],\n",
       "       [1.25],\n",
       "       [1.25],\n",
       "       [1.25]], dtype=float32)>"
      ]
     },
     "execution_count": 95,
     "metadata": {},
     "output_type": "execute_result"
    }
   ],
   "source": [
    "# finding the variance across axis 1\n",
    "tf.math.reduce_variance(copy_of_Tensor, axis=1, keepdims=True)"
   ]
  },
  {
   "cell_type": "code",
   "execution_count": null,
   "metadata": {
    "colab": {
     "base_uri": "https://localhost:8080/"
    },
    "id": "1gxsutYMz1QL",
    "outputId": "9159c169-1f80-4c49-e649-5f8f5cfbb668"
   },
   "outputs": [
    {
     "data": {
      "text/plain": [
       "<tf.Tensor: shape=(), dtype=float32, numpy=5.766281>"
      ]
     },
     "execution_count": 96,
     "metadata": {},
     "output_type": "execute_result"
    }
   ],
   "source": [
    "# finding the standard deviation of the tensor\n",
    "tf.math.reduce_std(copy_of_Tensor)"
   ]
  },
  {
   "cell_type": "markdown",
   "metadata": {
    "id": "yER915FS0PeE"
   },
   "source": [
    "**NOTE:** To convert a tensor to numpy array use `tensor.numpy()`"
   ]
  },
  {
   "cell_type": "code",
   "execution_count": null,
   "metadata": {
    "colab": {
     "base_uri": "https://localhost:8080/"
    },
    "id": "IPEGfFaJ0BLa",
    "outputId": "5df9fc1e-86ef-428a-e22c-d53d6d8ee847"
   },
   "outputs": [
    {
     "data": {
      "text/plain": [
       "array([[ 9, 10, 11, 12],\n",
       "       [ 1,  2,  3,  4],\n",
       "       [17, 18, 19, 20],\n",
       "       [13, 14, 15, 16],\n",
       "       [ 5,  6,  7,  8]])"
      ]
     },
     "execution_count": 97,
     "metadata": {},
     "output_type": "execute_result"
    }
   ],
   "source": [
    "new_Tensor.numpy()"
   ]
  },
  {
   "cell_type": "code",
   "execution_count": null,
   "metadata": {
    "colab": {
     "base_uri": "https://localhost:8080/"
    },
    "id": "aCbR1CMH0LFr",
    "outputId": "f38e2072-b3c9-4bd5-b0ec-3e961fe8f5a4"
   },
   "outputs": [
    {
     "data": {
      "text/plain": [
       "<tf.Tensor: shape=(1, 4), dtype=float32, numpy=array([[5.656854, 5.656854, 5.656854, 5.656854]], dtype=float32)>"
      ]
     },
     "execution_count": 98,
     "metadata": {},
     "output_type": "execute_result"
    }
   ],
   "source": [
    "#finding the std across axis 0, by keeping the dimensions\n",
    "tf.math.reduce_std(copy_of_Tensor, axis=0, keepdims=True)"
   ]
  },
  {
   "cell_type": "code",
   "execution_count": null,
   "metadata": {
    "colab": {
     "base_uri": "https://localhost:8080/"
    },
    "id": "Zhc31ewl0i8r",
    "outputId": "2f2ba553-cce9-45f2-c4a2-b70d5a85e209"
   },
   "outputs": [
    {
     "data": {
      "text/plain": [
       "<tf.Tensor: shape=(5, 1), dtype=float32, numpy=\n",
       "array([[1.118034],\n",
       "       [1.118034],\n",
       "       [1.118034],\n",
       "       [1.118034],\n",
       "       [1.118034]], dtype=float32)>"
      ]
     },
     "execution_count": 99,
     "metadata": {},
     "output_type": "execute_result"
    }
   ],
   "source": [
    "#finding the std across axis 1, by keeping the dimensions\n",
    "tf.math.reduce_std(copy_of_Tensor, axis=1, keepdims=True)"
   ]
  },
  {
   "cell_type": "markdown",
   "metadata": {
    "id": "B5_CI1lT3HuR"
   },
   "source": [
    "### Finding the positional maximum and positional minimum"
   ]
  },
  {
   "cell_type": "code",
   "execution_count": null,
   "metadata": {
    "colab": {
     "base_uri": "https://localhost:8080/"
    },
    "id": "-CzRZhOP0zPy",
    "outputId": "d168e42d-4372-4846-d1df-c84a52f009c6"
   },
   "outputs": [
    {
     "data": {
      "text/plain": [
       "<tf.Tensor: shape=(50,), dtype=float32, numpy=\n",
       "array([0.6645621 , 0.44100678, 0.3528825 , 0.46448255, 0.03366041,\n",
       "       0.68467236, 0.74011743, 0.8724445 , 0.22632635, 0.22319686,\n",
       "       0.3103881 , 0.7223358 , 0.13318717, 0.5480639 , 0.5746088 ,\n",
       "       0.8996835 , 0.00946367, 0.5212307 , 0.6345445 , 0.1993283 ,\n",
       "       0.72942245, 0.54583454, 0.10756552, 0.6767061 , 0.6602763 ,\n",
       "       0.33695042, 0.60141766, 0.21062577, 0.8527372 , 0.44062173,\n",
       "       0.9485276 , 0.23752594, 0.81179297, 0.5263394 , 0.494308  ,\n",
       "       0.21612847, 0.8457197 , 0.8718841 , 0.3083862 , 0.6868038 ,\n",
       "       0.23764038, 0.7817228 , 0.9671384 , 0.06870162, 0.79873943,\n",
       "       0.66028714, 0.5871513 , 0.16461694, 0.7381023 , 0.32054043],\n",
       "      dtype=float32)>"
      ]
     },
     "execution_count": 100,
     "metadata": {},
     "output_type": "execute_result"
    }
   ],
   "source": [
    "# Create a new tensor for finding positional minimum and maximum\n",
    "tf.random.set_seed(42)\n",
    "F = tf.random.uniform(shape=[50])\n",
    "F"
   ]
  },
  {
   "cell_type": "code",
   "execution_count": null,
   "metadata": {
    "colab": {
     "base_uri": "https://localhost:8080/"
    },
    "id": "i0ECTaLT4Lj1",
    "outputId": "298a19bd-86d3-4479-c159-74cef613eb12"
   },
   "outputs": [
    {
     "data": {
      "text/plain": [
       "<tf.Tensor: shape=(), dtype=int64, numpy=42>"
      ]
     },
     "execution_count": 101,
     "metadata": {},
     "output_type": "execute_result"
    }
   ],
   "source": [
    "# finding the positional max\n",
    "tf.argmax(F)"
   ]
  },
  {
   "cell_type": "code",
   "execution_count": null,
   "metadata": {
    "colab": {
     "base_uri": "https://localhost:8080/"
    },
    "id": "cI2GOgpV4Suf",
    "outputId": "daa96dd3-c921-4465-a7ad-b4ccf4be0b3b"
   },
   "outputs": [
    {
     "data": {
      "text/plain": [
       "<tf.Tensor: shape=(), dtype=float32, numpy=0.9671384>"
      ]
     },
     "execution_count": 102,
     "metadata": {},
     "output_type": "execute_result"
    }
   ],
   "source": [
    "# index on our largest postion value\n",
    "F[tf.argmax(F)]"
   ]
  },
  {
   "cell_type": "code",
   "execution_count": null,
   "metadata": {
    "colab": {
     "base_uri": "https://localhost:8080/"
    },
    "id": "mGlg8TM34lG-",
    "outputId": "aa434bb4-10fd-4cfb-d2d0-9d57e9237dcc"
   },
   "outputs": [
    {
     "data": {
      "text/plain": [
       "<tf.Tensor: shape=(), dtype=float32, numpy=0.9671384>"
      ]
     },
     "execution_count": 103,
     "metadata": {},
     "output_type": "execute_result"
    }
   ],
   "source": [
    "# find the max value of F\n",
    "tf.reduce_max(F)"
   ]
  },
  {
   "cell_type": "code",
   "execution_count": null,
   "metadata": {
    "colab": {
     "base_uri": "https://localhost:8080/"
    },
    "id": "zotOUM6d4qdS",
    "outputId": "3645acbe-0fec-4ef5-e7f5-72eec4126d93"
   },
   "outputs": [
    {
     "data": {
      "text/plain": [
       "<tf.Tensor: shape=(), dtype=bool, numpy=True>"
      ]
     },
     "execution_count": 104,
     "metadata": {},
     "output_type": "execute_result"
    }
   ],
   "source": [
    "# Check for equality\n",
    "F[tf.argmax(F)] == tf.reduce_max(F)"
   ]
  },
  {
   "cell_type": "code",
   "execution_count": null,
   "metadata": {
    "colab": {
     "base_uri": "https://localhost:8080/"
    },
    "id": "uNq0kyy245go",
    "outputId": "db9d8bcc-5bfb-4a9c-f68f-a25bfafc613f"
   },
   "outputs": [
    {
     "data": {
      "text/plain": [
       "<tf.Tensor: shape=(), dtype=int64, numpy=16>"
      ]
     },
     "execution_count": 105,
     "metadata": {},
     "output_type": "execute_result"
    }
   ],
   "source": [
    "# finding the positional minimum\n",
    "tf.argmin(F)"
   ]
  },
  {
   "cell_type": "code",
   "execution_count": null,
   "metadata": {
    "colab": {
     "base_uri": "https://localhost:8080/"
    },
    "id": "K2ycUmoz5H-N",
    "outputId": "de354404-eb49-4acf-d9f4-21334988c93a"
   },
   "outputs": [
    {
     "data": {
      "text/plain": [
       "<tf.Tensor: shape=(), dtype=float32, numpy=0.009463668>"
      ]
     },
     "execution_count": 106,
     "metadata": {},
     "output_type": "execute_result"
    }
   ],
   "source": [
    "# Find the minimum using the positional minimum index\n",
    "F[tf.argmin(F)]"
   ]
  },
  {
   "cell_type": "markdown",
   "metadata": {
    "id": "ooVGzQU85YSp"
   },
   "source": [
    "### Squeezing a tensor(removing all single  dimensions)"
   ]
  },
  {
   "cell_type": "code",
   "execution_count": null,
   "metadata": {
    "colab": {
     "base_uri": "https://localhost:8080/"
    },
    "id": "NWEeUdg25OmS",
    "outputId": "28b39d74-c90a-4c8b-d3d3-dc7d8ccee963"
   },
   "outputs": [
    {
     "data": {
      "text/plain": [
       "<tf.Tensor: shape=(1, 1, 1, 1, 50), dtype=float32, numpy=\n",
       "array([[[[[0.68789124, 0.48447883, 0.9309944 , 0.252187  , 0.73115396,\n",
       "           0.89256823, 0.94674826, 0.7493341 , 0.34925628, 0.54718256,\n",
       "           0.26160395, 0.69734323, 0.11962581, 0.53484344, 0.7148968 ,\n",
       "           0.87501776, 0.33967495, 0.17377627, 0.4418521 , 0.9008261 ,\n",
       "           0.13803864, 0.12217975, 0.5754491 , 0.9417181 , 0.9186585 ,\n",
       "           0.59708476, 0.6109482 , 0.82086265, 0.83269787, 0.8915849 ,\n",
       "           0.01377225, 0.49807465, 0.57503664, 0.6856195 , 0.75972784,\n",
       "           0.908944  , 0.40900218, 0.8765154 , 0.53890026, 0.42733097,\n",
       "           0.401173  , 0.66623247, 0.16348064, 0.18220246, 0.97040176,\n",
       "           0.06139731, 0.53034747, 0.9869994 , 0.4746945 , 0.8646754 ]]]]],\n",
       "      dtype=float32)>"
      ]
     },
     "execution_count": 107,
     "metadata": {},
     "output_type": "execute_result"
    }
   ],
   "source": [
    "# Create a tensor to get started\n",
    "G = tf.constant(tf.random.uniform(shape=[50]), shape=(1,1,1,1,50))\n",
    "G"
   ]
  },
  {
   "cell_type": "code",
   "execution_count": null,
   "metadata": {
    "colab": {
     "base_uri": "https://localhost:8080/"
    },
    "id": "XEHQkSIN5wWi",
    "outputId": "03a52d16-c712-4966-838c-2afc0d532d34"
   },
   "outputs": [
    {
     "data": {
      "text/plain": [
       "TensorShape([1, 1, 1, 1, 50])"
      ]
     },
     "execution_count": 108,
     "metadata": {},
     "output_type": "execute_result"
    }
   ],
   "source": [
    "G.shape"
   ]
  },
  {
   "cell_type": "code",
   "execution_count": null,
   "metadata": {
    "colab": {
     "base_uri": "https://localhost:8080/"
    },
    "id": "p_oJqaXE6DGZ",
    "outputId": "e0478f03-a8c3-4d28-8b7e-53453c648fe8"
   },
   "outputs": [
    {
     "data": {
      "text/plain": [
       "(<tf.Tensor: shape=(50,), dtype=float32, numpy=\n",
       " array([0.68789124, 0.48447883, 0.9309944 , 0.252187  , 0.73115396,\n",
       "        0.89256823, 0.94674826, 0.7493341 , 0.34925628, 0.54718256,\n",
       "        0.26160395, 0.69734323, 0.11962581, 0.53484344, 0.7148968 ,\n",
       "        0.87501776, 0.33967495, 0.17377627, 0.4418521 , 0.9008261 ,\n",
       "        0.13803864, 0.12217975, 0.5754491 , 0.9417181 , 0.9186585 ,\n",
       "        0.59708476, 0.6109482 , 0.82086265, 0.83269787, 0.8915849 ,\n",
       "        0.01377225, 0.49807465, 0.57503664, 0.6856195 , 0.75972784,\n",
       "        0.908944  , 0.40900218, 0.8765154 , 0.53890026, 0.42733097,\n",
       "        0.401173  , 0.66623247, 0.16348064, 0.18220246, 0.97040176,\n",
       "        0.06139731, 0.53034747, 0.9869994 , 0.4746945 , 0.8646754 ],\n",
       "       dtype=float32)>,\n",
       " TensorShape([50]))"
      ]
     },
     "execution_count": 109,
     "metadata": {},
     "output_type": "execute_result"
    }
   ],
   "source": [
    "G_squeezed = tf.squeeze(G)\n",
    "G_squeezed, G_squeezed.shape"
   ]
  },
  {
   "cell_type": "code",
   "execution_count": null,
   "metadata": {
    "colab": {
     "base_uri": "https://localhost:8080/"
    },
    "id": "FwAjRs6P6Jt2",
    "outputId": "b6c9626a-8c53-4bb6-e6e5-74934d5e0469"
   },
   "outputs": [
    {
     "data": {
      "text/plain": [
       "5"
      ]
     },
     "execution_count": 110,
     "metadata": {},
     "output_type": "execute_result"
    }
   ],
   "source": [
    "G.ndim"
   ]
  },
  {
   "cell_type": "code",
   "execution_count": null,
   "metadata": {
    "colab": {
     "base_uri": "https://localhost:8080/"
    },
    "id": "_DFaWClT6Qj1",
    "outputId": "127c0824-db6b-4425-ef73-65096727e2e9"
   },
   "outputs": [
    {
     "data": {
      "text/plain": [
       "1"
      ]
     },
     "execution_count": 111,
     "metadata": {},
     "output_type": "execute_result"
    }
   ],
   "source": [
    "G_squeezed.ndim"
   ]
  },
  {
   "cell_type": "markdown",
   "metadata": {
    "id": "Guwcs6xL6XRe"
   },
   "source": [
    "### One-hot encoding Tensors\n",
    "\n"
   ]
  },
  {
   "cell_type": "code",
   "execution_count": null,
   "metadata": {
    "colab": {
     "base_uri": "https://localhost:8080/"
    },
    "id": "mb4YoPiw6Tfr",
    "outputId": "06c43594-83b4-45b3-dc67-335ddd493394"
   },
   "outputs": [
    {
     "data": {
      "text/plain": [
       "<tf.Tensor: shape=(4, 4), dtype=float32, numpy=\n",
       "array([[1., 0., 0., 0.],\n",
       "       [0., 1., 0., 0.],\n",
       "       [0., 0., 1., 0.],\n",
       "       [0., 0., 0., 1.]], dtype=float32)>"
      ]
     },
     "execution_count": 112,
     "metadata": {},
     "output_type": "execute_result"
    }
   ],
   "source": [
    "# Create a list of indices\n",
    "some_list = [0,1,2,3] # could be red, green, blue, purple\n",
    "\n",
    "#Onehot encode our list of indices\n",
    "tf.one_hot(some_list,depth=4)"
   ]
  },
  {
   "cell_type": "code",
   "execution_count": null,
   "metadata": {
    "colab": {
     "base_uri": "https://localhost:8080/"
    },
    "id": "9sk8HBj67IIq",
    "outputId": "580ba506-6a1d-473d-83c1-ba290eb02b38"
   },
   "outputs": [
    {
     "data": {
      "text/plain": [
       "<tf.Tensor: shape=(4, 4), dtype=string, numpy=\n",
       "array([[b'I love deep learning', b'I also like to dance',\n",
       "        b'I also like to dance', b'I also like to dance'],\n",
       "       [b'I also like to dance', b'I love deep learning',\n",
       "        b'I also like to dance', b'I also like to dance'],\n",
       "       [b'I also like to dance', b'I also like to dance',\n",
       "        b'I love deep learning', b'I also like to dance'],\n",
       "       [b'I also like to dance', b'I also like to dance',\n",
       "        b'I also like to dance', b'I love deep learning']], dtype=object)>"
      ]
     },
     "execution_count": 113,
     "metadata": {},
     "output_type": "execute_result"
    }
   ],
   "source": [
    "# Specify custom values for one hot encoding\n",
    "\n",
    "tf.one_hot(some_list,4, on_value=\"I love deep learning\", off_value=\"I also like to dance\")"
   ]
  },
  {
   "cell_type": "markdown",
   "metadata": {
    "id": "6qQLYJWh7wuH"
   },
   "source": [
    "### Squaring, Log and Squareroot"
   ]
  },
  {
   "cell_type": "code",
   "execution_count": null,
   "metadata": {
    "colab": {
     "base_uri": "https://localhost:8080/"
    },
    "id": "Y5jx1lhd70sj",
    "outputId": "049a152f-6102-4177-a405-4fc91740eab8"
   },
   "outputs": [
    {
     "data": {
      "text/plain": [
       "<tf.Tensor: shape=(9,), dtype=int32, numpy=array([1, 2, 3, 4, 5, 6, 7, 8, 9], dtype=int32)>"
      ]
     },
     "execution_count": 114,
     "metadata": {},
     "output_type": "execute_result"
    }
   ],
   "source": [
    "# Create a new tensor\n",
    "H = tf.range(1,10)\n",
    "H"
   ]
  },
  {
   "cell_type": "code",
   "execution_count": null,
   "metadata": {
    "colab": {
     "base_uri": "https://localhost:8080/"
    },
    "id": "Q2svyCln76uz",
    "outputId": "5f66f3af-5977-4915-e8b1-5b18238561d5"
   },
   "outputs": [
    {
     "data": {
      "text/plain": [
       "<tf.Tensor: shape=(9,), dtype=int32, numpy=array([ 1,  4,  9, 16, 25, 36, 49, 64, 81], dtype=int32)>"
      ]
     },
     "execution_count": 115,
     "metadata": {},
     "output_type": "execute_result"
    }
   ],
   "source": [
    "# square it\n",
    "tf.square(H)"
   ]
  },
  {
   "cell_type": "markdown",
   "metadata": {
    "id": "Ezq6PuCv8XrJ"
   },
   "source": [
    "**NOTE:** sqrt function of `tf.math.sqrt()` needs the tensor to be of float type"
   ]
  },
  {
   "cell_type": "code",
   "execution_count": null,
   "metadata": {
    "colab": {
     "base_uri": "https://localhost:8080/"
    },
    "id": "v1k5vqaK7-VU",
    "outputId": "ba10824b-f749-4719-941c-0830db473919"
   },
   "outputs": [
    {
     "data": {
      "text/plain": [
       "<tf.Tensor: shape=(9,), dtype=float32, numpy=\n",
       "array([1.       , 1.4142135, 1.7320508, 2.       , 2.236068 , 2.4494898,\n",
       "       2.6457512, 2.828427 , 3.       ], dtype=float32)>"
      ]
     },
     "execution_count": 118,
     "metadata": {},
     "output_type": "execute_result"
    }
   ],
   "source": [
    "# Square root\n",
    "tf.math.sqrt(tf.cast(H, tf.float32))"
   ]
  },
  {
   "cell_type": "code",
   "execution_count": null,
   "metadata": {
    "colab": {
     "base_uri": "https://localhost:8080/"
    },
    "id": "oktRb-Sx8EN-",
    "outputId": "8fcc606f-4ecd-4acb-8af8-d3fd43240445"
   },
   "outputs": [
    {
     "data": {
      "text/plain": [
       "<tf.Tensor: shape=(9,), dtype=float32, numpy=\n",
       "array([0.       , 0.6931472, 1.0986123, 1.3862944, 1.609438 , 1.7917595,\n",
       "       1.9459102, 2.0794415, 2.1972246], dtype=float32)>"
      ]
     },
     "execution_count": 120,
     "metadata": {},
     "output_type": "execute_result"
    }
   ],
   "source": [
    "# finding the log\n",
    "tf.math.log(tf.cast(H, tf.float32))"
   ]
  },
  {
   "cell_type": "markdown",
   "metadata": {
    "id": "hhsURx2G8pw0"
   },
   "source": [
    "### Tensors and NumPy\n",
    "\n",
    "TensorFlow interacts easily with numpy arrays\n",
    "\n",
    "**NOTE**: Tensors can run on GPU or TPU where as numpy runs on CPU for faster processing"
   ]
  },
  {
   "cell_type": "code",
   "execution_count": null,
   "metadata": {
    "colab": {
     "base_uri": "https://localhost:8080/"
    },
    "id": "mhmFBtPL9fP_",
    "outputId": "18706065-d0ec-4e06-83a3-9401af1be8e4"
   },
   "outputs": [
    {
     "data": {
      "text/plain": [
       "<tf.Tensor: shape=(3,), dtype=float64, numpy=array([ 3.,  7., 10.])>"
      ]
     },
     "execution_count": 126,
     "metadata": {},
     "output_type": "execute_result"
    }
   ],
   "source": [
    "# creae a tensor directly from a NumPy array\n",
    "J = tf.constant(np.array([3., 7., 10.]))\n",
    "J"
   ]
  },
  {
   "cell_type": "code",
   "execution_count": null,
   "metadata": {
    "colab": {
     "base_uri": "https://localhost:8080/"
    },
    "id": "ZwoRrWeU9vbi",
    "outputId": "28aa23c3-47d7-45c4-c81c-910a93922988"
   },
   "outputs": [
    {
     "data": {
      "text/plain": [
       "(array([ 3.,  7., 10.]), numpy.ndarray)"
      ]
     },
     "execution_count": 127,
     "metadata": {},
     "output_type": "execute_result"
    }
   ],
   "source": [
    "# convert our tensor back to arrray\n",
    "np.array(J), type(np.array(J))"
   ]
  },
  {
   "cell_type": "code",
   "execution_count": null,
   "metadata": {
    "colab": {
     "base_uri": "https://localhost:8080/"
    },
    "id": "1B2pS5vr96YJ",
    "outputId": "a58551e3-9dc7-4d67-a12b-3320d22a22a1"
   },
   "outputs": [
    {
     "data": {
      "text/plain": [
       "(array([ 3.,  7., 10.]), numpy.ndarray)"
      ]
     },
     "execution_count": 128,
     "metadata": {},
     "output_type": "execute_result"
    }
   ],
   "source": [
    "# convert tensor J to a NumPy array\n",
    "J.numpy(), type(J.numpy())"
   ]
  },
  {
   "cell_type": "code",
   "execution_count": null,
   "metadata": {
    "colab": {
     "base_uri": "https://localhost:8080/"
    },
    "id": "uRS3fBhD-CxJ",
    "outputId": "c54ffeec-34a5-4beb-eda7-214e275a3dbd"
   },
   "outputs": [
    {
     "data": {
      "text/plain": [
       "(tf.float64, tf.float32)"
      ]
     },
     "execution_count": 129,
     "metadata": {},
     "output_type": "execute_result"
    }
   ],
   "source": [
    "# The default type of each are slightly differrent\n",
    "numpy_J = tf.constant(np.array([3.,7.,10.]))\n",
    "tensor_J = tf.constant([3.,7.,10,])\n",
    "#check the datatype of each\n",
    "numpy_J.dtype, tensor_J.dtype"
   ]
  },
  {
   "cell_type": "markdown",
   "metadata": {
    "id": "io3HHpt1-L4m"
   },
   "source": [
    "### Finding access to GPU's"
   ]
  },
  {
   "cell_type": "code",
   "execution_count": null,
   "metadata": {
    "colab": {
     "base_uri": "https://localhost:8080/"
    },
    "id": "kL-OjszAAAA3",
    "outputId": "92f4c105-8b6d-466f-f92e-06f165dda95a"
   },
   "outputs": [
    {
     "data": {
      "text/plain": [
       "[PhysicalDevice(name='/physical_device:GPU:0', device_type='GPU')]"
      ]
     },
     "execution_count": 1,
     "metadata": {},
     "output_type": "execute_result"
    }
   ],
   "source": [
    "import tensorflow as tf\n",
    "tf.config.list_physical_devices(\"GPU\")"
   ]
  },
  {
   "cell_type": "code",
   "execution_count": null,
   "metadata": {
    "colab": {
     "base_uri": "https://localhost:8080/"
    },
    "id": "2zT-UZ1lAFKt",
    "outputId": "0de5d691-aab7-41f7-e79e-685abc85ac53"
   },
   "outputs": [
    {
     "name": "stdout",
     "output_type": "stream",
     "text": [
      "Mon Feb  5 02:08:47 2024       \n",
      "+---------------------------------------------------------------------------------------+\n",
      "| NVIDIA-SMI 535.104.05             Driver Version: 535.104.05   CUDA Version: 12.2     |\n",
      "|-----------------------------------------+----------------------+----------------------+\n",
      "| GPU  Name                 Persistence-M | Bus-Id        Disp.A | Volatile Uncorr. ECC |\n",
      "| Fan  Temp   Perf          Pwr:Usage/Cap |         Memory-Usage | GPU-Util  Compute M. |\n",
      "|                                         |                      |               MIG M. |\n",
      "|=========================================+======================+======================|\n",
      "|   0  Tesla T4                       Off | 00000000:00:04.0 Off |                    0 |\n",
      "| N/A   59C    P8              13W /  70W |      3MiB / 15360MiB |      0%      Default |\n",
      "|                                         |                      |                  N/A |\n",
      "+-----------------------------------------+----------------------+----------------------+\n",
      "                                                                                         \n",
      "+---------------------------------------------------------------------------------------+\n",
      "| Processes:                                                                            |\n",
      "|  GPU   GI   CI        PID   Type   Process name                            GPU Memory |\n",
      "|        ID   ID                                                             Usage      |\n",
      "|=======================================================================================|\n",
      "|  No running processes found                                                           |\n",
      "+---------------------------------------------------------------------------------------+\n"
     ]
    }
   ],
   "source": [
    "!nvidia-smi"
   ]
  },
  {
   "cell_type": "markdown",
   "metadata": {
    "id": "8xqRoNjEBPwk"
   },
   "source": [
    "> 🔑**NOTE:** If you have access to a CUDA-enabled GPU, TensorFlow will automatically use it whenever possible"
   ]
  },
  {
   "cell_type": "code",
   "execution_count": null,
   "metadata": {
    "id": "3tHWVaP-BCNZ"
   },
   "outputs": [],
   "source": []
  }
 ],
 "metadata": {
  "accelerator": "GPU",
  "colab": {
   "gpuType": "T4",
   "provenance": []
  },
  "kernelspec": {
   "display_name": "Python 3 (ipykernel)",
   "language": "python",
   "name": "python3"
  },
  "language_info": {
   "codemirror_mode": {
    "name": "ipython",
    "version": 3
   },
   "file_extension": ".py",
   "mimetype": "text/x-python",
   "name": "python",
   "nbconvert_exporter": "python",
   "pygments_lexer": "ipython3",
   "version": "3.10.14"
  }
 },
 "nbformat": 4,
 "nbformat_minor": 4
}
