{
  "cells": [
    {
      "cell_type": "markdown",
      "id": "c104167c-7b01-4ffb-8917-f89cac3ba40a",
      "metadata": {
        "id": "c104167c-7b01-4ffb-8917-f89cac3ba40a"
      },
      "source": [
        "# Project: SkimLit\n",
        "\n",
        "\n",
        "The purpose of this notebook is to build an NLP model to make reading medical abstracts easier.\n",
        "\n",
        "The paper we are replicating(the source of the dataset that we will be using) is available : https://arxiv.org/abs/1710.06071\n",
        "\n",
        "And reading through the paper above, we see that the model architecture that they use to acheive their best results is available here: https://aclanthology.org/E17-2110/\n",
        "\n"
      ]
    },
    {
      "cell_type": "markdown",
      "id": "273d8fc4-b795-4d04-a416-eca9746137ce",
      "metadata": {
        "id": "273d8fc4-b795-4d04-a416-eca9746137ce"
      },
      "source": [
        "## Confirm access to a GPU"
      ]
    },
    {
      "cell_type": "code",
      "execution_count": 1,
      "id": "bf0a1e3e-c0a5-47ab-8ec7-adb169777450",
      "metadata": {
        "colab": {
          "base_uri": "https://localhost:8080/"
        },
        "id": "bf0a1e3e-c0a5-47ab-8ec7-adb169777450",
        "outputId": "25da60e2-4de6-441c-9284-d7e481224cc1"
      },
      "outputs": [
        {
          "output_type": "stream",
          "name": "stdout",
          "text": [
            "GPU is available\n"
          ]
        }
      ],
      "source": [
        "## Check for GPU\n",
        "import tensorflow as tf\n",
        "gpu = len(tf.config.list_physical_devices('GPU'))>0\n",
        "print(\"GPU is\", \"available\" if gpu else \"NOT AVAILABLE\")"
      ]
    },
    {
      "cell_type": "code",
      "execution_count": 2,
      "id": "eec38ff0-c865-4435-bb80-9c133160e95f",
      "metadata": {
        "colab": {
          "base_uri": "https://localhost:8080/"
        },
        "id": "eec38ff0-c865-4435-bb80-9c133160e95f",
        "outputId": "48bec896-01c4-4fa8-e426-45aab6543a2b"
      },
      "outputs": [
        {
          "output_type": "execute_result",
          "data": {
            "text/plain": [
              "[PhysicalDevice(name='/physical_device:GPU:0', device_type='GPU')]"
            ]
          },
          "metadata": {},
          "execution_count": 2
        }
      ],
      "source": [
        "tf.config.list_physical_devices('GPU')"
      ]
    },
    {
      "cell_type": "markdown",
      "id": "7b00a49e-ebb0-44d4-a598-b8ef35a62286",
      "metadata": {
        "id": "7b00a49e-ebb0-44d4-a598-b8ef35a62286"
      },
      "source": [
        "## Get data\n",
        "\n",
        "Since we will be replicating the paper above(PubMed 200k RCT). Let's download the dataset they used.\n",
        "\n",
        "We can do so from the author's GitHub: https://github.com/Franck-Dernoncourt/pubmed-rct"
      ]
    },
    {
      "cell_type": "code",
      "execution_count": 3,
      "id": "dfe77ff3-eb03-4813-b360-0fe2382de962",
      "metadata": {
        "colab": {
          "base_uri": "https://localhost:8080/"
        },
        "id": "dfe77ff3-eb03-4813-b360-0fe2382de962",
        "outputId": "e761190a-3e85-4fae-8509-d69aedb03cb7"
      },
      "outputs": [
        {
          "output_type": "stream",
          "name": "stdout",
          "text": [
            "Cloning into 'pubmed-rct'...\n",
            "remote: Enumerating objects: 39, done.\u001b[K\n",
            "remote: Counting objects: 100% (14/14), done.\u001b[K\n",
            "remote: Compressing objects: 100% (9/9), done.\u001b[K\n",
            "remote: Total 39 (delta 8), reused 5 (delta 5), pack-reused 25\u001b[K\n",
            "Receiving objects: 100% (39/39), 177.08 MiB | 23.59 MiB/s, done.\n",
            "Resolving deltas: 100% (15/15), done.\n",
            "Updating files: 100% (13/13), done.\n"
          ]
        }
      ],
      "source": [
        "! git clone https://github.com/Franck-Dernoncourt/pubmed-rct\n"
      ]
    },
    {
      "cell_type": "code",
      "execution_count": 4,
      "id": "57d4ae63-b257-4fe2-9a10-d83652f9a6dc",
      "metadata": {
        "colab": {
          "base_uri": "https://localhost:8080/"
        },
        "id": "57d4ae63-b257-4fe2-9a10-d83652f9a6dc",
        "outputId": "fad29112-752a-4f93-ae5d-965c0061c27d"
      },
      "outputs": [
        {
          "output_type": "stream",
          "name": "stdout",
          "text": [
            "dev.txt  test.txt  train.txt\n"
          ]
        }
      ],
      "source": [
        "# check what files are in the PubMed 20k dataset\n",
        "!ls pubmed-rct/PubMed_20k_RCT_numbers_replaced_with_at_sign/"
      ]
    },
    {
      "cell_type": "code",
      "execution_count": 5,
      "id": "0ebead6e-95ae-4bea-95f5-44dc06a1d2b4",
      "metadata": {
        "id": "0ebead6e-95ae-4bea-95f5-44dc06a1d2b4"
      },
      "outputs": [],
      "source": [
        "# Start our experiments using the 20k dataset with numbers replaced by @ sign.\n",
        "data_dir = \"pubmed-rct/PubMed_20k_RCT_numbers_replaced_with_at_sign/\""
      ]
    },
    {
      "cell_type": "code",
      "execution_count": 6,
      "id": "9c1f5cac-bab4-4091-83da-7af712e7cc9b",
      "metadata": {
        "colab": {
          "base_uri": "https://localhost:8080/"
        },
        "id": "9c1f5cac-bab4-4091-83da-7af712e7cc9b",
        "outputId": "8250d432-7814-437d-8887-395f9509477f"
      },
      "outputs": [
        {
          "output_type": "execute_result",
          "data": {
            "text/plain": [
              "['pubmed-rct/PubMed_20k_RCT_numbers_replaced_with_at_sign/test.txt',\n",
              " 'pubmed-rct/PubMed_20k_RCT_numbers_replaced_with_at_sign/dev.txt',\n",
              " 'pubmed-rct/PubMed_20k_RCT_numbers_replaced_with_at_sign/train.txt']"
            ]
          },
          "metadata": {},
          "execution_count": 6
        }
      ],
      "source": [
        "# check all the file names in the target directory\n",
        "import os\n",
        "filenames = [data_dir + filename for filename in os.listdir(data_dir)]\n",
        "filenames"
      ]
    },
    {
      "cell_type": "markdown",
      "id": "8f1ddd89-f9f4-4f16-81ba-e129fbc221d9",
      "metadata": {
        "id": "8f1ddd89-f9f4-4f16-81ba-e129fbc221d9"
      },
      "source": [
        "## Preprocess the data\n",
        "\n",
        "Now we have some text data, it is time to become one with it. And one of the best ways to become one with the data is to visualize it.\n",
        "\n",
        "So with that in mind, let's create a function to read in all the lines of a target text file.\n"
      ]
    },
    {
      "cell_type": "code",
      "execution_count": 7,
      "id": "c71e45a4-6394-4b82-a917-ed41328c5d88",
      "metadata": {
        "id": "c71e45a4-6394-4b82-a917-ed41328c5d88"
      },
      "outputs": [],
      "source": [
        "# Create a function to read the lines of a document\n",
        "def get_lines(filename):\n",
        "    \"\"\"\n",
        "    Reads file name (a text file name) and returns the lines of the text file as a list\n",
        "\n",
        "    Args:\n",
        "    filename: a string containing the target filepath.\n",
        "    Returns:\n",
        "    A list of string with one string per line from the target filename.\n",
        "    \"\"\"\n",
        "    with open(filename,\"r\") as f:\n",
        "        return f.readlines()"
      ]
    },
    {
      "cell_type": "code",
      "execution_count": 8,
      "id": "b293e612-76fa-4149-a143-f146b21a0323",
      "metadata": {
        "colab": {
          "base_uri": "https://localhost:8080/"
        },
        "id": "b293e612-76fa-4149-a143-f146b21a0323",
        "outputId": "4233d2d8-1ab0-42c4-e95c-b364c7499322"
      },
      "outputs": [
        {
          "output_type": "execute_result",
          "data": {
            "text/plain": [
              "['###24293578\\n',\n",
              " 'OBJECTIVE\\tTo investigate the efficacy of @ weeks of daily low-dose oral prednisolone in improving pain , mobility , and systemic low-grade inflammation in the short term and whether the effect would be sustained at @ weeks in older adults with moderate to severe knee osteoarthritis ( OA ) .\\n',\n",
              " 'METHODS\\tA total of @ patients with primary knee OA were randomized @:@ ; @ received @ mg/day of prednisolone and @ received placebo for @ weeks .\\n',\n",
              " 'METHODS\\tOutcome measures included pain reduction and improvement in function scores and systemic inflammation markers .\\n',\n",
              " 'METHODS\\tPain was assessed using the visual analog pain scale ( @-@ mm ) .\\n',\n",
              " 'METHODS\\tSecondary outcome measures included the Western Ontario and McMaster Universities Osteoarthritis Index scores , patient global assessment ( PGA ) of the severity of knee OA , and @-min walk distance ( @MWD ) .\\n',\n",
              " 'METHODS\\tSerum levels of interleukin @ ( IL-@ ) , IL-@ , tumor necrosis factor ( TNF ) - , and high-sensitivity C-reactive protein ( hsCRP ) were measured .\\n',\n",
              " 'RESULTS\\tThere was a clinically relevant reduction in the intervention group compared to the placebo group for knee pain , physical function , PGA , and @MWD at @ weeks .\\n',\n",
              " 'RESULTS\\tThe mean difference between treatment arms ( @ % CI ) was @ ( @-@ @ ) , p < @ ; @ ( @-@ @ ) , p < @ ; @ ( @-@ @ ) , p < @ ; and @ ( @-@ @ ) , p < @ , respectively .\\n',\n",
              " 'RESULTS\\tFurther , there was a clinically relevant reduction in the serum levels of IL-@ , IL-@ , TNF - , and hsCRP at @ weeks in the intervention group when compared to the placebo group .\\n',\n",
              " 'RESULTS\\tThese differences remained significant at @ weeks .\\n',\n",
              " 'RESULTS\\tThe Outcome Measures in Rheumatology Clinical Trials-Osteoarthritis Research Society International responder rate was @ % in the intervention group and @ % in the placebo group ( p < @ ) .\\n',\n",
              " 'CONCLUSIONS\\tLow-dose oral prednisolone had both a short-term and a longer sustained effect resulting in less knee pain , better physical function , and attenuation of systemic inflammation in older patients with knee OA ( ClinicalTrials.gov identifier NCT@ ) .\\n',\n",
              " '\\n',\n",
              " '###24854809\\n',\n",
              " 'BACKGROUND\\tEmotional eating is associated with overeating and the development of obesity .\\n',\n",
              " 'BACKGROUND\\tYet , empirical evidence for individual ( trait ) differences in emotional eating and cognitive mechanisms that contribute to eating during sad mood remain equivocal .\\n',\n",
              " 'OBJECTIVE\\tThe aim of this study was to test if attention bias for food moderates the effect of self-reported emotional eating during sad mood ( vs neutral mood ) on actual food intake .\\n',\n",
              " 'OBJECTIVE\\tIt was expected that emotional eating is predictive of elevated attention for food and higher food intake after an experimentally induced sad mood and that attentional maintenance on food predicts food intake during a sad versus a neutral mood .\\n',\n",
              " 'METHODS\\tParticipants ( N = @ ) were randomly assigned to one of the two experimental mood induction conditions ( sad/neutral ) .\\n',\n",
              " 'METHODS\\tAttentional biases for high caloric foods were measured by eye tracking during a visual probe task with pictorial food and neutral stimuli .\\n',\n",
              " 'METHODS\\tSelf-reported emotional eating was assessed with the Dutch Eating Behavior Questionnaire ( DEBQ ) and ad libitum food intake was tested by a disguised food offer .\\n',\n",
              " 'RESULTS\\tHierarchical multivariate regression modeling showed that self-reported emotional eating did not account for changes in attention allocation for food or food intake in either condition .\\n',\n",
              " 'RESULTS\\tYet , attention maintenance on food cues was significantly related to increased intake specifically in the neutral condition , but not in the sad mood condition .\\n',\n",
              " 'CONCLUSIONS\\tThe current findings show that self-reported emotional eating ( based on the DEBQ ) might not validly predict who overeats when sad , at least not in a laboratory setting with healthy women .\\n',\n",
              " 'CONCLUSIONS\\tResults further suggest that attention maintenance on food relates to eating motivation when in a neutral affective state , and might therefore be a cognitive mechanism contributing to increased food intake in general , but maybe not during sad mood .\\n',\n",
              " '\\n',\n",
              " '###25165090\\n',\n",
              " 'BACKGROUND\\tAlthough working smoke alarms halve deaths in residential fires , many households do not keep alarms operational .\\n',\n",
              " 'BACKGROUND\\tWe tested whether theory-based education increases alarm operability .\\n']"
            ]
          },
          "metadata": {},
          "execution_count": 8
        }
      ],
      "source": [
        "# Let's read in the training files\n",
        "train_lines = get_lines(data_dir+\"train.txt\")\n",
        "train_lines[:30]"
      ]
    },
    {
      "cell_type": "code",
      "execution_count": 9,
      "id": "60d24ec4-0859-4dd7-b371-8a90528a7002",
      "metadata": {
        "colab": {
          "base_uri": "https://localhost:8080/"
        },
        "id": "60d24ec4-0859-4dd7-b371-8a90528a7002",
        "outputId": "e0948bc8-2911-4b81-8457-f2e224cb6c13"
      },
      "outputs": [
        {
          "output_type": "execute_result",
          "data": {
            "text/plain": [
              "210040"
            ]
          },
          "metadata": {},
          "execution_count": 9
        }
      ],
      "source": [
        "len(train_lines)"
      ]
    },
    {
      "cell_type": "markdown",
      "id": "36209488-1e8d-4297-8d4f-d1331220e555",
      "metadata": {
        "id": "36209488-1e8d-4297-8d4f-d1331220e555"
      },
      "source": [
        "```[{'line_number':0,\n",
        "    'target':'BACKGROUND',\n",
        "    'text':'Emotional eating is associated with overeating and the development of obesity .\\n',\n",
        "    'total_lines':11}]```"
      ]
    },
    {
      "cell_type": "code",
      "execution_count": 10,
      "id": "6b53ab0b-d371-4af7-b203-3e4981cad548",
      "metadata": {
        "colab": {
          "base_uri": "https://localhost:8080/"
        },
        "id": "6b53ab0b-d371-4af7-b203-3e4981cad548",
        "outputId": "b8f4d33f-8ee5-49b2-e354-ddd895ba2974"
      },
      "outputs": [
        {
          "output_type": "execute_result",
          "data": {
            "text/plain": [
              "['###24293578\\n',\n",
              " 'OBJECTIVE\\tTo investigate the efficacy of @ weeks of daily low-dose oral prednisolone in improving pain , mobility , and systemic low-grade inflammation in the short term and whether the effect would be sustained at @ weeks in older adults with moderate to severe knee osteoarthritis ( OA ) .\\n',\n",
              " 'METHODS\\tA total of @ patients with primary knee OA were randomized @:@ ; @ received @ mg/day of prednisolone and @ received placebo for @ weeks .\\n',\n",
              " 'METHODS\\tOutcome measures included pain reduction and improvement in function scores and systemic inflammation markers .\\n',\n",
              " 'METHODS\\tPain was assessed using the visual analog pain scale ( @-@ mm ) .\\n',\n",
              " 'METHODS\\tSecondary outcome measures included the Western Ontario and McMaster Universities Osteoarthritis Index scores , patient global assessment ( PGA ) of the severity of knee OA , and @-min walk distance ( @MWD ) .\\n',\n",
              " 'METHODS\\tSerum levels of interleukin @ ( IL-@ ) , IL-@ , tumor necrosis factor ( TNF ) - , and high-sensitivity C-reactive protein ( hsCRP ) were measured .\\n',\n",
              " 'RESULTS\\tThere was a clinically relevant reduction in the intervention group compared to the placebo group for knee pain , physical function , PGA , and @MWD at @ weeks .\\n',\n",
              " 'RESULTS\\tThe mean difference between treatment arms ( @ % CI ) was @ ( @-@ @ ) , p < @ ; @ ( @-@ @ ) , p < @ ; @ ( @-@ @ ) , p < @ ; and @ ( @-@ @ ) , p < @ , respectively .\\n',\n",
              " 'RESULTS\\tFurther , there was a clinically relevant reduction in the serum levels of IL-@ , IL-@ , TNF - , and hsCRP at @ weeks in the intervention group when compared to the placebo group .\\n',\n",
              " 'RESULTS\\tThese differences remained significant at @ weeks .\\n',\n",
              " 'RESULTS\\tThe Outcome Measures in Rheumatology Clinical Trials-Osteoarthritis Research Society International responder rate was @ % in the intervention group and @ % in the placebo group ( p < @ ) .\\n',\n",
              " 'CONCLUSIONS\\tLow-dose oral prednisolone had both a short-term and a longer sustained effect resulting in less knee pain , better physical function , and attenuation of systemic inflammation in older patients with knee OA ( ClinicalTrials.gov identifier NCT@ ) .\\n',\n",
              " '\\n',\n",
              " '###24854809\\n',\n",
              " 'BACKGROUND\\tEmotional eating is associated with overeating and the development of obesity .\\n',\n",
              " 'BACKGROUND\\tYet , empirical evidence for individual ( trait ) differences in emotional eating and cognitive mechanisms that contribute to eating during sad mood remain equivocal .\\n',\n",
              " 'OBJECTIVE\\tThe aim of this study was to test if attention bias for food moderates the effect of self-reported emotional eating during sad mood ( vs neutral mood ) on actual food intake .\\n',\n",
              " 'OBJECTIVE\\tIt was expected that emotional eating is predictive of elevated attention for food and higher food intake after an experimentally induced sad mood and that attentional maintenance on food predicts food intake during a sad versus a neutral mood .\\n',\n",
              " 'METHODS\\tParticipants ( N = @ ) were randomly assigned to one of the two experimental mood induction conditions ( sad/neutral ) .\\n',\n",
              " 'METHODS\\tAttentional biases for high caloric foods were measured by eye tracking during a visual probe task with pictorial food and neutral stimuli .\\n',\n",
              " 'METHODS\\tSelf-reported emotional eating was assessed with the Dutch Eating Behavior Questionnaire ( DEBQ ) and ad libitum food intake was tested by a disguised food offer .\\n',\n",
              " 'RESULTS\\tHierarchical multivariate regression modeling showed that self-reported emotional eating did not account for changes in attention allocation for food or food intake in either condition .\\n',\n",
              " 'RESULTS\\tYet , attention maintenance on food cues was significantly related to increased intake specifically in the neutral condition , but not in the sad mood condition .\\n',\n",
              " 'CONCLUSIONS\\tThe current findings show that self-reported emotional eating ( based on the DEBQ ) might not validly predict who overeats when sad , at least not in a laboratory setting with healthy women .\\n',\n",
              " 'CONCLUSIONS\\tResults further suggest that attention maintenance on food relates to eating motivation when in a neutral affective state , and might therefore be a cognitive mechanism contributing to increased food intake in general , but maybe not during sad mood .\\n',\n",
              " '\\n']"
            ]
          },
          "metadata": {},
          "execution_count": 10
        }
      ],
      "source": [
        "train_lines[:27]"
      ]
    },
    {
      "cell_type": "code",
      "execution_count": 11,
      "id": "48814b15-805f-4448-8846-ce3e3e9ab3de",
      "metadata": {
        "colab": {
          "base_uri": "https://localhost:8080/"
        },
        "id": "48814b15-805f-4448-8846-ce3e3e9ab3de",
        "outputId": "a98c928e-834f-48aa-ac87-06386dace90c"
      },
      "outputs": [
        {
          "output_type": "stream",
          "name": "stdout",
          "text": [
            "===============================\n",
            "===============================\n",
            "[{'id': '24293578', 'OBJECTIVE': 'To investigate the efficacy of @ weeks of daily low-dose oral prednisolone in improving pain , mobility , and systemic low-grade inflammation in the short term and whether the effect would be sustained at @ weeks in older adults with moderate to severe knee osteoarthritis ( OA ) .', 'METHODS': 'A total of @ patients with primary knee OA were randomized @:@ ; @ received @ mg/day of prednisolone and @ received placebo for @ weeks .Outcome measures included pain reduction and improvement in function scores and systemic inflammation markers .Pain was assessed using the visual analog pain scale ( @-@ mm ) .Secondary outcome measures included the Western Ontario and McMaster Universities Osteoarthritis Index scores , patient global assessment ( PGA ) of the severity of knee OA , and @-min walk distance ( @MWD ) .Serum levels of interleukin @ ( IL-@ ) , IL-@ , tumor necrosis factor ( TNF ) - , and high-sensitivity C-reactive protein ( hsCRP ) were measured .', 'RESULTS': 'There was a clinically relevant reduction in the intervention group compared to the placebo group for knee pain , physical function , PGA , and @MWD at @ weeks .The mean difference between treatment arms ( @ % CI ) was @ ( @-@ @ ) , p < @ ; @ ( @-@ @ ) , p < @ ; @ ( @-@ @ ) , p < @ ; and @ ( @-@ @ ) , p < @ , respectively .Further , there was a clinically relevant reduction in the serum levels of IL-@ , IL-@ , TNF - , and hsCRP at @ weeks in the intervention group when compared to the placebo group .These differences remained significant at @ weeks .The Outcome Measures in Rheumatology Clinical Trials-Osteoarthritis Research Society International responder rate was @ % in the intervention group and @ % in the placebo group ( p < @ ) .', 'CONCLUSIONS': 'Low-dose oral prednisolone had both a short-term and a longer sustained effect resulting in less knee pain , better physical function , and attenuation of systemic inflammation in older patients with knee OA ( ClinicalTrials.gov identifier NCT@ ) .'}, {'id': '24854809', 'BACKGROUND': 'Emotional eating is associated with overeating and the development of obesity .Yet , empirical evidence for individual ( trait ) differences in emotional eating and cognitive mechanisms that contribute to eating during sad mood remain equivocal .', 'OBJECTIVE': 'The aim of this study was to test if attention bias for food moderates the effect of self-reported emotional eating during sad mood ( vs neutral mood ) on actual food intake .It was expected that emotional eating is predictive of elevated attention for food and higher food intake after an experimentally induced sad mood and that attentional maintenance on food predicts food intake during a sad versus a neutral mood .', 'METHODS': 'Participants ( N = @ ) were randomly assigned to one of the two experimental mood induction conditions ( sad/neutral ) .Attentional biases for high caloric foods were measured by eye tracking during a visual probe task with pictorial food and neutral stimuli .Self-reported emotional eating was assessed with the Dutch Eating Behavior Questionnaire ( DEBQ ) and ad libitum food intake was tested by a disguised food offer .', 'RESULTS': 'Hierarchical multivariate regression modeling showed that self-reported emotional eating did not account for changes in attention allocation for food or food intake in either condition .Yet , attention maintenance on food cues was significantly related to increased intake specifically in the neutral condition , but not in the sad mood condition .', 'CONCLUSIONS': 'The current findings show that self-reported emotional eating ( based on the DEBQ ) might not validly predict who overeats when sad , at least not in a laboratory setting with healthy women .Results further suggest that attention maintenance on food relates to eating motivation when in a neutral affective state , and might therefore be a cognitive mechanism contributing to increased food intake in general , but maybe not during sad mood .'}]\n",
            "2\n"
          ]
        }
      ],
      "source": [
        "test_list = []\n",
        "info_dict = dict()\n",
        "for index,i in enumerate(train_lines[:27]):\n",
        "\n",
        "    split_text = i.splitlines()\n",
        "\n",
        "\n",
        "    for j in split_text:\n",
        "\n",
        "        line_split = j.split('\\t')\n",
        "\n",
        "        if len(line_split) > 1:\n",
        "            if line_split[0] not in info_dict:\n",
        "                info_dict[line_split[0]] = line_split[1]\n",
        "            else:\n",
        "                info_dict[line_split[0]] = info_dict[line_split[0]] + line_split[1]\n",
        "        # print(info_dict)\n",
        "        if \"###\" in j:\n",
        "            info_dict[\"id\"] = j.split('###')[1]\n",
        "\n",
        "        if j == '':\n",
        "\n",
        "            test_list.append(info_dict)\n",
        "            info_dict = dict()\n",
        "            print(\"===============================\")\n",
        "print(test_list)\n",
        "print(len(test_list))"
      ]
    },
    {
      "cell_type": "code",
      "execution_count": 12,
      "id": "cb05c49a-893b-4737-ade6-cd8e827a3af8",
      "metadata": {
        "id": "cb05c49a-893b-4737-ade6-cd8e827a3af8"
      },
      "outputs": [],
      "source": [
        "def preprocess_text_with_line_number(filename):\n",
        "    \"\"\"\n",
        "    Returns a list of dictionaries of abstract lines of data.\n",
        "\n",
        "    Takes in filename, reads it contents and sorts through each line,\n",
        "    extracting things like the target label, the text of the sentence,\n",
        "    how many sentences are in the current abstract and what sentence number the target line is\n",
        "    \"\"\"\n",
        "    input_lines = get_lines(filename)\n",
        "    abstract_lines = \"\" #create an empty abstract\n",
        "    abstract_samples = [] # create an empty list of abstracts\n",
        "\n",
        "    #loop through each line in target file\n",
        "    for line in input_lines:\n",
        "        if line.startswith(\"###\"): #check to see if it starts with a ID line\n",
        "            abstract_id = line\n",
        "            abstract_lines = \"\" #reset the abstract string if the line is a 1D line\n",
        "        elif line.isspace(): #check if the line is a new line\n",
        "            abstract_line_split = abstract_lines.splitlines() #split abstract into seperate lines\n",
        "\n",
        "            #iterate through each line in a single abstract and count them at the same time\n",
        "            for abstract_line_number, abstract_line in enumerate(abstract_line_split):\n",
        "                line_data = {} # create an empty dictionary for each line\n",
        "                target_text_split = abstract_line.split(\"\\t\") #split target label from text\n",
        "                line_data[\"target\"] = target_text_split[0] #get target label\n",
        "                line_data[\"text\"] = target_text_split[1].lower() #get target text and lower the text\n",
        "                line_data[\"line_number\"] = abstract_line_number #what number line does the line appear in abstract\n",
        "                line_data[\"total_lines\"] = len(abstract_line_split) - 1 # How many total lines are there in the abstract\n",
        "                abstract_samples.append(line_data)#add line data to abstract sample\n",
        "        else: #if the above conditions are not fulfilled, the line containins a labelled sentence\n",
        "            abstract_lines += line\n",
        "\n",
        "    return abstract_samples"
      ]
    },
    {
      "cell_type": "code",
      "execution_count": 13,
      "id": "6a070870-6179-472b-9ecc-29dfaa67e986",
      "metadata": {
        "colab": {
          "base_uri": "https://localhost:8080/"
        },
        "id": "6a070870-6179-472b-9ecc-29dfaa67e986",
        "outputId": "8816f46e-c7c5-40ab-9479-1b72d86d7dc0"
      },
      "outputs": [
        {
          "output_type": "stream",
          "name": "stdout",
          "text": [
            "CPU times: user 4 µs, sys: 0 ns, total: 4 µs\n",
            "Wall time: 7.15 µs\n"
          ]
        },
        {
          "output_type": "execute_result",
          "data": {
            "text/plain": [
              "(180040, 30212, 30135)"
            ]
          },
          "metadata": {},
          "execution_count": 13
        }
      ],
      "source": [
        "# Get data from file and process it\n",
        "%time\n",
        "train_samples = preprocess_text_with_line_number(data_dir + \"train.txt\")\n",
        "val_samples = preprocess_text_with_line_number(data_dir+\"dev.txt\") #dev is another name for validation\n",
        "test_samples = preprocess_text_with_line_number(data_dir+\"test.txt\")\n",
        "len(train_samples), len(val_samples), len(test_samples)"
      ]
    },
    {
      "cell_type": "code",
      "execution_count": 14,
      "id": "e834747a-5f78-48e4-acbb-2c5c0f3561c8",
      "metadata": {
        "colab": {
          "base_uri": "https://localhost:8080/"
        },
        "id": "e834747a-5f78-48e4-acbb-2c5c0f3561c8",
        "outputId": "166d8b0c-5bca-4d18-ece1-9faee252714f"
      },
      "outputs": [
        {
          "output_type": "execute_result",
          "data": {
            "text/plain": [
              "[{'target': 'OBJECTIVE',\n",
              "  'text': 'to investigate the efficacy of @ weeks of daily low-dose oral prednisolone in improving pain , mobility , and systemic low-grade inflammation in the short term and whether the effect would be sustained at @ weeks in older adults with moderate to severe knee osteoarthritis ( oa ) .',\n",
              "  'line_number': 0,\n",
              "  'total_lines': 11},\n",
              " {'target': 'METHODS',\n",
              "  'text': 'a total of @ patients with primary knee oa were randomized @:@ ; @ received @ mg/day of prednisolone and @ received placebo for @ weeks .',\n",
              "  'line_number': 1,\n",
              "  'total_lines': 11},\n",
              " {'target': 'METHODS',\n",
              "  'text': 'outcome measures included pain reduction and improvement in function scores and systemic inflammation markers .',\n",
              "  'line_number': 2,\n",
              "  'total_lines': 11},\n",
              " {'target': 'METHODS',\n",
              "  'text': 'pain was assessed using the visual analog pain scale ( @-@ mm ) .',\n",
              "  'line_number': 3,\n",
              "  'total_lines': 11},\n",
              " {'target': 'METHODS',\n",
              "  'text': 'secondary outcome measures included the western ontario and mcmaster universities osteoarthritis index scores , patient global assessment ( pga ) of the severity of knee oa , and @-min walk distance ( @mwd ) .',\n",
              "  'line_number': 4,\n",
              "  'total_lines': 11},\n",
              " {'target': 'METHODS',\n",
              "  'text': 'serum levels of interleukin @ ( il-@ ) , il-@ , tumor necrosis factor ( tnf ) - , and high-sensitivity c-reactive protein ( hscrp ) were measured .',\n",
              "  'line_number': 5,\n",
              "  'total_lines': 11},\n",
              " {'target': 'RESULTS',\n",
              "  'text': 'there was a clinically relevant reduction in the intervention group compared to the placebo group for knee pain , physical function , pga , and @mwd at @ weeks .',\n",
              "  'line_number': 6,\n",
              "  'total_lines': 11},\n",
              " {'target': 'RESULTS',\n",
              "  'text': 'the mean difference between treatment arms ( @ % ci ) was @ ( @-@ @ ) , p < @ ; @ ( @-@ @ ) , p < @ ; @ ( @-@ @ ) , p < @ ; and @ ( @-@ @ ) , p < @ , respectively .',\n",
              "  'line_number': 7,\n",
              "  'total_lines': 11},\n",
              " {'target': 'RESULTS',\n",
              "  'text': 'further , there was a clinically relevant reduction in the serum levels of il-@ , il-@ , tnf - , and hscrp at @ weeks in the intervention group when compared to the placebo group .',\n",
              "  'line_number': 8,\n",
              "  'total_lines': 11},\n",
              " {'target': 'RESULTS',\n",
              "  'text': 'these differences remained significant at @ weeks .',\n",
              "  'line_number': 9,\n",
              "  'total_lines': 11},\n",
              " {'target': 'RESULTS',\n",
              "  'text': 'the outcome measures in rheumatology clinical trials-osteoarthritis research society international responder rate was @ % in the intervention group and @ % in the placebo group ( p < @ ) .',\n",
              "  'line_number': 10,\n",
              "  'total_lines': 11},\n",
              " {'target': 'CONCLUSIONS',\n",
              "  'text': 'low-dose oral prednisolone had both a short-term and a longer sustained effect resulting in less knee pain , better physical function , and attenuation of systemic inflammation in older patients with knee oa ( clinicaltrials.gov identifier nct@ ) .',\n",
              "  'line_number': 11,\n",
              "  'total_lines': 11},\n",
              " {'target': 'BACKGROUND',\n",
              "  'text': 'emotional eating is associated with overeating and the development of obesity .',\n",
              "  'line_number': 0,\n",
              "  'total_lines': 10},\n",
              " {'target': 'BACKGROUND',\n",
              "  'text': 'yet , empirical evidence for individual ( trait ) differences in emotional eating and cognitive mechanisms that contribute to eating during sad mood remain equivocal .',\n",
              "  'line_number': 1,\n",
              "  'total_lines': 10}]"
            ]
          },
          "metadata": {},
          "execution_count": 14
        }
      ],
      "source": [
        "# check the first abstract of our training data\n",
        "train_samples[:14]"
      ]
    },
    {
      "cell_type": "markdown",
      "id": "90f19803-eed5-4d91-af31-3e49317fa9f3",
      "metadata": {
        "id": "90f19803-eed5-4d91-af31-3e49317fa9f3"
      },
      "source": [
        "Now that our data is in the form of list of dictionaries, how about we turn it into a dataframe to further visualize it."
      ]
    },
    {
      "cell_type": "code",
      "execution_count": 15,
      "id": "34b43958-e652-403d-8efd-a7463e2676f0",
      "metadata": {
        "colab": {
          "base_uri": "https://localhost:8080/",
          "height": 206
        },
        "id": "34b43958-e652-403d-8efd-a7463e2676f0",
        "outputId": "785a406c-9517-40d7-8d66-856a8380d222"
      },
      "outputs": [
        {
          "output_type": "execute_result",
          "data": {
            "text/plain": [
              "      target                                               text  line_number  \\\n",
              "0  OBJECTIVE  to investigate the efficacy of @ weeks of dail...            0   \n",
              "1    METHODS  a total of @ patients with primary knee oa wer...            1   \n",
              "2    METHODS  outcome measures included pain reduction and i...            2   \n",
              "3    METHODS  pain was assessed using the visual analog pain...            3   \n",
              "4    METHODS  secondary outcome measures included the wester...            4   \n",
              "\n",
              "   total_lines  \n",
              "0           11  \n",
              "1           11  \n",
              "2           11  \n",
              "3           11  \n",
              "4           11  "
            ],
            "text/html": [
              "\n",
              "  <div id=\"df-e52b82d3-6d0e-44e5-9872-20141e218fbb\" class=\"colab-df-container\">\n",
              "    <div>\n",
              "<style scoped>\n",
              "    .dataframe tbody tr th:only-of-type {\n",
              "        vertical-align: middle;\n",
              "    }\n",
              "\n",
              "    .dataframe tbody tr th {\n",
              "        vertical-align: top;\n",
              "    }\n",
              "\n",
              "    .dataframe thead th {\n",
              "        text-align: right;\n",
              "    }\n",
              "</style>\n",
              "<table border=\"1\" class=\"dataframe\">\n",
              "  <thead>\n",
              "    <tr style=\"text-align: right;\">\n",
              "      <th></th>\n",
              "      <th>target</th>\n",
              "      <th>text</th>\n",
              "      <th>line_number</th>\n",
              "      <th>total_lines</th>\n",
              "    </tr>\n",
              "  </thead>\n",
              "  <tbody>\n",
              "    <tr>\n",
              "      <th>0</th>\n",
              "      <td>OBJECTIVE</td>\n",
              "      <td>to investigate the efficacy of @ weeks of dail...</td>\n",
              "      <td>0</td>\n",
              "      <td>11</td>\n",
              "    </tr>\n",
              "    <tr>\n",
              "      <th>1</th>\n",
              "      <td>METHODS</td>\n",
              "      <td>a total of @ patients with primary knee oa wer...</td>\n",
              "      <td>1</td>\n",
              "      <td>11</td>\n",
              "    </tr>\n",
              "    <tr>\n",
              "      <th>2</th>\n",
              "      <td>METHODS</td>\n",
              "      <td>outcome measures included pain reduction and i...</td>\n",
              "      <td>2</td>\n",
              "      <td>11</td>\n",
              "    </tr>\n",
              "    <tr>\n",
              "      <th>3</th>\n",
              "      <td>METHODS</td>\n",
              "      <td>pain was assessed using the visual analog pain...</td>\n",
              "      <td>3</td>\n",
              "      <td>11</td>\n",
              "    </tr>\n",
              "    <tr>\n",
              "      <th>4</th>\n",
              "      <td>METHODS</td>\n",
              "      <td>secondary outcome measures included the wester...</td>\n",
              "      <td>4</td>\n",
              "      <td>11</td>\n",
              "    </tr>\n",
              "  </tbody>\n",
              "</table>\n",
              "</div>\n",
              "    <div class=\"colab-df-buttons\">\n",
              "\n",
              "  <div class=\"colab-df-container\">\n",
              "    <button class=\"colab-df-convert\" onclick=\"convertToInteractive('df-e52b82d3-6d0e-44e5-9872-20141e218fbb')\"\n",
              "            title=\"Convert this dataframe to an interactive table.\"\n",
              "            style=\"display:none;\">\n",
              "\n",
              "  <svg xmlns=\"http://www.w3.org/2000/svg\" height=\"24px\" viewBox=\"0 -960 960 960\">\n",
              "    <path d=\"M120-120v-720h720v720H120Zm60-500h600v-160H180v160Zm220 220h160v-160H400v160Zm0 220h160v-160H400v160ZM180-400h160v-160H180v160Zm440 0h160v-160H620v160ZM180-180h160v-160H180v160Zm440 0h160v-160H620v160Z\"/>\n",
              "  </svg>\n",
              "    </button>\n",
              "\n",
              "  <style>\n",
              "    .colab-df-container {\n",
              "      display:flex;\n",
              "      gap: 12px;\n",
              "    }\n",
              "\n",
              "    .colab-df-convert {\n",
              "      background-color: #E8F0FE;\n",
              "      border: none;\n",
              "      border-radius: 50%;\n",
              "      cursor: pointer;\n",
              "      display: none;\n",
              "      fill: #1967D2;\n",
              "      height: 32px;\n",
              "      padding: 0 0 0 0;\n",
              "      width: 32px;\n",
              "    }\n",
              "\n",
              "    .colab-df-convert:hover {\n",
              "      background-color: #E2EBFA;\n",
              "      box-shadow: 0px 1px 2px rgba(60, 64, 67, 0.3), 0px 1px 3px 1px rgba(60, 64, 67, 0.15);\n",
              "      fill: #174EA6;\n",
              "    }\n",
              "\n",
              "    .colab-df-buttons div {\n",
              "      margin-bottom: 4px;\n",
              "    }\n",
              "\n",
              "    [theme=dark] .colab-df-convert {\n",
              "      background-color: #3B4455;\n",
              "      fill: #D2E3FC;\n",
              "    }\n",
              "\n",
              "    [theme=dark] .colab-df-convert:hover {\n",
              "      background-color: #434B5C;\n",
              "      box-shadow: 0px 1px 3px 1px rgba(0, 0, 0, 0.15);\n",
              "      filter: drop-shadow(0px 1px 2px rgba(0, 0, 0, 0.3));\n",
              "      fill: #FFFFFF;\n",
              "    }\n",
              "  </style>\n",
              "\n",
              "    <script>\n",
              "      const buttonEl =\n",
              "        document.querySelector('#df-e52b82d3-6d0e-44e5-9872-20141e218fbb button.colab-df-convert');\n",
              "      buttonEl.style.display =\n",
              "        google.colab.kernel.accessAllowed ? 'block' : 'none';\n",
              "\n",
              "      async function convertToInteractive(key) {\n",
              "        const element = document.querySelector('#df-e52b82d3-6d0e-44e5-9872-20141e218fbb');\n",
              "        const dataTable =\n",
              "          await google.colab.kernel.invokeFunction('convertToInteractive',\n",
              "                                                    [key], {});\n",
              "        if (!dataTable) return;\n",
              "\n",
              "        const docLinkHtml = 'Like what you see? Visit the ' +\n",
              "          '<a target=\"_blank\" href=https://colab.research.google.com/notebooks/data_table.ipynb>data table notebook</a>'\n",
              "          + ' to learn more about interactive tables.';\n",
              "        element.innerHTML = '';\n",
              "        dataTable['output_type'] = 'display_data';\n",
              "        await google.colab.output.renderOutput(dataTable, element);\n",
              "        const docLink = document.createElement('div');\n",
              "        docLink.innerHTML = docLinkHtml;\n",
              "        element.appendChild(docLink);\n",
              "      }\n",
              "    </script>\n",
              "  </div>\n",
              "\n",
              "\n",
              "<div id=\"df-d4a7ffdd-9e7f-48c6-a0bf-f8ac26c1cd84\">\n",
              "  <button class=\"colab-df-quickchart\" onclick=\"quickchart('df-d4a7ffdd-9e7f-48c6-a0bf-f8ac26c1cd84')\"\n",
              "            title=\"Suggest charts\"\n",
              "            style=\"display:none;\">\n",
              "\n",
              "<svg xmlns=\"http://www.w3.org/2000/svg\" height=\"24px\"viewBox=\"0 0 24 24\"\n",
              "     width=\"24px\">\n",
              "    <g>\n",
              "        <path d=\"M19 3H5c-1.1 0-2 .9-2 2v14c0 1.1.9 2 2 2h14c1.1 0 2-.9 2-2V5c0-1.1-.9-2-2-2zM9 17H7v-7h2v7zm4 0h-2V7h2v10zm4 0h-2v-4h2v4z\"/>\n",
              "    </g>\n",
              "</svg>\n",
              "  </button>\n",
              "\n",
              "<style>\n",
              "  .colab-df-quickchart {\n",
              "      --bg-color: #E8F0FE;\n",
              "      --fill-color: #1967D2;\n",
              "      --hover-bg-color: #E2EBFA;\n",
              "      --hover-fill-color: #174EA6;\n",
              "      --disabled-fill-color: #AAA;\n",
              "      --disabled-bg-color: #DDD;\n",
              "  }\n",
              "\n",
              "  [theme=dark] .colab-df-quickchart {\n",
              "      --bg-color: #3B4455;\n",
              "      --fill-color: #D2E3FC;\n",
              "      --hover-bg-color: #434B5C;\n",
              "      --hover-fill-color: #FFFFFF;\n",
              "      --disabled-bg-color: #3B4455;\n",
              "      --disabled-fill-color: #666;\n",
              "  }\n",
              "\n",
              "  .colab-df-quickchart {\n",
              "    background-color: var(--bg-color);\n",
              "    border: none;\n",
              "    border-radius: 50%;\n",
              "    cursor: pointer;\n",
              "    display: none;\n",
              "    fill: var(--fill-color);\n",
              "    height: 32px;\n",
              "    padding: 0;\n",
              "    width: 32px;\n",
              "  }\n",
              "\n",
              "  .colab-df-quickchart:hover {\n",
              "    background-color: var(--hover-bg-color);\n",
              "    box-shadow: 0 1px 2px rgba(60, 64, 67, 0.3), 0 1px 3px 1px rgba(60, 64, 67, 0.15);\n",
              "    fill: var(--button-hover-fill-color);\n",
              "  }\n",
              "\n",
              "  .colab-df-quickchart-complete:disabled,\n",
              "  .colab-df-quickchart-complete:disabled:hover {\n",
              "    background-color: var(--disabled-bg-color);\n",
              "    fill: var(--disabled-fill-color);\n",
              "    box-shadow: none;\n",
              "  }\n",
              "\n",
              "  .colab-df-spinner {\n",
              "    border: 2px solid var(--fill-color);\n",
              "    border-color: transparent;\n",
              "    border-bottom-color: var(--fill-color);\n",
              "    animation:\n",
              "      spin 1s steps(1) infinite;\n",
              "  }\n",
              "\n",
              "  @keyframes spin {\n",
              "    0% {\n",
              "      border-color: transparent;\n",
              "      border-bottom-color: var(--fill-color);\n",
              "      border-left-color: var(--fill-color);\n",
              "    }\n",
              "    20% {\n",
              "      border-color: transparent;\n",
              "      border-left-color: var(--fill-color);\n",
              "      border-top-color: var(--fill-color);\n",
              "    }\n",
              "    30% {\n",
              "      border-color: transparent;\n",
              "      border-left-color: var(--fill-color);\n",
              "      border-top-color: var(--fill-color);\n",
              "      border-right-color: var(--fill-color);\n",
              "    }\n",
              "    40% {\n",
              "      border-color: transparent;\n",
              "      border-right-color: var(--fill-color);\n",
              "      border-top-color: var(--fill-color);\n",
              "    }\n",
              "    60% {\n",
              "      border-color: transparent;\n",
              "      border-right-color: var(--fill-color);\n",
              "    }\n",
              "    80% {\n",
              "      border-color: transparent;\n",
              "      border-right-color: var(--fill-color);\n",
              "      border-bottom-color: var(--fill-color);\n",
              "    }\n",
              "    90% {\n",
              "      border-color: transparent;\n",
              "      border-bottom-color: var(--fill-color);\n",
              "    }\n",
              "  }\n",
              "</style>\n",
              "\n",
              "  <script>\n",
              "    async function quickchart(key) {\n",
              "      const quickchartButtonEl =\n",
              "        document.querySelector('#' + key + ' button');\n",
              "      quickchartButtonEl.disabled = true;  // To prevent multiple clicks.\n",
              "      quickchartButtonEl.classList.add('colab-df-spinner');\n",
              "      try {\n",
              "        const charts = await google.colab.kernel.invokeFunction(\n",
              "            'suggestCharts', [key], {});\n",
              "      } catch (error) {\n",
              "        console.error('Error during call to suggestCharts:', error);\n",
              "      }\n",
              "      quickchartButtonEl.classList.remove('colab-df-spinner');\n",
              "      quickchartButtonEl.classList.add('colab-df-quickchart-complete');\n",
              "    }\n",
              "    (() => {\n",
              "      let quickchartButtonEl =\n",
              "        document.querySelector('#df-d4a7ffdd-9e7f-48c6-a0bf-f8ac26c1cd84 button');\n",
              "      quickchartButtonEl.style.display =\n",
              "        google.colab.kernel.accessAllowed ? 'block' : 'none';\n",
              "    })();\n",
              "  </script>\n",
              "</div>\n",
              "\n",
              "    </div>\n",
              "  </div>\n"
            ],
            "application/vnd.google.colaboratory.intrinsic+json": {
              "type": "dataframe",
              "variable_name": "train_df"
            }
          },
          "metadata": {},
          "execution_count": 15
        }
      ],
      "source": [
        "import pandas as pd\n",
        "train_df = pd.DataFrame(train_samples)\n",
        "val_df = pd.DataFrame(val_samples)\n",
        "test_df = pd.DataFrame(test_samples)\n",
        "train_df.head()"
      ]
    },
    {
      "cell_type": "code",
      "execution_count": 16,
      "id": "0dace67f-4445-4f0d-a999-6214ed3b9979",
      "metadata": {
        "colab": {
          "base_uri": "https://localhost:8080/"
        },
        "id": "0dace67f-4445-4f0d-a999-6214ed3b9979",
        "outputId": "3c5d3324-3daa-479d-95db-2f17db4f0925"
      },
      "outputs": [
        {
          "output_type": "execute_result",
          "data": {
            "text/plain": [
              "target\n",
              "METHODS        59353\n",
              "RESULTS        57953\n",
              "CONCLUSIONS    27168\n",
              "BACKGROUND     21727\n",
              "OBJECTIVE      13839\n",
              "Name: count, dtype: int64"
            ]
          },
          "metadata": {},
          "execution_count": 16
        }
      ],
      "source": [
        "# distribution of labels in training data\n",
        "train_df.target.value_counts()"
      ]
    },
    {
      "cell_type": "code",
      "execution_count": 17,
      "id": "3b2c59ab-2b58-41ff-ab16-326c75481f2a",
      "metadata": {
        "colab": {
          "base_uri": "https://localhost:8080/",
          "height": 431
        },
        "id": "3b2c59ab-2b58-41ff-ab16-326c75481f2a",
        "outputId": "6bf30b70-5fe1-407f-d174-4e12a02363b5"
      },
      "outputs": [
        {
          "output_type": "display_data",
          "data": {
            "text/plain": [
              "<Figure size 640x480 with 1 Axes>"
            ],
            "image/png": "[encoded data removed]"
          },
          "metadata": {}
        }
      ],
      "source": [
        "# Let's check the length if differrent lines\n",
        "train_df.total_lines.plot(kind=\"hist\");"
      ]
    },
    {
      "cell_type": "markdown",
      "id": "4b91265d-455c-4666-b053-0b5339bcf33b",
      "metadata": {
        "id": "4b91265d-455c-4666-b053-0b5339bcf33b"
      },
      "source": [
        "### GET list of sentences"
      ]
    },
    {
      "cell_type": "code",
      "execution_count": 18,
      "id": "252b40e0-eb28-4944-ad94-5d3dd250f7d4",
      "metadata": {
        "colab": {
          "base_uri": "https://localhost:8080/"
        },
        "id": "252b40e0-eb28-4944-ad94-5d3dd250f7d4",
        "outputId": "efbe3014-0368-485f-c5b3-e57920a5fed2"
      },
      "outputs": [
        {
          "output_type": "execute_result",
          "data": {
            "text/plain": [
              "(180040, 30212, 30135)"
            ]
          },
          "metadata": {},
          "execution_count": 18
        }
      ],
      "source": [
        "#convert abstract text lines into lists\n",
        "train_sentences = train_df.text.tolist()\n",
        "val_sentences = val_df.text.tolist()\n",
        "test_sentences = test_df.text.tolist()\n",
        "\n",
        "len(train_sentences), len(val_sentences), len(test_sentences)"
      ]
    },
    {
      "cell_type": "code",
      "execution_count": 19,
      "id": "94ca2f91-07fb-4285-83bb-291745935384",
      "metadata": {
        "colab": {
          "base_uri": "https://localhost:8080/"
        },
        "id": "94ca2f91-07fb-4285-83bb-291745935384",
        "outputId": "ff822054-6ddd-4769-ed49-a8fea156492c"
      },
      "outputs": [
        {
          "output_type": "execute_result",
          "data": {
            "text/plain": [
              "['to investigate the efficacy of @ weeks of daily low-dose oral prednisolone in improving pain , mobility , and systemic low-grade inflammation in the short term and whether the effect would be sustained at @ weeks in older adults with moderate to severe knee osteoarthritis ( oa ) .',\n",
              " 'a total of @ patients with primary knee oa were randomized @:@ ; @ received @ mg/day of prednisolone and @ received placebo for @ weeks .',\n",
              " 'outcome measures included pain reduction and improvement in function scores and systemic inflammation markers .',\n",
              " 'pain was assessed using the visual analog pain scale ( @-@ mm ) .',\n",
              " 'secondary outcome measures included the western ontario and mcmaster universities osteoarthritis index scores , patient global assessment ( pga ) of the severity of knee oa , and @-min walk distance ( @mwd ) .',\n",
              " 'serum levels of interleukin @ ( il-@ ) , il-@ , tumor necrosis factor ( tnf ) - , and high-sensitivity c-reactive protein ( hscrp ) were measured .',\n",
              " 'there was a clinically relevant reduction in the intervention group compared to the placebo group for knee pain , physical function , pga , and @mwd at @ weeks .',\n",
              " 'the mean difference between treatment arms ( @ % ci ) was @ ( @-@ @ ) , p < @ ; @ ( @-@ @ ) , p < @ ; @ ( @-@ @ ) , p < @ ; and @ ( @-@ @ ) , p < @ , respectively .',\n",
              " 'further , there was a clinically relevant reduction in the serum levels of il-@ , il-@ , tnf - , and hscrp at @ weeks in the intervention group when compared to the placebo group .',\n",
              " 'these differences remained significant at @ weeks .']"
            ]
          },
          "metadata": {},
          "execution_count": 19
        }
      ],
      "source": [
        "# view the 10 lines of train_sentences\n",
        "train_sentences[:10]"
      ]
    },
    {
      "cell_type": "markdown",
      "id": "5d113602-0c4a-4550-94b1-4fbb7eca75f8",
      "metadata": {
        "id": "5d113602-0c4a-4550-94b1-4fbb7eca75f8"
      },
      "source": [
        "## Making numeric labels(ML models require numeric labels)\n"
      ]
    },
    {
      "cell_type": "code",
      "execution_count": 20,
      "id": "3d6cbcb0-b240-428f-a100-d79f8730a843",
      "metadata": {
        "colab": {
          "base_uri": "https://localhost:8080/"
        },
        "id": "3d6cbcb0-b240-428f-a100-d79f8730a843",
        "outputId": "7e4eda25-fa2d-4c53-b105-6d002786b93c"
      },
      "outputs": [
        {
          "output_type": "execute_result",
          "data": {
            "text/plain": [
              "array([[0., 0., 0., 1., 0.],\n",
              "       [0., 0., 1., 0., 0.],\n",
              "       [0., 0., 1., 0., 0.],\n",
              "       ...,\n",
              "       [0., 0., 0., 0., 1.],\n",
              "       [0., 1., 0., 0., 0.],\n",
              "       [0., 1., 0., 0., 0.]])"
            ]
          },
          "metadata": {},
          "execution_count": 20
        }
      ],
      "source": [
        "# One hot encode labels\n",
        "import numpy as np\n",
        "from sklearn.preprocessing import OneHotEncoder\n",
        "one_hot_encoder = OneHotEncoder(sparse_output=False) #we want non-sparse matrix\n",
        "train_labels_one_hot = one_hot_encoder.fit_transform(np.expand_dims(train_df[\"target\"].to_numpy(), axis=1))\n",
        "val_labels_one_hot = one_hot_encoder.transform(np.expand_dims(val_df[\"target\"].to_numpy(), axis=1))\n",
        "test_labels_one_hot = one_hot_encoder.transform(np.expand_dims(test_df.target.to_numpy(), axis=1))\n",
        "#check what one hot encoded label looks like\n",
        "train_labels_one_hot"
      ]
    },
    {
      "cell_type": "markdown",
      "id": "a5b4545d-1902-4f96-ae21-77f02d7d9971",
      "metadata": {
        "id": "a5b4545d-1902-4f96-ae21-77f02d7d9971"
      },
      "source": [
        "### Label encode labels"
      ]
    },
    {
      "cell_type": "code",
      "execution_count": 21,
      "id": "9d97522d-1ee4-41d0-ba47-7e154306629c",
      "metadata": {
        "colab": {
          "base_uri": "https://localhost:8080/"
        },
        "id": "9d97522d-1ee4-41d0-ba47-7e154306629c",
        "outputId": "4c3bf84a-f9a7-4db3-a579-0aad3aa9247e"
      },
      "outputs": [
        {
          "output_type": "execute_result",
          "data": {
            "text/plain": [
              "(array([3, 2, 2, ..., 4, 1, 1]),\n",
              " array([0, 0, 3, ..., 4, 1, 1]),\n",
              " array([0, 4, 4, ..., 4, 4, 1]))"
            ]
          },
          "metadata": {},
          "execution_count": 21
        }
      ],
      "source": [
        "# Extract labels(target columns) and encode them into integers\n",
        "from sklearn.preprocessing import LabelEncoder\n",
        "label_encoder = LabelEncoder()\n",
        "train_labels_encoded = label_encoder.fit_transform(train_df[\"target\"].to_numpy())\n",
        "val_labels_encoded = label_encoder.transform(val_df[\"target\"].to_numpy())\n",
        "test_labels_encoded = label_encoder.transform(test_df[\"target\"].to_numpy())\n",
        "\n",
        "#check out the label encoded train labels\n",
        "train_labels_encoded, val_labels_encoded, test_labels_encoded"
      ]
    },
    {
      "cell_type": "code",
      "execution_count": 22,
      "id": "ec2120c7-8b10-47bf-b5cf-2fa6d993ccd1",
      "metadata": {
        "colab": {
          "base_uri": "https://localhost:8080/"
        },
        "id": "ec2120c7-8b10-47bf-b5cf-2fa6d993ccd1",
        "outputId": "434b64a5-7556-4f20-ef2c-fb7b2790f228"
      },
      "outputs": [
        {
          "output_type": "execute_result",
          "data": {
            "text/plain": [
              "(5,\n",
              " array(['BACKGROUND', 'CONCLUSIONS', 'METHODS', 'OBJECTIVE', 'RESULTS'],\n",
              "       dtype=object))"
            ]
          },
          "metadata": {},
          "execution_count": 22
        }
      ],
      "source": [
        "# Get the class names and number of classes from label encoder instance\n",
        "num_classes = len(label_encoder.classes_)\n",
        "class_names = label_encoder.classes_\n",
        "num_classes, class_names"
      ]
    },
    {
      "cell_type": "markdown",
      "id": "f79abdb2-afc0-4d63-9ccd-ed0633ea54f3",
      "metadata": {
        "id": "f79abdb2-afc0-4d63-9ccd-ed0633ea54f3"
      },
      "source": [
        "## Model 0: Baseline model\n",
        "\n",
        "Starting a series of modelling experiments. Let's try a bunch of differrent models and see which one works best. We are going to start a baseline (TF-IDF Multinomial Naive Bayes Classifier)"
      ]
    },
    {
      "cell_type": "code",
      "execution_count": 23,
      "id": "910a43bd-2bd6-49db-8a1c-9b9ea1661971",
      "metadata": {
        "colab": {
          "base_uri": "https://localhost:8080/",
          "height": 126
        },
        "id": "910a43bd-2bd6-49db-8a1c-9b9ea1661971",
        "outputId": "1a069bd9-ddb5-400e-d2c0-3a737de3249c"
      },
      "outputs": [
        {
          "output_type": "execute_result",
          "data": {
            "text/plain": [
              "Pipeline(steps=[('TFIDF', TfidfVectorizer()), ('NB', MultinomialNB())])"
            ],
            "text/html": [
              "<style>#sk-container-id-1 {color: black;background-color: white;}#sk-container-id-1 pre{padding: 0;}#sk-container-id-1 div.sk-toggleable {background-color: white;}#sk-container-id-1 label.sk-toggleable__label {cursor: pointer;display: block;width: 100%;margin-bottom: 0;padding: 0.3em;box-sizing: border-box;text-align: center;}#sk-container-id-1 label.sk-toggleable__label-arrow:before {content: \"▸\";float: left;margin-right: 0.25em;color: #696969;}#sk-container-id-1 label.sk-toggleable__label-arrow:hover:before {color: black;}#sk-container-id-1 div.sk-estimator:hover label.sk-toggleable__label-arrow:before {color: black;}#sk-container-id-1 div.sk-toggleable__content {max-height: 0;max-width: 0;overflow: hidden;text-align: left;background-color: #f0f8ff;}#sk-container-id-1 div.sk-toggleable__content pre {margin: 0.2em;color: black;border-radius: 0.25em;background-color: #f0f8ff;}#sk-container-id-1 input.sk-toggleable__control:checked~div.sk-toggleable__content {max-height: 200px;max-width: 100%;overflow: auto;}#sk-container-id-1 input.sk-toggleable__control:checked~label.sk-toggleable__label-arrow:before {content: \"▾\";}#sk-container-id-1 div.sk-estimator input.sk-toggleable__control:checked~label.sk-toggleable__label {background-color: #d4ebff;}#sk-container-id-1 div.sk-label input.sk-toggleable__control:checked~label.sk-toggleable__label {background-color: #d4ebff;}#sk-container-id-1 input.sk-hidden--visually {border: 0;clip: rect(1px 1px 1px 1px);clip: rect(1px, 1px, 1px, 1px);height: 1px;margin: -1px;overflow: hidden;padding: 0;position: absolute;width: 1px;}#sk-container-id-1 div.sk-estimator {font-family: monospace;background-color: #f0f8ff;border: 1px dotted black;border-radius: 0.25em;box-sizing: border-box;margin-bottom: 0.5em;}#sk-container-id-1 div.sk-estimator:hover {background-color: #d4ebff;}#sk-container-id-1 div.sk-parallel-item::after {content: \"\";width: 100%;border-bottom: 1px solid gray;flex-grow: 1;}#sk-container-id-1 div.sk-label:hover label.sk-toggleable__label {background-color: #d4ebff;}#sk-container-id-1 div.sk-serial::before {content: \"\";position: absolute;border-left: 1px solid gray;box-sizing: border-box;top: 0;bottom: 0;left: 50%;z-index: 0;}#sk-container-id-1 div.sk-serial {display: flex;flex-direction: column;align-items: center;background-color: white;padding-right: 0.2em;padding-left: 0.2em;position: relative;}#sk-container-id-1 div.sk-item {position: relative;z-index: 1;}#sk-container-id-1 div.sk-parallel {display: flex;align-items: stretch;justify-content: center;background-color: white;position: relative;}#sk-container-id-1 div.sk-item::before, #sk-container-id-1 div.sk-parallel-item::before {content: \"\";position: absolute;border-left: 1px solid gray;box-sizing: border-box;top: 0;bottom: 0;left: 50%;z-index: -1;}#sk-container-id-1 div.sk-parallel-item {display: flex;flex-direction: column;z-index: 1;position: relative;background-color: white;}#sk-container-id-1 div.sk-parallel-item:first-child::after {align-self: flex-end;width: 50%;}#sk-container-id-1 div.sk-parallel-item:last-child::after {align-self: flex-start;width: 50%;}#sk-container-id-1 div.sk-parallel-item:only-child::after {width: 0;}#sk-container-id-1 div.sk-dashed-wrapped {border: 1px dashed gray;margin: 0 0.4em 0.5em 0.4em;box-sizing: border-box;padding-bottom: 0.4em;background-color: white;}#sk-container-id-1 div.sk-label label {font-family: monospace;font-weight: bold;display: inline-block;line-height: 1.2em;}#sk-container-id-1 div.sk-label-container {text-align: center;}#sk-container-id-1 div.sk-container {/* jupyter's `normalize.less` sets `[hidden] { display: none; }` but bootstrap.min.css set `[hidden] { display: none !important; }` so we also need the `!important` here to be able to override the default hidden behavior on the sphinx rendered scikit-learn.org. See: https://github.com/scikit-learn/scikit-learn/issues/21755 */display: inline-block !important;position: relative;}#sk-container-id-1 div.sk-text-repr-fallback {display: none;}</style><div id=\"sk-container-id-1\" class=\"sk-top-container\"><div class=\"sk-text-repr-fallback\"><pre>Pipeline(steps=[(&#x27;TFIDF&#x27;, TfidfVectorizer()), (&#x27;NB&#x27;, MultinomialNB())])</pre><b>In a Jupyter environment, please rerun this cell to show the HTML representation or trust the notebook. <br />On GitHub, the HTML representation is unable to render, please try loading this page with nbviewer.org.</b></div><div class=\"sk-container\" hidden><div class=\"sk-item sk-dashed-wrapped\"><div class=\"sk-label-container\"><div class=\"sk-label sk-toggleable\"><input class=\"sk-toggleable__control sk-hidden--visually\" id=\"sk-estimator-id-1\" type=\"checkbox\" ><label for=\"sk-estimator-id-1\" class=\"sk-toggleable__label sk-toggleable__label-arrow\">Pipeline</label><div class=\"sk-toggleable__content\"><pre>Pipeline(steps=[(&#x27;TFIDF&#x27;, TfidfVectorizer()), (&#x27;NB&#x27;, MultinomialNB())])</pre></div></div></div><div class=\"sk-serial\"><div class=\"sk-item\"><div class=\"sk-estimator sk-toggleable\"><input class=\"sk-toggleable__control sk-hidden--visually\" id=\"sk-estimator-id-2\" type=\"checkbox\" ><label for=\"sk-estimator-id-2\" class=\"sk-toggleable__label sk-toggleable__label-arrow\">TfidfVectorizer</label><div class=\"sk-toggleable__content\"><pre>TfidfVectorizer()</pre></div></div></div><div class=\"sk-item\"><div class=\"sk-estimator sk-toggleable\"><input class=\"sk-toggleable__control sk-hidden--visually\" id=\"sk-estimator-id-3\" type=\"checkbox\" ><label for=\"sk-estimator-id-3\" class=\"sk-toggleable__label sk-toggleable__label-arrow\">MultinomialNB</label><div class=\"sk-toggleable__content\"><pre>MultinomialNB()</pre></div></div></div></div></div></div></div>"
            ]
          },
          "metadata": {},
          "execution_count": 23
        }
      ],
      "source": [
        "#creating a tf-idf vectorizer\n",
        "from sklearn.feature_extraction.text import TfidfVectorizer\n",
        "from sklearn.naive_bayes import MultinomialNB\n",
        "from sklearn.pipeline import Pipeline\n",
        "\n",
        "model_0 = Pipeline([\n",
        "    (\"TFIDF\",TfidfVectorizer()),\n",
        "    (\"NB\",MultinomialNB())\n",
        "])\n",
        "\n",
        "model_0.fit(train_sentences, train_labels_encoded)\n"
      ]
    },
    {
      "cell_type": "code",
      "execution_count": 24,
      "id": "872d838c-2bd8-4e56-a595-44b5ce05491a",
      "metadata": {
        "colab": {
          "base_uri": "https://localhost:8080/"
        },
        "id": "872d838c-2bd8-4e56-a595-44b5ce05491a",
        "outputId": "6963f6ae-ea37-470d-9af6-7e13a09294ad"
      },
      "outputs": [
        {
          "output_type": "execute_result",
          "data": {
            "text/plain": [
              "0.7218323844829869"
            ]
          },
          "metadata": {},
          "execution_count": 24
        }
      ],
      "source": [
        "#evaluating the model\n",
        "model_0.score(val_sentences, val_labels_encoded)"
      ]
    },
    {
      "cell_type": "code",
      "execution_count": 25,
      "id": "dd049db8-e1a7-47f5-9e59-72ce82c82793",
      "metadata": {
        "colab": {
          "base_uri": "https://localhost:8080/"
        },
        "id": "dd049db8-e1a7-47f5-9e59-72ce82c82793",
        "outputId": "86f2562a-7bfc-4644-94aa-8f98d7c41dc1"
      },
      "outputs": [
        {
          "output_type": "execute_result",
          "data": {
            "text/plain": [
              "array([4, 1, 3, ..., 4, 4, 1])"
            ]
          },
          "metadata": {},
          "execution_count": 25
        }
      ],
      "source": [
        "# Make predictions using our baseline model\n",
        "baseline_preds = model_0.predict(val_sentences)\n",
        "baseline_preds"
      ]
    },
    {
      "cell_type": "code",
      "source": [
        "!wget \"https://raw.githubusercontent.com/SangeethKumarPG/DS-DL/main/helper_functions.py\""
      ],
      "metadata": {
        "colab": {
          "base_uri": "https://localhost:8080/"
        },
        "id": "bvskfMx9VmC5",
        "outputId": "7f2bc89d-e4c3-42c1-eaff-0cdc6c77b88f"
      },
      "id": "bvskfMx9VmC5",
      "execution_count": 26,
      "outputs": [
        {
          "output_type": "stream",
          "name": "stdout",
          "text": [
            "--2024-04-27 14:12:04--  https://raw.githubusercontent.com/SangeethKumarPG/DS-DL/main/helper_functions.py\n",
            "Resolving raw.githubusercontent.com (raw.githubusercontent.com)... 185.199.108.133, 185.199.109.133, 185.199.110.133, ...\n",
            "Connecting to raw.githubusercontent.com (raw.githubusercontent.com)|185.199.108.133|:443... connected.\n",
            "HTTP request sent, awaiting response... 200 OK\n",
            "Length: 10128 (9.9K) [text/plain]\n",
            "Saving to: ‘helper_functions.py’\n",
            "\n",
            "\rhelper_functions.py   0%[                    ]       0  --.-KB/s               \rhelper_functions.py 100%[===================>]   9.89K  --.-KB/s    in 0s      \n",
            "\n",
            "2024-04-27 14:12:04 (95.5 MB/s) - ‘helper_functions.py’ saved [10128/10128]\n",
            "\n"
          ]
        }
      ]
    },
    {
      "cell_type": "code",
      "execution_count": 27,
      "id": "e65678e0-80a4-4bd8-b487-3e7b07d5f3a1",
      "metadata": {
        "colab": {
          "base_uri": "https://localhost:8080/"
        },
        "id": "e65678e0-80a4-4bd8-b487-3e7b07d5f3a1",
        "outputId": "eb7fdf11-b0a6-4ead-b836-1fbae2744fdf"
      },
      "outputs": [
        {
          "output_type": "execute_result",
          "data": {
            "text/plain": [
              "{'accuracy': 72.1832384482987,\n",
              " 'precision': 0.7186466952323352,\n",
              " 'recall': 0.7218323844829869,\n",
              " 'f1': 0.6989250353450294}"
            ]
          },
          "metadata": {},
          "execution_count": 27
        }
      ],
      "source": [
        "#importing the calculate results from the helper functions\n",
        "from helper_functions import calculate_results\n",
        "\n",
        "base_line_results = calculate_results(val_labels_encoded, baseline_preds)\n",
        "base_line_results"
      ]
    },
    {
      "cell_type": "markdown",
      "id": "a143dce0-240e-42be-af38-8561bc6e8cef",
      "metadata": {
        "id": "a143dce0-240e-42be-af38-8561bc6e8cef"
      },
      "source": [
        "## Prepairing our data for deep sequence models\n",
        "\n",
        "Before we start building deeper models, we have to create vectorization and embedding layers.\n"
      ]
    },
    {
      "cell_type": "code",
      "execution_count": 28,
      "id": "fa2e9691-942a-4807-9a84-3543b4f8f268",
      "metadata": {
        "colab": {
          "base_uri": "https://localhost:8080/"
        },
        "id": "fa2e9691-942a-4807-9a84-3543b4f8f268",
        "outputId": "e1c0e4a0-b162-4205-d781-0449fc4c8f71"
      },
      "outputs": [
        {
          "output_type": "execute_result",
          "data": {
            "text/plain": [
              "4741942"
            ]
          },
          "metadata": {},
          "execution_count": 28
        }
      ],
      "source": [
        "#finding the max vocab length\n",
        "sum([len(i.split()) for i in train_sentences])"
      ]
    },
    {
      "cell_type": "code",
      "execution_count": 29,
      "id": "06e1512d-b8c3-4036-98a6-f7610b3be0aa",
      "metadata": {
        "colab": {
          "base_uri": "https://localhost:8080/"
        },
        "id": "06e1512d-b8c3-4036-98a6-f7610b3be0aa",
        "outputId": "9fa1c6de-5e53-4234-9ff6-7c3b006e04f6"
      },
      "outputs": [
        {
          "output_type": "execute_result",
          "data": {
            "text/plain": [
              "26.338269273494777"
            ]
          },
          "metadata": {},
          "execution_count": 29
        }
      ],
      "source": [
        "#How long is each sentence on average\n",
        "sent_lens = [len(sentence.split()) for sentence in train_sentences]\n",
        "avg_sent_len = np.mean(sent_lens)\n",
        "avg_sent_len"
      ]
    },
    {
      "cell_type": "code",
      "execution_count": 30,
      "id": "a02103ce-5968-411d-a587-f2f778879ae1",
      "metadata": {
        "colab": {
          "base_uri": "https://localhost:8080/"
        },
        "id": "a02103ce-5968-411d-a587-f2f778879ae1",
        "outputId": "4c35e2fe-17dd-4707-9014-7f259c6f9fe1"
      },
      "outputs": [
        {
          "output_type": "execute_result",
          "data": {
            "text/plain": [
              "26"
            ]
          },
          "metadata": {},
          "execution_count": 30
        }
      ],
      "source": [
        "#finding the max length\n",
        "round(sum(len(i.split()) for i in train_sentences)/len(train_sentences))"
      ]
    },
    {
      "cell_type": "code",
      "execution_count": 31,
      "id": "74108b53-6537-4a0c-b802-6dc078280043",
      "metadata": {
        "colab": {
          "base_uri": "https://localhost:8080/",
          "height": 430
        },
        "id": "74108b53-6537-4a0c-b802-6dc078280043",
        "outputId": "9a23c84d-da5a-491e-f3ff-5a6433c7fd22"
      },
      "outputs": [
        {
          "output_type": "display_data",
          "data": {
            "text/plain": [
              "<Figure size 640x480 with 1 Axes>"
            ],
            "image/png": "[encoded data removed]"
          },
          "metadata": {}
        }
      ],
      "source": [
        "# What does the distribution looks like\n",
        "import matplotlib.pyplot as plt\n",
        "plt.hist(sent_lens, bins=20);"
      ]
    },
    {
      "cell_type": "code",
      "execution_count": 32,
      "id": "c2addad3-3f6a-4b30-beaa-eb36b1ada21c",
      "metadata": {
        "colab": {
          "base_uri": "https://localhost:8080/"
        },
        "id": "c2addad3-3f6a-4b30-beaa-eb36b1ada21c",
        "outputId": "4b475001-7df0-4826-83ee-7650e6fcdc33"
      },
      "outputs": [
        {
          "output_type": "execute_result",
          "data": {
            "text/plain": [
              "55.0"
            ]
          },
          "metadata": {},
          "execution_count": 32
        }
      ],
      "source": [
        "# How long of a sentence length covers 95% of example?\n",
        "output_seq_length = np.percentile(sent_lens, 95)\n",
        "output_seq_length"
      ]
    },
    {
      "cell_type": "code",
      "execution_count": 33,
      "id": "82ff8ce6-9071-4cdb-8f18-9cf46ac7729b",
      "metadata": {
        "colab": {
          "base_uri": "https://localhost:8080/"
        },
        "id": "82ff8ce6-9071-4cdb-8f18-9cf46ac7729b",
        "outputId": "63232574-c335-4fcc-b7a6-4c8f353f90fc"
      },
      "outputs": [
        {
          "output_type": "execute_result",
          "data": {
            "text/plain": [
              "296"
            ]
          },
          "metadata": {},
          "execution_count": 33
        }
      ],
      "source": [
        "# Maximum sequence length in training set\n",
        "max(sent_lens)"
      ]
    },
    {
      "cell_type": "code",
      "execution_count": 34,
      "id": "a469c003-aaa6-4841-8fc2-1d81e7e98ee5",
      "metadata": {
        "id": "a469c003-aaa6-4841-8fc2-1d81e7e98ee5"
      },
      "outputs": [],
      "source": [
        "max_vocab_length = 4741942\n",
        "max_length = 26"
      ]
    },
    {
      "cell_type": "markdown",
      "id": "23961faa-ab8a-4278-b410-8998c3f2be21",
      "metadata": {
        "id": "23961faa-ab8a-4278-b410-8998c3f2be21"
      },
      "source": [
        "### Creating a text vectorizer layer\n",
        "\n",
        "We want to make a layer which maps our texts from words to numbers"
      ]
    },
    {
      "cell_type": "code",
      "execution_count": 35,
      "id": "e5877061-b5d2-4f38-8827-4569cf9390a1",
      "metadata": {
        "id": "e5877061-b5d2-4f38-8827-4569cf9390a1"
      },
      "outputs": [],
      "source": [
        "# How many words should be in the vocabulary (taken from table 2 under [V]\n",
        "max_tokens=68000\n"
      ]
    },
    {
      "cell_type": "code",
      "execution_count": 36,
      "id": "b425ea88-072d-43fa-85c6-7ecd33965ed0",
      "metadata": {
        "id": "b425ea88-072d-43fa-85c6-7ecd33965ed0"
      },
      "outputs": [],
      "source": [
        "from tensorflow.keras import layers\n",
        "\n",
        "#creating a text vectorizer instance\n",
        "text_vectorizer = layers.TextVectorization(max_tokens=max_tokens,\n",
        "                                           output_mode=\"int\",\n",
        "                                           output_sequence_length=int(output_seq_length),\n",
        "                                           pad_to_max_tokens=True)\n"
      ]
    },
    {
      "cell_type": "code",
      "execution_count": 37,
      "id": "9009c45f-0b7c-48b6-b3d0-0d6c9feb1ef1",
      "metadata": {
        "id": "9009c45f-0b7c-48b6-b3d0-0d6c9feb1ef1"
      },
      "outputs": [],
      "source": [
        "# fitting the text vectorizer with train sentence\n",
        "text_vectorizer.adapt(train_sentences)"
      ]
    },
    {
      "cell_type": "code",
      "execution_count": 38,
      "id": "a0c27511-deb2-41eb-82c8-51d6d7b98509",
      "metadata": {
        "colab": {
          "base_uri": "https://localhost:8080/"
        },
        "id": "a0c27511-deb2-41eb-82c8-51d6d7b98509",
        "outputId": "e4f4d9c5-59a8-46fb-c4b5-eadc24501c83"
      },
      "outputs": [
        {
          "output_type": "execute_result",
          "data": {
            "text/plain": [
              "<tf.Tensor: shape=(1, 55), dtype=int64, numpy=\n",
              "array([[  23,   20,    8,  441, 9848,    0,    0,    0,    0,    0,    0,\n",
              "           0,    0,    0,    0,    0,    0,    0,    0,    0,    0,    0,\n",
              "           0,    0,    0,    0,    0,    0,    0,    0,    0,    0,    0,\n",
              "           0,    0,    0,    0,    0,    0,    0,    0,    0,    0,    0,\n",
              "           0,    0,    0,    0,    0,    0,    0,    0,    0,    0,    0]])>"
            ]
          },
          "metadata": {},
          "execution_count": 38
        }
      ],
      "source": [
        "# checking if text vectorizer is working\n",
        "\n",
        "sample_sentence = [\"This is a sample sentence\"]\n",
        "text_vectorizer([sample_sentence])"
      ]
    },
    {
      "cell_type": "code",
      "execution_count": 39,
      "id": "40dfd406-8912-49e6-b98b-a6bf8ef1fb87",
      "metadata": {
        "colab": {
          "base_uri": "https://localhost:8080/"
        },
        "id": "40dfd406-8912-49e6-b98b-a6bf8ef1fb87",
        "outputId": "904fdd3b-23b0-46db-e960-65b43af4b8d3"
      },
      "outputs": [
        {
          "output_type": "stream",
          "name": "stdout",
          "text": [
            "Text:\n",
            "vas score was significantly lower in the new-scope group as compared with the conventional-scope group : meansd , median ( range ) : @ , @ ( @-@ ) vs @ , @ ( @-@ , p = @ ) .\n",
            "\n",
            " Length of the text:173\n",
            "\n",
            "Vectorized text:[[  522   101    10    39   105     5     2 51355    13    25    34     7\n",
            "      2 60828    13  6778   193   283    44    14     0     0     0     0\n",
            "      0     0     0     0     0     0     0     0     0     0     0     0\n",
            "      0     0     0     0     0     0     0     0     0     0     0     0\n",
            "      0     0     0     0     0     0     0]]\n"
          ]
        }
      ],
      "source": [
        "# Chscking out out on a random sample\n",
        "import random\n",
        "\n",
        "random_sentence = random.choice(train_sentences)\n",
        "print(f\"Text:\\n{random_sentence}\")\n",
        "print(f\"\\n Length of the text:{len(random_sentence)}\")\n",
        "print(f\"\\nVectorized text:{text_vectorizer([random_sentence])}\")\n"
      ]
    },
    {
      "cell_type": "code",
      "execution_count": 40,
      "id": "59de6f64-b01e-47c8-ac3f-d7f8c2d208c8",
      "metadata": {
        "colab": {
          "base_uri": "https://localhost:8080/"
        },
        "id": "59de6f64-b01e-47c8-ac3f-d7f8c2d208c8",
        "outputId": "d95e183f-f265-46b9-a024-f922c468b605"
      },
      "outputs": [
        {
          "output_type": "stream",
          "name": "stdout",
          "text": [
            "Number of words in the vocab:64841\n",
            "Most common words in the vocab:['', '[UNK]', 'the', 'and', 'of']\n",
            "Least common words in the vocab['aainduced', 'aaigroup', 'aachener', 'aachen', 'aaacp']\n"
          ]
        }
      ],
      "source": [
        "# How many words are in our traning vocabulary\n",
        "rct_20_k_text_vocab = text_vectorizer.get_vocabulary()\n",
        "print(f\"Number of words in the vocab:{len(rct_20_k_text_vocab)}\")\n",
        "print(f\"Most common words in the vocab:{rct_20_k_text_vocab[:5]}\")\n",
        "print(f\"Least common words in the vocab{rct_20_k_text_vocab[-5:]}\")"
      ]
    },
    {
      "cell_type": "code",
      "execution_count": 41,
      "id": "7813d9df-d5d7-4c28-ad6b-b00029cd8a46",
      "metadata": {
        "colab": {
          "base_uri": "https://localhost:8080/"
        },
        "id": "7813d9df-d5d7-4c28-ad6b-b00029cd8a46",
        "outputId": "cd5a05cd-e677-4cd3-8dc6-b2dc7e3abc3c"
      },
      "outputs": [
        {
          "output_type": "execute_result",
          "data": {
            "text/plain": [
              "{'name': 'text_vectorization',\n",
              " 'trainable': True,\n",
              " 'dtype': 'string',\n",
              " 'batch_input_shape': (None,),\n",
              " 'max_tokens': 68000,\n",
              " 'standardize': 'lower_and_strip_punctuation',\n",
              " 'split': 'whitespace',\n",
              " 'ngrams': None,\n",
              " 'output_mode': 'int',\n",
              " 'output_sequence_length': 55,\n",
              " 'pad_to_max_tokens': True,\n",
              " 'sparse': False,\n",
              " 'ragged': False,\n",
              " 'vocabulary': None,\n",
              " 'idf_weights': None,\n",
              " 'encoding': 'utf-8',\n",
              " 'vocabulary_size': 64841}"
            ]
          },
          "metadata": {},
          "execution_count": 41
        }
      ],
      "source": [
        "# Get the config of the text vectorizer\n",
        "text_vectorizer.get_config()"
      ]
    },
    {
      "cell_type": "markdown",
      "id": "629d579d-1c76-4121-ad6d-f334fbd82f7f",
      "metadata": {
        "id": "629d579d-1c76-4121-ad6d-f334fbd82f7f"
      },
      "source": [
        "### Creating a custom text embedding layer"
      ]
    },
    {
      "cell_type": "code",
      "execution_count": 42,
      "id": "ebf502f9-2c2e-4e2d-ba0a-1b99ea247dc5",
      "metadata": {
        "id": "ebf502f9-2c2e-4e2d-ba0a-1b99ea247dc5"
      },
      "outputs": [],
      "source": [
        "# creating an embedding instance\n",
        "token_embedding = layers.Embedding(\n",
        "    input_dim=len(rct_20_k_text_vocab),\n",
        "    input_shape=(int(output_seq_length),),#NOTE: differrent embedding sizes gives drastically differrent results\n",
        "    output_dim=128,\n",
        "    mask_zero=True,#use masking to handle variable sequence langths(save space)\n",
        "    name=\"token_embedding\",\n",
        ")"
      ]
    },
    {
      "cell_type": "code",
      "execution_count": 43,
      "id": "ce043c9d-49f4-4a88-9cbf-e224c59c8be1",
      "metadata": {
        "colab": {
          "base_uri": "https://localhost:8080/"
        },
        "id": "ce043c9d-49f4-4a88-9cbf-e224c59c8be1",
        "outputId": "8b27bff7-a8d0-4186-c5c1-e2bdb4106cac"
      },
      "outputs": [
        {
          "output_type": "stream",
          "name": "stdout",
          "text": [
            "Sentence before vectorization:\n",
            " vas score was significantly lower in the new-scope group as compared with the conventional-scope group : meansd , median ( range ) : @ , @ ( @-@ ) vs @ , @ ( @-@ , p = @ ) .\n",
            "\n",
            "Vectorized text : \n",
            " [[  522   101    10    39   105     5     2 51355    13    25    34     7\n",
            "      2 60828    13  6778   193   283    44    14     0     0     0     0\n",
            "      0     0     0     0     0     0     0     0     0     0     0     0\n",
            "      0     0     0     0     0     0     0     0     0     0     0     0\n",
            "      0     0     0     0     0     0     0]]\n",
            "\n",
            "Embedded text: \n",
            " [[[ 0.03545043  0.0490602  -0.03972743 ... -0.00846993  0.00726264\n",
            "    0.03697223]\n",
            "  [ 0.02797297 -0.01750653 -0.0279399  ...  0.03347873 -0.01616699\n",
            "    0.02595333]\n",
            "  [-0.01240792  0.04152429  0.01571763 ... -0.00211723 -0.02912365\n",
            "    0.03758467]\n",
            "  ...\n",
            "  [ 0.04767409  0.03593013  0.04464607 ...  0.03467068 -0.00673847\n",
            "   -0.01275442]\n",
            "  [ 0.04767409  0.03593013  0.04464607 ...  0.03467068 -0.00673847\n",
            "   -0.01275442]\n",
            "  [ 0.04767409  0.03593013  0.04464607 ...  0.03467068 -0.00673847\n",
            "   -0.01275442]]]\n",
            "\n",
            "Embedded sentence shape :\n",
            "(1, 55, 128)\n",
            "\n"
          ]
        }
      ],
      "source": [
        "#show an example embedding\n",
        "print(f\"Sentence before vectorization:\\n {random_sentence}\\n\")\n",
        "vectorized_sentence = text_vectorizer([random_sentence])\n",
        "print(f\"Vectorized text : \\n {vectorized_sentence}\\n\")\n",
        "embedded_text = token_embedding(vectorized_sentence)\n",
        "print(f\"Embedded text: \\n {embedded_text}\\n\")\n",
        "print(f\"Embedded sentence shape :\\n{embedded_text.shape}\\n\")"
      ]
    },
    {
      "cell_type": "markdown",
      "id": "e3d134fa-4957-49b0-b908-b1d0db0cb6b6",
      "metadata": {
        "id": "e3d134fa-4957-49b0-b908-b1d0db0cb6b6"
      },
      "source": [
        "## Creating datasets (making sure our data loads as fast as possible)\n",
        "\n",
        "We are going to setup our data to run as fast as possible with the TensorFlow tf.data API, many of the steps here are discussed at length in these two documents:\n",
        "\n",
        "* https://www.tensorflow.org/guide/data_performance\n",
        "* https://www.tensorflow.org/guide/data\n"
      ]
    },
    {
      "cell_type": "code",
      "execution_count": 44,
      "id": "e5cb835b-8a8e-47b8-8549-a528103abd94",
      "metadata": {
        "id": "e5cb835b-8a8e-47b8-8549-a528103abd94"
      },
      "outputs": [],
      "source": [
        "# turn our data into tensorflow datasets\n",
        "train_dataset = tf.data.Dataset.from_tensor_slices((train_sentences, train_labels_one_hot))\n",
        "\n",
        "valid_dataset = tf.data.Dataset.from_tensor_slices((val_sentences, val_labels_one_hot))\n",
        "\n",
        "test_dataset = tf.data.Dataset.from_tensor_slices((test_sentences, test_labels_one_hot))\n"
      ]
    },
    {
      "cell_type": "code",
      "execution_count": 45,
      "id": "65e1dc33-c9aa-4539-b197-420e302c1ec8",
      "metadata": {
        "colab": {
          "base_uri": "https://localhost:8080/"
        },
        "id": "65e1dc33-c9aa-4539-b197-420e302c1ec8",
        "outputId": "772898fb-07ef-4f2f-9b2b-aa7f894d5502"
      },
      "outputs": [
        {
          "output_type": "execute_result",
          "data": {
            "text/plain": [
              "<_TensorSliceDataset element_spec=(TensorSpec(shape=(), dtype=tf.string, name=None), TensorSpec(shape=(5,), dtype=tf.float64, name=None))>"
            ]
          },
          "metadata": {},
          "execution_count": 45
        }
      ],
      "source": [
        "train_dataset"
      ]
    },
    {
      "cell_type": "code",
      "execution_count": 46,
      "id": "73a1aea5-66aa-48ce-ad0f-a044371bcf9b",
      "metadata": {
        "colab": {
          "base_uri": "https://localhost:8080/"
        },
        "id": "73a1aea5-66aa-48ce-ad0f-a044371bcf9b",
        "outputId": "d3285883-6320-4f25-b496-e66664fee8b0"
      },
      "outputs": [
        {
          "output_type": "execute_result",
          "data": {
            "text/plain": [
              "<_PrefetchDataset element_spec=(TensorSpec(shape=(None,), dtype=tf.string, name=None), TensorSpec(shape=(None, 5), dtype=tf.float64, name=None))>"
            ]
          },
          "metadata": {},
          "execution_count": 46
        }
      ],
      "source": [
        "# Take the TensorSliceDataset's and turn them into prefetch datasets\n",
        "train_dataset = train_dataset.batch(32).prefetch(tf.data.AUTOTUNE)\n",
        "valid_dataset = valid_dataset.batch(32).prefetch(tf.data.AUTOTUNE)\n",
        "test_dataset = test_dataset.batch(32).prefetch(tf.data.AUTOTUNE)\n",
        "\n",
        "\n",
        "train_dataset"
      ]
    },
    {
      "cell_type": "markdown",
      "id": "4c9242c2-4d5e-4d7a-9b2c-f9c675549d5c",
      "metadata": {
        "id": "4c9242c2-4d5e-4d7a-9b2c-f9c675549d5c"
      },
      "source": [
        "## Model 1: Conv1D with token embeddings"
      ]
    },
    {
      "cell_type": "code",
      "execution_count": 47,
      "id": "1a6bb46d-14d6-4d61-bfdc-5d803af69fa2",
      "metadata": {
        "id": "1a6bb46d-14d6-4d61-bfdc-5d803af69fa2"
      },
      "outputs": [],
      "source": [
        "#Creating a conv1d model\n",
        "\n",
        "inputs = layers.Input(shape=(1,), dtype=tf.string)\n",
        "x = text_vectorizer(inputs) #vectorize text inputs\n",
        "x = token_embedding(x) #create embedding\n",
        "x = layers.Conv1D(64,kernel_size=5, activation=\"relu\", padding=\"same\")(x)\n",
        "x = layers.GlobalAveragePooling1D()(x) #condense the output of feature vector from conv layer\n",
        "outputs = layers.Dense(5, activation=\"softmax\")(x)\n",
        "\n",
        "model_1 = tf.keras.Model(inputs, outputs, name=\"model_1_Conv1D\")\n",
        "\n",
        "model_1.compile(loss=\"categorical_crossentropy\",\n",
        "                optimizer=\"adam\",\n",
        "                metrics=[\"accuracy\"])\n"
      ]
    },
    {
      "cell_type": "code",
      "execution_count": 48,
      "id": "24618547-eb94-4394-8ea9-6661f7e595ec",
      "metadata": {
        "colab": {
          "base_uri": "https://localhost:8080/"
        },
        "id": "24618547-eb94-4394-8ea9-6661f7e595ec",
        "outputId": "32cba2de-355e-46f4-adb6-86fb51b6b78e"
      },
      "outputs": [
        {
          "output_type": "stream",
          "name": "stdout",
          "text": [
            "Model: \"model_1_Conv1D\"\n",
            "_________________________________________________________________\n",
            " Layer (type)                Output Shape              Param #   \n",
            "=================================================================\n",
            " input_1 (InputLayer)        [(None, 1)]               0         \n",
            "                                                                 \n",
            " text_vectorization (TextVe  (None, 55)                0         \n",
            " ctorization)                                                    \n",
            "                                                                 \n",
            " token_embedding (Embedding  (None, 55, 128)           8299648   \n",
            " )                                                               \n",
            "                                                                 \n",
            " conv1d (Conv1D)             (None, 55, 64)            41024     \n",
            "                                                                 \n",
            " global_average_pooling1d (  (None, 64)                0         \n",
            " GlobalAveragePooling1D)                                         \n",
            "                                                                 \n",
            " dense (Dense)               (None, 5)                 325       \n",
            "                                                                 \n",
            "=================================================================\n",
            "Total params: 8340997 (31.82 MB)\n",
            "Trainable params: 8340997 (31.82 MB)\n",
            "Non-trainable params: 0 (0.00 Byte)\n",
            "_________________________________________________________________\n"
          ]
        }
      ],
      "source": [
        "#getting the model summary\n",
        "model_1.summary()"
      ]
    },
    {
      "cell_type": "code",
      "execution_count": 49,
      "id": "1c943ba5-165c-469f-b46b-6b0ae71d6c50",
      "metadata": {
        "colab": {
          "base_uri": "https://localhost:8080/"
        },
        "id": "1c943ba5-165c-469f-b46b-6b0ae71d6c50",
        "outputId": "e00ffd70-dbed-4a99-87b3-4a6b57afb4c3"
      },
      "outputs": [
        {
          "output_type": "stream",
          "name": "stdout",
          "text": [
            "Epoch 1/3\n",
            "562/562 [==============================] - 21s 32ms/step - loss: 0.9244 - accuracy: 0.6321 - val_loss: 0.6932 - val_accuracy: 0.7347\n",
            "Epoch 2/3\n",
            "562/562 [==============================] - 6s 11ms/step - loss: 0.6582 - accuracy: 0.7552 - val_loss: 0.6332 - val_accuracy: 0.7693\n",
            "Epoch 3/3\n",
            "562/562 [==============================] - 4s 7ms/step - loss: 0.6141 - accuracy: 0.7741 - val_loss: 0.5953 - val_accuracy: 0.7862\n"
          ]
        }
      ],
      "source": [
        "#fitting the model\n",
        "history_model_1 = model_1.fit(train_dataset,\n",
        "                                steps_per_epoch = int(0.1 * len(train_dataset)), #only train on 10% of the batches\n",
        "                                validation_data=valid_dataset,\n",
        "                                epochs=3,\n",
        "                                validation_steps = int(0.1 * len(valid_dataset)) #validate on 10% of validation batches\n",
        "                             )"
      ]
    },
    {
      "cell_type": "code",
      "execution_count": 50,
      "id": "0d0c2911-6e3b-417d-b041-7e4d742c3390",
      "metadata": {
        "colab": {
          "base_uri": "https://localhost:8080/"
        },
        "id": "0d0c2911-6e3b-417d-b041-7e4d742c3390",
        "outputId": "2ee885f3-84e0-48d6-e648-92164e5485a4"
      },
      "outputs": [
        {
          "output_type": "stream",
          "name": "stdout",
          "text": [
            "945/945 [==============================] - 3s 3ms/step - loss: 0.5947 - accuracy: 0.7879\n"
          ]
        },
        {
          "output_type": "execute_result",
          "data": {
            "text/plain": [
              "[0.5947392582893372, 0.7879319190979004]"
            ]
          },
          "metadata": {},
          "execution_count": 50
        }
      ],
      "source": [
        "#evaluating a model with full validation data\n",
        "model_1.evaluate(valid_dataset)"
      ]
    },
    {
      "cell_type": "code",
      "execution_count": 51,
      "id": "78f762ae-dc48-46b0-8dfc-7cbba90677d6",
      "metadata": {
        "colab": {
          "base_uri": "https://localhost:8080/"
        },
        "id": "78f762ae-dc48-46b0-8dfc-7cbba90677d6",
        "outputId": "bfd95c9e-28f8-4a79-b382-af7e74fa40e3"
      },
      "outputs": [
        {
          "output_type": "stream",
          "name": "stdout",
          "text": [
            "945/945 [==============================] - 3s 3ms/step\n"
          ]
        },
        {
          "output_type": "execute_result",
          "data": {
            "text/plain": [
              "(array([[4.5271012e-01, 1.6401680e-01, 6.2744811e-02, 2.9222536e-01,\n",
              "         2.8302861e-02],\n",
              "        [4.2875049e-01, 3.0400294e-01, 1.4511732e-02, 2.4166146e-01,\n",
              "         1.1073270e-02],\n",
              "        [1.6357692e-01, 6.7679803e-03, 1.9085461e-03, 8.2768852e-01,\n",
              "         5.8034009e-05],\n",
              "        ...,\n",
              "        [5.1437987e-06, 6.8534689e-04, 4.4102813e-04, 4.1530961e-06,\n",
              "         9.9886429e-01],\n",
              "        [5.2550588e-02, 4.8539302e-01, 9.7642049e-02, 6.7102447e-02,\n",
              "         2.9731193e-01],\n",
              "        [1.6240513e-01, 7.1753532e-01, 3.5793200e-02, 4.5272712e-02,\n",
              "         3.8993642e-02]], dtype=float32),\n",
              " (30212, 5))"
            ]
          },
          "metadata": {},
          "execution_count": 51
        }
      ],
      "source": [
        "# Make predictions (out model predicts prediction probabilities for each class)\n",
        "model_1_pred_probs = model_1.predict(valid_dataset)\n",
        "model_1_pred_probs, model_1_pred_probs.shape"
      ]
    },
    {
      "cell_type": "code",
      "execution_count": 52,
      "id": "827df0dd-253a-44a5-90aa-998baa24cf08",
      "metadata": {
        "colab": {
          "base_uri": "https://localhost:8080/"
        },
        "id": "827df0dd-253a-44a5-90aa-998baa24cf08",
        "outputId": "74e87d6a-5f46-49f4-d2f7-59e19dee01a6"
      },
      "outputs": [
        {
          "output_type": "execute_result",
          "data": {
            "text/plain": [
              "<tf.Tensor: shape=(30212,), dtype=int64, numpy=array([0, 0, 3, ..., 4, 1, 1])>"
            ]
          },
          "metadata": {},
          "execution_count": 52
        }
      ],
      "source": [
        "# finding the pred classes from pred probs\n",
        "model_1_preds = tf.argmax(model_1_pred_probs, axis=1)\n",
        "model_1_preds"
      ]
    },
    {
      "cell_type": "code",
      "execution_count": 53,
      "id": "5bfd45ff-ccc8-44f0-bb4b-7d36ea073f48",
      "metadata": {
        "colab": {
          "base_uri": "https://localhost:8080/"
        },
        "id": "5bfd45ff-ccc8-44f0-bb4b-7d36ea073f48",
        "outputId": "b682a2bd-ed81-4ff5-e2c3-1f8800b075f3"
      },
      "outputs": [
        {
          "output_type": "execute_result",
          "data": {
            "text/plain": [
              "{'accuracy': 78.79319475705017,\n",
              " 'precision': 0.7847230716512823,\n",
              " 'recall': 0.7879319475705018,\n",
              " 'f1': 0.7853976704821627}"
            ]
          },
          "metadata": {},
          "execution_count": 53
        }
      ],
      "source": [
        "# Calculate results of model_1\n",
        "model_1_results = calculate_results(val_labels_encoded, model_1_preds)\n",
        "model_1_results"
      ]
    },
    {
      "cell_type": "code",
      "execution_count": 54,
      "id": "ea96824a-9c23-4451-ab6f-b4d7f6a9500c",
      "metadata": {
        "colab": {
          "base_uri": "https://localhost:8080/"
        },
        "id": "ea96824a-9c23-4451-ab6f-b4d7f6a9500c",
        "outputId": "53575b8c-0f08-4c89-e053-e3375e15508e"
      },
      "outputs": [
        {
          "output_type": "execute_result",
          "data": {
            "text/plain": [
              "{'accuracy': 72.1832384482987,\n",
              " 'precision': 0.7186466952323352,\n",
              " 'recall': 0.7218323844829869,\n",
              " 'f1': 0.6989250353450294}"
            ]
          },
          "metadata": {},
          "execution_count": 54
        }
      ],
      "source": [
        "base_line_results"
      ]
    },
    {
      "cell_type": "markdown",
      "id": "7f94e314-11be-4cfd-bb98-e42ffb9f6db2",
      "metadata": {
        "id": "7f94e314-11be-4cfd-bb98-e42ffb9f6db2"
      },
      "source": [
        "## Model 2: Feature extraction with pretrained token embedding\n",
        "\n",
        "Let's use pretrained word embeddings from TensorFlow Hub, more specifically the universal sentence encoder: https://tfhub.dev/google/universal-sentence-encoder/4\n",
        "\n",
        "The paper originally used GloVe embedding, however we will be using USE."
      ]
    },
    {
      "cell_type": "code",
      "execution_count": 55,
      "id": "25d5db4e-8662-4592-a434-246c9213508f",
      "metadata": {
        "id": "25d5db4e-8662-4592-a434-246c9213508f"
      },
      "outputs": [],
      "source": [
        "# download pretrained TensorFlow Hub USE\n",
        "import tensorflow_hub as hub\n",
        "tf_hub_embedding_layer = hub.KerasLayer(\"https://tfhub.dev/google/universal-sentence-encoder/4\",\n",
        "                                        trainable = False,\n",
        "                                        name=\"universal_sentence_encoder\",\n",
        "                                       )"
      ]
    },
    {
      "cell_type": "code",
      "execution_count": 56,
      "id": "d323ef19-d34b-4531-97db-b6855b5b718f",
      "metadata": {
        "colab": {
          "base_uri": "https://localhost:8080/"
        },
        "id": "d323ef19-d34b-4531-97db-b6855b5b718f",
        "outputId": "c21e5aca-de38-426e-c248-958c324340b6"
      },
      "outputs": [
        {
          "output_type": "stream",
          "name": "stdout",
          "text": [
            "Random sentence : \n",
            "vas score was significantly lower in the new-scope group as compared with the conventional-scope group : meansd , median ( range ) : @ , @ ( @-@ ) vs @ , @ ( @-@ , p = @ ) .\n",
            "Sentence after embedding : \n",
            "[-0.00793221 -0.06776516  0.0645308  -0.05806332  0.00284385 -0.03637723\n",
            "  0.00753916 -0.06101619 -0.00175061  0.01549593  0.06084709  0.05930949\n",
            "  0.02385647  0.00791887  0.04379078  0.0132109  -0.01091957  0.02129512\n",
            "  0.05372187 -0.017726    0.04039107 -0.01320859 -0.03046518 -0.06449295\n",
            "  0.00903737  0.05697035 -0.00355698  0.0742548  -0.06546989 -0.00773302]\n",
            "\n",
            "Length of sentence embedding : 512\n"
          ]
        }
      ],
      "source": [
        "# Test out the pretrained embedding on a random sentence\n",
        "random_train_sentences = random.choice(train_sentences)\n",
        "print(f\"Random sentence : \\n{random_sentence}\")\n",
        "use_embedded_sentence = tf_hub_embedding_layer([random_sentence])\n",
        "print(f\"Sentence after embedding : \\n{use_embedded_sentence[0][:30]}\\n\")\n",
        "print(f\"Length of sentence embedding : {len(use_embedded_sentence[0])}\")\n"
      ]
    },
    {
      "cell_type": "code",
      "execution_count": 57,
      "id": "36e37e57-b482-4b2b-8a81-9593eed6e3be",
      "metadata": {
        "id": "36e37e57-b482-4b2b-8a81-9593eed6e3be"
      },
      "outputs": [],
      "source": [
        "# creating the model\n",
        "inputs = layers.Input(shape=(), dtype=tf.string, name=\"input_layer\") # input layer\n",
        "x = tf_hub_embedding_layer(inputs) # pass the inputs to the USE embedding layer\n",
        "x = layers.Dense(128, activation=\"relu\")(x) #adding an intermediate Dense layer\n",
        "outputs = layers.Dense(5, activation=\"softmax\", name=\"output_layer\")(x) #output layer\n",
        "model_2 = tf.keras.Model(inputs, outputs, name=\"model_2_use_sentence_encoder\")\n",
        "\n",
        "#compiling the model\n",
        "model_2.compile(loss=\"categorical_crossentropy\",\n",
        "                metrics=[\"accuracy\"],\n",
        "                optimizer=\"adam\")"
      ]
    },
    {
      "cell_type": "code",
      "execution_count": 58,
      "id": "4f37aa91-b63a-4054-9dd9-1d0eed9a366c",
      "metadata": {
        "colab": {
          "base_uri": "https://localhost:8080/"
        },
        "id": "4f37aa91-b63a-4054-9dd9-1d0eed9a366c",
        "outputId": "8c1b32a0-f516-4d4f-951e-9dc1a4e36037"
      },
      "outputs": [
        {
          "output_type": "stream",
          "name": "stdout",
          "text": [
            "Epoch 1/3\n",
            "562/562 [==============================] - 12s 16ms/step - loss: 0.9145 - accuracy: 0.6524 - val_loss: 0.7961 - val_accuracy: 0.6912\n",
            "Epoch 2/3\n",
            "562/562 [==============================] - 7s 13ms/step - loss: 0.7672 - accuracy: 0.7035 - val_loss: 0.7547 - val_accuracy: 0.7055\n",
            "Epoch 3/3\n",
            "562/562 [==============================] - 8s 14ms/step - loss: 0.7503 - accuracy: 0.7130 - val_loss: 0.7378 - val_accuracy: 0.7081\n"
          ]
        }
      ],
      "source": [
        "#fitting the model\n",
        "model_2_history = model_2.fit(train_dataset,\n",
        "                              epochs=3,\n",
        "                              validation_data=valid_dataset,\n",
        "                              steps_per_epoch=int(0.1 * len(train_dataset)), #training for 10% batches\n",
        "                              validation_steps = int(0.1 * len(valid_dataset)))# validating for 10% of validation batches"
      ]
    },
    {
      "cell_type": "code",
      "execution_count": 59,
      "id": "e6b8408c-c791-4381-97aa-7952f592e5d8",
      "metadata": {
        "colab": {
          "base_uri": "https://localhost:8080/"
        },
        "id": "e6b8408c-c791-4381-97aa-7952f592e5d8",
        "outputId": "6c34b9f8-01ea-45b4-ab1e-59828cfb4214"
      },
      "outputs": [
        {
          "output_type": "stream",
          "name": "stdout",
          "text": [
            "945/945 [==============================] - 11s 11ms/step - loss: 0.7390 - accuracy: 0.7132\n"
          ]
        },
        {
          "output_type": "execute_result",
          "data": {
            "text/plain": [
              "[0.7389694452285767, 0.7131603360176086]"
            ]
          },
          "metadata": {},
          "execution_count": 59
        }
      ],
      "source": [
        "#evaluating the model on full validation data\n",
        "model_2.evaluate(valid_dataset)"
      ]
    },
    {
      "cell_type": "code",
      "execution_count": 60,
      "id": "ccb40a3c-a3f9-4cc8-b7cb-27cc4a88400a",
      "metadata": {
        "colab": {
          "base_uri": "https://localhost:8080/"
        },
        "id": "ccb40a3c-a3f9-4cc8-b7cb-27cc4a88400a",
        "outputId": "46e22a8b-cc8a-4df6-a4e4-57ee0dd1261a"
      },
      "outputs": [
        {
          "output_type": "stream",
          "name": "stdout",
          "text": [
            "945/945 [==============================] - 11s 11ms/step\n"
          ]
        },
        {
          "output_type": "execute_result",
          "data": {
            "text/plain": [
              "array([[0.41854456, 0.36702278, 0.00272358, 0.2031847 , 0.00852432],\n",
              "       [0.35792744, 0.5201075 , 0.00385133, 0.11603546, 0.00207824],\n",
              "       [0.20027542, 0.13549171, 0.01982315, 0.6057987 , 0.03861094],\n",
              "       [0.01284359, 0.05349875, 0.81048447, 0.00945736, 0.11371581],\n",
              "       [0.03005935, 0.2442634 , 0.2137178 , 0.01433176, 0.49762765]],\n",
              "      dtype=float32)"
            ]
          },
          "metadata": {},
          "execution_count": 60
        }
      ],
      "source": [
        "# making prediction with feature extraction model\n",
        "model_2_pred_probs = model_2.predict(valid_dataset)\n",
        "model_2_pred_probs[:5]"
      ]
    },
    {
      "cell_type": "code",
      "execution_count": 61,
      "id": "29dac11e-f8d9-4a49-a4a2-0ad85c0d7c9b",
      "metadata": {
        "colab": {
          "base_uri": "https://localhost:8080/"
        },
        "id": "29dac11e-f8d9-4a49-a4a2-0ad85c0d7c9b",
        "outputId": "f5456ddd-19a2-4f4f-fead-3b6374ecafde"
      },
      "outputs": [
        {
          "output_type": "execute_result",
          "data": {
            "text/plain": [
              "<tf.Tensor: shape=(5,), dtype=int64, numpy=array([0, 1, 3, 2, 4])>"
            ]
          },
          "metadata": {},
          "execution_count": 61
        }
      ],
      "source": [
        "#convert the prediction probabilities of feature extraction model to labels\n",
        "model_2_preds = tf.argmax(model_2_pred_probs, axis=1)\n",
        "model_2_preds[:5]"
      ]
    },
    {
      "cell_type": "code",
      "execution_count": 62,
      "id": "1bd8e538-e55c-4834-b4e5-ef61823e35bb",
      "metadata": {
        "colab": {
          "base_uri": "https://localhost:8080/"
        },
        "id": "1bd8e538-e55c-4834-b4e5-ef61823e35bb",
        "outputId": "12d59a4e-2c26-4634-9c49-c227f6e34e09"
      },
      "outputs": [
        {
          "output_type": "execute_result",
          "data": {
            "text/plain": [
              "{'accuracy': 71.31603336422614,\n",
              " 'precision': 0.7136322751097858,\n",
              " 'recall': 0.7131603336422614,\n",
              " 'f1': 0.7103871012638552}"
            ]
          },
          "metadata": {},
          "execution_count": 62
        }
      ],
      "source": [
        "#calculating the results of model_2\n",
        "model_2_results = calculate_results(val_labels_encoded, model_2_preds)\n",
        "model_2_results"
      ]
    },
    {
      "cell_type": "markdown",
      "id": "b538efe7-c960-4c76-944c-85e61372d459",
      "metadata": {
        "id": "b538efe7-c960-4c76-944c-85e61372d459"
      },
      "source": [
        "## Model 3: Conv1D character embeddings\n",
        "\n",
        "The paper we are replicating states they used a combination of token and character-level embeddings.\n",
        "\n",
        "Previously we made token level embeddings but we will need to do similar steps if we want to use char level encodings."
      ]
    },
    {
      "cell_type": "markdown",
      "id": "04490e19-b49d-4ded-be95-4d663b35c9ad",
      "metadata": {
        "id": "04490e19-b49d-4ded-be95-4d663b35c9ad"
      },
      "source": [
        "### Creating a character-level tokenizer"
      ]
    },
    {
      "cell_type": "code",
      "execution_count": 63,
      "id": "6969b9ec-5364-45b2-80f8-f5e29a44ad8f",
      "metadata": {
        "colab": {
          "base_uri": "https://localhost:8080/"
        },
        "id": "6969b9ec-5364-45b2-80f8-f5e29a44ad8f",
        "outputId": "4812befa-4e7d-402b-f2ab-8a6ed91a2882"
      },
      "outputs": [
        {
          "output_type": "execute_result",
          "data": {
            "text/plain": [
              "['to investigate the efficacy of @ weeks of daily low-dose oral prednisolone in improving pain , mobility , and systemic low-grade inflammation in the short term and whether the effect would be sustained at @ weeks in older adults with moderate to severe knee osteoarthritis ( oa ) .',\n",
              " 'a total of @ patients with primary knee oa were randomized @:@ ; @ received @ mg/day of prednisolone and @ received placebo for @ weeks .',\n",
              " 'outcome measures included pain reduction and improvement in function scores and systemic inflammation markers .',\n",
              " 'pain was assessed using the visual analog pain scale ( @-@ mm ) .',\n",
              " 'secondary outcome measures included the western ontario and mcmaster universities osteoarthritis index scores , patient global assessment ( pga ) of the severity of knee oa , and @-min walk distance ( @mwd ) .']"
            ]
          },
          "metadata": {},
          "execution_count": 63
        }
      ],
      "source": [
        "train_sentences[:5]"
      ]
    },
    {
      "cell_type": "code",
      "execution_count": 64,
      "id": "53e14337-2f4f-41ae-a0c3-c26f8e3f7e79",
      "metadata": {
        "colab": {
          "base_uri": "https://localhost:8080/",
          "height": 71
        },
        "id": "53e14337-2f4f-41ae-a0c3-c26f8e3f7e79",
        "outputId": "de79a872-9985-4ebf-fe0f-5e413b319633"
      },
      "outputs": [
        {
          "output_type": "execute_result",
          "data": {
            "text/plain": [
              "'v a s   s c o r e   w a s   s i g n i f i c a n t l y   l o w e r   i n   t h e   n e w - s c o p e   g r o u p   a s   c o m p a r e d   w i t h   t h e   c o n v e n t i o n a l - s c o p e   g r o u p   :   m e a n s d   ,   m e d i a n   (   r a n g e   )   :   @   ,   @   (   @ - @   )   v s   @   ,   @   (   @ - @   ,   p   =   @   )   .'"
            ],
            "application/vnd.google.colaboratory.intrinsic+json": {
              "type": "string"
            }
          },
          "metadata": {},
          "execution_count": 64
        }
      ],
      "source": [
        "# Make sentences to split into characters\n",
        "def split_chars(text):\n",
        "    return \" \".join(list(text))\n",
        "\n",
        "# Text splitting non-character level sequence to characters\n",
        "split_chars(random_sentence)"
      ]
    },
    {
      "cell_type": "code",
      "execution_count": 65,
      "id": "c5438b38-c8f8-4304-b060-124d06309b2c",
      "metadata": {
        "colab": {
          "base_uri": "https://localhost:8080/"
        },
        "id": "c5438b38-c8f8-4304-b060-124d06309b2c",
        "outputId": "057bb258-ad68-479b-e7f8-a9fe78fead43"
      },
      "outputs": [
        {
          "output_type": "execute_result",
          "data": {
            "text/plain": [
              "['t o   i n v e s t i g a t e   t h e   e f f i c a c y   o f   @   w e e k s   o f   d a i l y   l o w - d o s e   o r a l   p r e d n i s o l o n e   i n   i m p r o v i n g   p a i n   ,   m o b i l i t y   ,   a n d   s y s t e m i c   l o w - g r a d e   i n f l a m m a t i o n   i n   t h e   s h o r t   t e r m   a n d   w h e t h e r   t h e   e f f e c t   w o u l d   b e   s u s t a i n e d   a t   @   w e e k s   i n   o l d e r   a d u l t s   w i t h   m o d e r a t e   t o   s e v e r e   k n e e   o s t e o a r t h r i t i s   (   o a   )   .',\n",
              " 'a   t o t a l   o f   @   p a t i e n t s   w i t h   p r i m a r y   k n e e   o a   w e r e   r a n d o m i z e d   @ : @   ;   @   r e c e i v e d   @   m g / d a y   o f   p r e d n i s o l o n e   a n d   @   r e c e i v e d   p l a c e b o   f o r   @   w e e k s   .',\n",
              " 'o u t c o m e   m e a s u r e s   i n c l u d e d   p a i n   r e d u c t i o n   a n d   i m p r o v e m e n t   i n   f u n c t i o n   s c o r e s   a n d   s y s t e m i c   i n f l a m m a t i o n   m a r k e r s   .',\n",
              " 'p a i n   w a s   a s s e s s e d   u s i n g   t h e   v i s u a l   a n a l o g   p a i n   s c a l e   (   @ - @   m m   )   .',\n",
              " 's e c o n d a r y   o u t c o m e   m e a s u r e s   i n c l u d e d   t h e   w e s t e r n   o n t a r i o   a n d   m c m a s t e r   u n i v e r s i t i e s   o s t e o a r t h r i t i s   i n d e x   s c o r e s   ,   p a t i e n t   g l o b a l   a s s e s s m e n t   (   p g a   )   o f   t h e   s e v e r i t y   o f   k n e e   o a   ,   a n d   @ - m i n   w a l k   d i s t a n c e   (   @ m w d   )   .']"
            ]
          },
          "metadata": {},
          "execution_count": 65
        }
      ],
      "source": [
        "#split sequence-level data splits into character-level data splits\n",
        "train_chars = [split_chars(sentence) for sentence in train_sentences]\n",
        "val_chars = [split_chars(sentence) for sentence in val_sentences]\n",
        "test_chars = [split_chars(sentence) for sentence in test_sentences]\n",
        "train_chars[:5]"
      ]
    },
    {
      "cell_type": "code",
      "execution_count": 66,
      "id": "b1c02142-d61a-4e3d-8749-fc43c49e755e",
      "metadata": {
        "colab": {
          "base_uri": "https://localhost:8080/"
        },
        "id": "b1c02142-d61a-4e3d-8749-fc43c49e755e",
        "outputId": "1dcb76a6-621a-439c-f907-1376c212fafc"
      },
      "outputs": [
        {
          "output_type": "execute_result",
          "data": {
            "text/plain": [
              "149.3662574983337"
            ]
          },
          "metadata": {},
          "execution_count": 66
        }
      ],
      "source": [
        "# what's the average character length\n",
        "char_lens = [len(sentence) for sentence in train_sentences]\n",
        "mean_char_lens = np.mean(char_lens)\n",
        "mean_char_lens"
      ]
    },
    {
      "cell_type": "code",
      "execution_count": 67,
      "id": "081468b9-6ddc-48b5-be27-a0a429307fa5",
      "metadata": {
        "colab": {
          "base_uri": "https://localhost:8080/",
          "height": 430
        },
        "id": "081468b9-6ddc-48b5-be27-a0a429307fa5",
        "outputId": "74b1cb50-7a85-4d22-908c-75eb6025addc"
      },
      "outputs": [
        {
          "output_type": "display_data",
          "data": {
            "text/plain": [
              "<Figure size 640x480 with 1 Axes>"
            ],
            "image/png": "[encoded data removed]"
          },
          "metadata": {}
        }
      ],
      "source": [
        "#check the distribution of our sequences at a characters\n",
        "import matplotlib.pyplot as plt\n",
        "plt.hist(char_lens, bins=7);"
      ]
    },
    {
      "cell_type": "code",
      "execution_count": 68,
      "id": "8c00499a-ff86-4ca9-8e62-5b5982c36ae2",
      "metadata": {
        "colab": {
          "base_uri": "https://localhost:8080/"
        },
        "id": "8c00499a-ff86-4ca9-8e62-5b5982c36ae2",
        "outputId": "8f9a5a99-adfa-4513-a189-658b32f8bd00"
      },
      "outputs": [
        {
          "output_type": "execute_result",
          "data": {
            "text/plain": [
              "290"
            ]
          },
          "metadata": {},
          "execution_count": 68
        }
      ],
      "source": [
        "# Find what character length covers 95% of sequences\n",
        "output_seq_char_len = int(np.percentile(char_lens, 95))\n",
        "output_seq_char_len"
      ]
    },
    {
      "cell_type": "code",
      "execution_count": 69,
      "id": "28058860-cffb-4603-8429-1f327a6b78e4",
      "metadata": {
        "colab": {
          "base_uri": "https://localhost:8080/",
          "height": 35
        },
        "id": "28058860-cffb-4603-8429-1f327a6b78e4",
        "outputId": "612259c5-6642-4e92-8c1b-9d6c5265da8b"
      },
      "outputs": [
        {
          "output_type": "execute_result",
          "data": {
            "text/plain": [
              "'abcdefghijklmnopqrstuvwxyz0123456789!\"#$%&\\'()*+,-./:;<=>?@[\\\\]^_`{|}~'"
            ],
            "application/vnd.google.colaboratory.intrinsic+json": {
              "type": "string"
            }
          },
          "metadata": {},
          "execution_count": 69
        }
      ],
      "source": [
        "# Gell all keyboard characters\n",
        "import string\n",
        "alphabet = string.ascii_lowercase + string.digits + string.punctuation\n",
        "alphabet"
      ]
    },
    {
      "cell_type": "code",
      "execution_count": 70,
      "id": "1600a5e0-eb89-4868-b79f-7d5693e955f2",
      "metadata": {
        "id": "1600a5e0-eb89-4868-b79f-7d5693e955f2"
      },
      "outputs": [],
      "source": [
        "# create char level token vectorizer instance\n",
        "NUM_CHAR_TOKENS = len(alphabet)+ 2 # add 2 for space and <OOV>(out of vocabulary)\n",
        "char_vectorizer = layers.TextVectorization(max_tokens=NUM_CHAR_TOKENS,\n",
        "                                           output_sequence_length=output_seq_char_len,\n",
        "                                           name=\"char_vectorizer\",\n",
        "                                          standardize=\"lower_and_strip_punctuation\") #default option\n"
      ]
    },
    {
      "cell_type": "code",
      "execution_count": 71,
      "id": "c62514c6-aac1-410f-ae72-254ae7108018",
      "metadata": {
        "id": "c62514c6-aac1-410f-ae72-254ae7108018"
      },
      "outputs": [],
      "source": [
        "# adapt it into training characters\n",
        "char_vectorizer.adapt(train_chars)"
      ]
    },
    {
      "cell_type": "code",
      "execution_count": 72,
      "id": "742fc927-7f7f-49c4-b293-a2fafac1a5c3",
      "metadata": {
        "colab": {
          "base_uri": "https://localhost:8080/"
        },
        "id": "742fc927-7f7f-49c4-b293-a2fafac1a5c3",
        "outputId": "f54c5194-de50-4c87-f99d-2c3267b86bd5"
      },
      "outputs": [
        {
          "output_type": "stream",
          "name": "stdout",
          "text": [
            "Number of differrent characters in character voacb: 28\n",
            "Most common characters:['', '[UNK]', 'e', 't', 'i']\n",
            "Least common characters:['k', 'x', 'z', 'q', 'j']\n"
          ]
        }
      ],
      "source": [
        "# check character vocab stats\n",
        "char_vocab = char_vectorizer.get_vocabulary()\n",
        "print(f\"Number of differrent characters in character voacb: {len(char_vocab)}\")\n",
        "print(f\"Most common characters:{char_vocab[:5]}\")\n",
        "print(f\"Least common characters:{char_vocab[-5:]}\")"
      ]
    },
    {
      "cell_type": "code",
      "execution_count": 73,
      "id": "e0e78271-3802-4b2e-864d-5547200e3392",
      "metadata": {
        "colab": {
          "base_uri": "https://localhost:8080/"
        },
        "id": "e0e78271-3802-4b2e-864d-5547200e3392",
        "outputId": "9b47fa48-be26-4964-9f5a-415676daf8a6"
      },
      "outputs": [
        {
          "output_type": "stream",
          "name": "stdout",
          "text": [
            "Charified text:\n",
            " c u r r e n t   c l i n i c a l   t r i a l s   n c t @   ,   r e g i s t e r e d   @   a u g u s t   ,   @   .\n",
            "Length of random_train_chars:46\n",
            "\n",
            "Vectorized chars:\n",
            "[[11 16  8  8  2  6  3 11 12  4  6  4 11  5 12  3  8  4  5 12  9  6 11  3\n",
            "   8  2 18  4  9  3  2  8  2 10  5 16 18 16  9  3  0  0  0  0  0  0  0  0\n",
            "   0  0  0  0  0  0  0  0  0  0  0  0  0  0  0  0  0  0  0  0  0  0  0  0\n",
            "   0  0  0  0  0  0  0  0  0  0  0  0  0  0  0  0  0  0  0  0  0  0  0  0\n",
            "   0  0  0  0  0  0  0  0  0  0  0  0  0  0  0  0  0  0  0  0  0  0  0  0\n",
            "   0  0  0  0  0  0  0  0  0  0  0  0  0  0  0  0  0  0  0  0  0  0  0  0\n",
            "   0  0  0  0  0  0  0  0  0  0  0  0  0  0  0  0  0  0  0  0  0  0  0  0\n",
            "   0  0  0  0  0  0  0  0  0  0  0  0  0  0  0  0  0  0  0  0  0  0  0  0\n",
            "   0  0  0  0  0  0  0  0  0  0  0  0  0  0  0  0  0  0  0  0  0  0  0  0\n",
            "   0  0  0  0  0  0  0  0  0  0  0  0  0  0  0  0  0  0  0  0  0  0  0  0\n",
            "   0  0  0  0  0  0  0  0  0  0  0  0  0  0  0  0  0  0  0  0  0  0  0  0\n",
            "   0  0  0  0  0  0  0  0  0  0  0  0  0  0  0  0  0  0  0  0  0  0  0  0\n",
            "   0  0]]\n",
            "\n",
            "Length of vectorized chars290\n"
          ]
        }
      ],
      "source": [
        "# Test our character vectorizer\n",
        "random_train_chars = random.choice(train_chars)\n",
        "print(f\"Charified text:\\n {random_train_chars}\")\n",
        "print(f\"Length of random_train_chars:{len(random_train_chars.split())}\")\n",
        "vectorized_chars = char_vectorizer([random_train_chars])\n",
        "print(f\"\\nVectorized chars:\\n{vectorized_chars}\")\n",
        "print(f\"\\nLength of vectorized chars{len(vectorized_chars[0])}\")"
      ]
    },
    {
      "cell_type": "markdown",
      "id": "ac420096-8f01-45d4-bd2d-24d6ae62f2a3",
      "metadata": {
        "id": "ac420096-8f01-45d4-bd2d-24d6ae62f2a3"
      },
      "source": [
        "### Creating a character level embedding"
      ]
    },
    {
      "cell_type": "code",
      "execution_count": 74,
      "id": "84802319-334d-4b14-8767-4ac08fe6c38a",
      "metadata": {
        "id": "84802319-334d-4b14-8767-4ac08fe6c38a"
      },
      "outputs": [],
      "source": [
        "#creating a character embedding layer of 128\n",
        "char_embedding = layers.Embedding(input_dim=len(char_vocab), # number of differrent characters in the vocabulary\n",
        "                                  input_shape=(290,),\n",
        "                                  output_dim=25, #size of the char embedding in the paper in figure.1\n",
        "                                  mask_zero=True,\n",
        "                                  name=\"char_embedding\")"
      ]
    },
    {
      "cell_type": "code",
      "execution_count": 75,
      "id": "8c8624aa-b615-4d66-bb0f-7fa7cd0b49f2",
      "metadata": {
        "colab": {
          "base_uri": "https://localhost:8080/"
        },
        "id": "8c8624aa-b615-4d66-bb0f-7fa7cd0b49f2",
        "outputId": "3e862e65-f398-472d-a061-4db2e0c1d137"
      },
      "outputs": [
        {
          "output_type": "execute_result",
          "data": {
            "text/plain": [
              "<tf.Tensor: shape=(1, 290, 25), dtype=float32, numpy=\n",
              "array([[[ 0.01545772,  0.04268305, -0.00611949, ...,  0.02205583,\n",
              "          0.0209976 ,  0.0248775 ],\n",
              "        [ 0.0308365 ,  0.04949881, -0.00265776, ..., -0.01236559,\n",
              "         -0.03669358,  0.00641351],\n",
              "        [-0.00437421,  0.03624381, -0.02271487, ..., -0.02225437,\n",
              "          0.02402002, -0.0428732 ],\n",
              "        ...,\n",
              "        [-0.0337973 ,  0.04066843, -0.04859759, ...,  0.02073414,\n",
              "          0.03494772, -0.02020446],\n",
              "        [-0.0337973 ,  0.04066843, -0.04859759, ...,  0.02073414,\n",
              "          0.03494772, -0.02020446],\n",
              "        [-0.0337973 ,  0.04066843, -0.04859759, ...,  0.02073414,\n",
              "          0.03494772, -0.02020446]]], dtype=float32)>"
            ]
          },
          "metadata": {},
          "execution_count": 75
        }
      ],
      "source": [
        "char_embedding(vectorized_chars)"
      ]
    },
    {
      "cell_type": "code",
      "execution_count": 76,
      "id": "f14ab593-5cfb-4789-b488-11dc5429e9fa",
      "metadata": {
        "colab": {
          "base_uri": "https://localhost:8080/"
        },
        "id": "f14ab593-5cfb-4789-b488-11dc5429e9fa",
        "outputId": "3f9a7c17-1129-4ce3-b5b4-c296fca1d9a7"
      },
      "outputs": [
        {
          "output_type": "stream",
          "name": "stdout",
          "text": [
            "Charified text:\n",
            "c u r r e n t   c l i n i c a l   t r i a l s   n c t @   ,   r e g i s t e r e d   @   a u g u s t   ,   @   .\n",
            "\n",
            "Embedded chars after vectorization and embedding \n",
            ":[[[ 0.01545772  0.04268305 -0.00611949 ...  0.02205583  0.0209976\n",
            "    0.0248775 ]\n",
            "  [ 0.0308365   0.04949881 -0.00265776 ... -0.01236559 -0.03669358\n",
            "    0.00641351]\n",
            "  [-0.00437421  0.03624381 -0.02271487 ... -0.02225437  0.02402002\n",
            "   -0.0428732 ]\n",
            "  ...\n",
            "  [-0.0337973   0.04066843 -0.04859759 ...  0.02073414  0.03494772\n",
            "   -0.02020446]\n",
            "  [-0.0337973   0.04066843 -0.04859759 ...  0.02073414  0.03494772\n",
            "   -0.02020446]\n",
            "  [-0.0337973   0.04066843 -0.04859759 ...  0.02073414  0.03494772\n",
            "   -0.02020446]]]\n",
            "\n",
            "Character embedding shape:(1, 290, 25)\n"
          ]
        }
      ],
      "source": [
        "# Test out character embedding layer\n",
        "print(f\"Charified text:\\n{random_train_chars}\\n\")\n",
        "char_embed = char_embedding(char_vectorizer([random_train_chars]))\n",
        "print(f\"Embedded chars after vectorization and embedding \\n:{char_embed}\\n\")\n",
        "print(f\"Character embedding shape:{char_embed.shape}\")"
      ]
    },
    {
      "cell_type": "code",
      "execution_count": 77,
      "id": "de69c627-0f71-433b-80a5-6e1aece249d8",
      "metadata": {
        "colab": {
          "base_uri": "https://localhost:8080/"
        },
        "id": "de69c627-0f71-433b-80a5-6e1aece249d8",
        "outputId": "8c54e208-18c8-4844-dce7-5121a590140d"
      },
      "outputs": [
        {
          "output_type": "execute_result",
          "data": {
            "text/plain": [
              "111"
            ]
          },
          "metadata": {},
          "execution_count": 77
        }
      ],
      "source": [
        "len(random_train_chars)"
      ]
    },
    {
      "cell_type": "markdown",
      "id": "dc5d7648-6eb8-4c9c-a8b7-f00892bc7191",
      "metadata": {
        "id": "dc5d7648-6eb8-4c9c-a8b7-f00892bc7191"
      },
      "source": [
        "### Building a Conv1D model to fit on character embeddings"
      ]
    },
    {
      "cell_type": "code",
      "execution_count": 78,
      "id": "24eeedba-fe90-46b7-98be-c198e0439dd5",
      "metadata": {
        "colab": {
          "base_uri": "https://localhost:8080/"
        },
        "id": "24eeedba-fe90-46b7-98be-c198e0439dd5",
        "outputId": "3e9e2314-aace-4cd0-cfb9-7a6ca9188d1f"
      },
      "outputs": [
        {
          "output_type": "stream",
          "name": "stdout",
          "text": [
            "Model: \"model_3_Conv1D_char_embedding\"\n",
            "_________________________________________________________________\n",
            " Layer (type)                Output Shape              Param #   \n",
            "=================================================================\n",
            " input_2 (InputLayer)        [(None, 1)]               0         \n",
            "                                                                 \n",
            " char_vectorizer (TextVecto  (None, 290)               0         \n",
            " rization)                                                       \n",
            "                                                                 \n",
            " char_embedding (Embedding)  (None, 290, 25)           700       \n",
            "                                                                 \n",
            " conv1d_1 (Conv1D)           (None, 290, 64)           8064      \n",
            "                                                                 \n",
            " global_max_pooling1d (Glob  (None, 64)                0         \n",
            " alMaxPooling1D)                                                 \n",
            "                                                                 \n",
            " dense_2 (Dense)             (None, 5)                 325       \n",
            "                                                                 \n",
            "=================================================================\n",
            "Total params: 9089 (35.50 KB)\n",
            "Trainable params: 9089 (35.50 KB)\n",
            "Non-trainable params: 0 (0.00 Byte)\n",
            "_________________________________________________________________\n"
          ]
        }
      ],
      "source": [
        "#creating a model with character level embedding\n",
        "inputs = layers.Input(shape=(1,), dtype=\"string\")\n",
        "#passing the inputs to char_vectorizer layer\n",
        "x = char_vectorizer(inputs)\n",
        "#passing the char_vector outputs to embedding layer\n",
        "x = char_embedding(x)\n",
        "#passing the char_embedded outputs to Conv1D layer\n",
        "x = layers.Conv1D(64, kernel_size=5, activation=\"relu\", padding=\"same\")(x)\n",
        "#creating a pooling layer for condensing the outputs of Conv1D layer\n",
        "x = layers.GlobalMaxPooling1D()(x)\n",
        "# # creating a dense layer as an intermediary between pooling and output layer\n",
        "# x = layers.Dense(64, activation=\"relu\")(x)\n",
        "#creating the output layer\n",
        "outputs = layers.Dense(5, activation=\"softmax\")(x)\n",
        "#creating the model\n",
        "model_3 = tf.keras.Model(inputs, outputs, name=\"model_3_Conv1D_char_embedding\")\n",
        "\n",
        "#getting the model summary\n",
        "model_3.summary()"
      ]
    },
    {
      "cell_type": "code",
      "execution_count": 79,
      "id": "a828ca48-6728-4fda-b46f-74ea658a2586",
      "metadata": {
        "id": "a828ca48-6728-4fda-b46f-74ea658a2586"
      },
      "outputs": [],
      "source": [
        "# compiling model_3\n",
        "model_3.compile(loss=\"categorical_crossentropy\",\n",
        "                metrics=[\"accuracy\"],\n",
        "                optimizer=\"adam\")\n"
      ]
    },
    {
      "cell_type": "code",
      "execution_count": 80,
      "id": "8f6cecb3-b1d2-47ec-842f-397b900c0e7b",
      "metadata": {
        "colab": {
          "base_uri": "https://localhost:8080/"
        },
        "id": "8f6cecb3-b1d2-47ec-842f-397b900c0e7b",
        "outputId": "72358cf4-9311-4c0c-9578-fc2add5bcb37"
      },
      "outputs": [
        {
          "output_type": "execute_result",
          "data": {
            "text/plain": [
              "<_TensorSliceDataset element_spec=(TensorSpec(shape=(), dtype=tf.string, name=None), TensorSpec(shape=(5,), dtype=tf.float64, name=None))>"
            ]
          },
          "metadata": {},
          "execution_count": 80
        }
      ],
      "source": [
        "# create charlevel datasets\n",
        "train_chars_dataset = tf.data.Dataset.from_tensor_slices((train_chars, train_labels_one_hot))\n",
        "test_chars_dataset = tf.data.Dataset.from_tensor_slices((test_chars, test_labels_one_hot))\n",
        "valid_chars_dataset = tf.data.Dataset.from_tensor_slices((val_chars, val_labels_one_hot))\n",
        "\n",
        "train_chars_dataset"
      ]
    },
    {
      "cell_type": "code",
      "execution_count": 81,
      "id": "8f059d67-db49-4dab-b0f2-8676275142cb",
      "metadata": {
        "colab": {
          "base_uri": "https://localhost:8080/"
        },
        "id": "8f059d67-db49-4dab-b0f2-8676275142cb",
        "outputId": "e16820b6-df0a-4b7b-af91-a5da99788564"
      },
      "outputs": [
        {
          "output_type": "execute_result",
          "data": {
            "text/plain": [
              "<_PrefetchDataset element_spec=(TensorSpec(shape=(None,), dtype=tf.string, name=None), TensorSpec(shape=(None, 5), dtype=tf.float64, name=None))>"
            ]
          },
          "metadata": {},
          "execution_count": 81
        }
      ],
      "source": [
        "#converting the dataset to prefetch batches\n",
        "train_chars_dataset = train_chars_dataset.batch(32).prefetch(tf.data.AUTOTUNE)\n",
        "test_chars_dataset = test_chars_dataset.batch(32).prefetch(tf.data.AUTOTUNE)\n",
        "valid_chars_dataset = valid_chars_dataset.batch(32).prefetch(tf.data.AUTOTUNE)\n",
        "\n",
        "train_chars_dataset"
      ]
    },
    {
      "cell_type": "code",
      "execution_count": 82,
      "id": "e6b45a64-0ca2-42af-9c56-fa8900325c05",
      "metadata": {
        "colab": {
          "base_uri": "https://localhost:8080/"
        },
        "id": "e6b45a64-0ca2-42af-9c56-fa8900325c05",
        "outputId": "e7cb52bc-16b3-4744-a443-2b467aefb3e5"
      },
      "outputs": [
        {
          "output_type": "stream",
          "name": "stdout",
          "text": [
            "Epoch 1/3\n",
            "562/562 [==============================] - 6s 8ms/step - loss: 1.2613 - accuracy: 0.4890 - val_loss: 1.0554 - val_accuracy: 0.5758\n",
            "Epoch 2/3\n",
            "562/562 [==============================] - 3s 6ms/step - loss: 1.0177 - accuracy: 0.5953 - val_loss: 0.9654 - val_accuracy: 0.6097\n",
            "Epoch 3/3\n",
            "562/562 [==============================] - 3s 6ms/step - loss: 0.9391 - accuracy: 0.6301 - val_loss: 0.8882 - val_accuracy: 0.6466\n"
          ]
        }
      ],
      "source": [
        "# fitting the model_3, training and validating with 10% batches\n",
        "model_3_history = model_3.fit(train_chars_dataset,\n",
        "                              epochs=3,\n",
        "                              validation_data=valid_chars_dataset,\n",
        "                              steps_per_epoch=int(0.1 * len(train_chars_dataset)),\n",
        "                              validation_steps=int(0.1 * len(valid_chars_dataset)))"
      ]
    },
    {
      "cell_type": "code",
      "execution_count": 83,
      "id": "2febeabb-285a-4214-ab38-1d4d9e322afd",
      "metadata": {
        "colab": {
          "base_uri": "https://localhost:8080/"
        },
        "id": "2febeabb-285a-4214-ab38-1d4d9e322afd",
        "outputId": "063b2d9a-14de-40fa-e76f-fecd5cb29b4b"
      },
      "outputs": [
        {
          "output_type": "stream",
          "name": "stdout",
          "text": [
            "945/945 [==============================] - 3s 3ms/step\n"
          ]
        },
        {
          "output_type": "execute_result",
          "data": {
            "text/plain": [
              "array([[0.17608999, 0.5234106 , 0.05223542, 0.21675311, 0.03151087],\n",
              "       [0.25079647, 0.5278719 , 0.02809933, 0.15779157, 0.03544072],\n",
              "       [0.12206241, 0.40513137, 0.20871289, 0.19402002, 0.07007329],\n",
              "       [0.01741482, 0.01521722, 0.8752643 , 0.01914666, 0.07295711],\n",
              "       [0.01804096, 0.08801709, 0.63350767, 0.0351815 , 0.22525278]],\n",
              "      dtype=float32)"
            ]
          },
          "metadata": {},
          "execution_count": 83
        }
      ],
      "source": [
        "# Make predictions with character model only\n",
        "model_3_pred_probs = model_3.predict(valid_chars_dataset)\n",
        "model_3_pred_probs[:5]"
      ]
    },
    {
      "cell_type": "code",
      "execution_count": 84,
      "id": "cf45fb1a-1a4e-400f-bc68-eb8ae3ab13b2",
      "metadata": {
        "colab": {
          "base_uri": "https://localhost:8080/"
        },
        "id": "cf45fb1a-1a4e-400f-bc68-eb8ae3ab13b2",
        "outputId": "0514ea12-87da-4721-e77f-d57c3fafd6d3"
      },
      "outputs": [
        {
          "output_type": "execute_result",
          "data": {
            "text/plain": [
              "<tf.Tensor: shape=(5,), dtype=int64, numpy=array([1, 1, 1, 2, 2])>"
            ]
          },
          "metadata": {},
          "execution_count": 84
        }
      ],
      "source": [
        "# convert the prediction probabilities to class names\n",
        "model_3_preds = tf.argmax(model_3_pred_probs, axis=1)\n",
        "model_3_preds[:5]"
      ]
    },
    {
      "cell_type": "code",
      "execution_count": 85,
      "id": "e8e86263-96ac-4704-ba9c-7404ddf744ea",
      "metadata": {
        "colab": {
          "base_uri": "https://localhost:8080/"
        },
        "id": "e8e86263-96ac-4704-ba9c-7404ddf744ea",
        "outputId": "397bf79a-5ce4-49fa-bde4-015180db9d4e"
      },
      "outputs": [
        {
          "output_type": "execute_result",
          "data": {
            "text/plain": [
              "{'accuracy': 64.71931682775056,\n",
              " 'precision': 0.64007934129627,\n",
              " 'recall': 0.6471931682775056,\n",
              " 'f1': 0.6352240866412838}"
            ]
          },
          "metadata": {},
          "execution_count": 85
        }
      ],
      "source": [
        "#calculate the results for conv1d model chars only\n",
        "model_3_results = calculate_results(val_labels_encoded, model_3_preds)\n",
        "model_3_results"
      ]
    },
    {
      "cell_type": "code",
      "execution_count": 86,
      "id": "f78e20e5-3488-4123-b73f-6f824564abf5",
      "metadata": {
        "colab": {
          "base_uri": "https://localhost:8080/"
        },
        "id": "f78e20e5-3488-4123-b73f-6f824564abf5",
        "outputId": "de0ebf0f-d07a-425b-abbc-7dd5365f8567"
      },
      "outputs": [
        {
          "output_type": "execute_result",
          "data": {
            "text/plain": [
              "{'accuracy': 72.1832384482987,\n",
              " 'precision': 0.7186466952323352,\n",
              " 'recall': 0.7218323844829869,\n",
              " 'f1': 0.6989250353450294}"
            ]
          },
          "metadata": {},
          "execution_count": 86
        }
      ],
      "source": [
        "base_line_results"
      ]
    },
    {
      "cell_type": "markdown",
      "id": "1a6c2de8-8a02-4437-9ae1-23028557a017",
      "metadata": {
        "id": "1a6c2de8-8a02-4437-9ae1-23028557a017"
      },
      "source": [
        "## Model 4: Combining pretrained token embedding  + characters embeddings(hybrid)\n",
        "\n",
        "1. Create a token level embedding(similar to `model_1`\n",
        "2. Create a character level embedding (similar to `model_3`\n",
        "3. Combine 1 & 2 with a concatenate (`layers.Concatenate`)\n",
        "4. Build a series of output layers on top of 3 similar to figure to Figure 1 and section 4.2\n",
        "5. Construct a model which takes tokens and character-level sequences as input and produces sequence label probabilities\n"
      ]
    },
    {
      "cell_type": "code",
      "execution_count": 87,
      "id": "bf7b197b-2250-4cbe-9ceb-0d3ea66453a9",
      "metadata": {
        "id": "bf7b197b-2250-4cbe-9ceb-0d3ea66453a9"
      },
      "outputs": [],
      "source": [
        "# 1. setup token inputs/model\n",
        "token_inputs = layers.Input(shape=[], dtype=tf.string, name=\"token_input\")\n",
        "token_embedding = tf_hub_embedding_layer(token_inputs)\n",
        "token_outputs = layers.Dense(128, activation=\"relu\")(token_embedding)\n",
        "token_model = tf.keras.Model(token_inputs, token_outputs)\n",
        "\n",
        "#2. Setup char inputs\n",
        "char_inputs = layers.Input(shape=(1,), dtype=tf.string, name=\"char_inputs\")\n",
        "char_vectors = char_vectorizer(char_inputs)\n",
        "char_embeddings = char_embedding(char_vectors)\n",
        "char_bi_lstm = layers.Bidirectional(layers.LSTM(24))(char_embeddings) #bi-lstm shown in figure 1 of the paper accroding to paper is 50\n",
        "char_model = tf.keras.Model(char_inputs, char_bi_lstm)               #bi directional lstm doubles the neurons\n",
        "\n",
        "# 3. Create the concatenation layer to combine character and token embedding\n",
        "token_char_concat = layers.Concatenate(name=\"token_char_hybrid\")([token_model.output,\n",
        "                                                                 char_model.output])\n",
        "\n",
        "# 4. Create output layers - adding in Droupout\n",
        "combined_dropout = layers.Dropout(0.5)(token_char_concat) #drops 50% of the weights of the layer to prevent over fitting\n",
        "combined_dense = layers.Dense(128, activation=\"relu\")(combined_dropout)\n",
        "\n",
        "final_dropout = layers.Dropout(0.5)(combined_dense)\n",
        "output_layer = layers.Dense(5, activation=\"softmax\")(final_dropout)\n",
        "\n",
        "# 5. Construct model with char and token inputs\n",
        "model_4 = tf.keras.Model(inputs=[token_model.input, char_model.input],\n",
        "                         outputs=output_layer, name=\"model_4_token_and_char_embeddings\")\n"
      ]
    },
    {
      "cell_type": "code",
      "execution_count": 88,
      "id": "47cf8861-90fc-4ec6-9f08-e65766637d61",
      "metadata": {
        "colab": {
          "base_uri": "https://localhost:8080/"
        },
        "id": "47cf8861-90fc-4ec6-9f08-e65766637d61",
        "outputId": "0f6100bd-5a04-4e4a-9239-c39ee91b80fe"
      },
      "outputs": [
        {
          "output_type": "stream",
          "name": "stdout",
          "text": [
            "Model: \"model_4_token_and_char_embeddings\"\n",
            "__________________________________________________________________________________________________\n",
            " Layer (type)                Output Shape                 Param #   Connected to                  \n",
            "==================================================================================================\n",
            " char_inputs (InputLayer)    [(None, 1)]                  0         []                            \n",
            "                                                                                                  \n",
            " token_input (InputLayer)    [(None,)]                    0         []                            \n",
            "                                                                                                  \n",
            " char_vectorizer (TextVecto  (None, 290)                  0         ['char_inputs[0][0]']         \n",
            " rization)                                                                                        \n",
            "                                                                                                  \n",
            " universal_sentence_encoder  (None, 512)                  2567978   ['token_input[0][0]']         \n",
            "  (KerasLayer)                                            24                                      \n",
            "                                                                                                  \n",
            " char_embedding (Embedding)  (None, 290, 25)              700       ['char_vectorizer[1][0]']     \n",
            "                                                                                                  \n",
            " dense_3 (Dense)             (None, 128)                  65664     ['universal_sentence_encoder[1\n",
            "                                                                    ][0]']                        \n",
            "                                                                                                  \n",
            " bidirectional (Bidirection  (None, 48)                   9600      ['char_embedding[1][0]']      \n",
            " al)                                                                                              \n",
            "                                                                                                  \n",
            " token_char_hybrid (Concate  (None, 176)                  0         ['dense_3[0][0]',             \n",
            " nate)                                                               'bidirectional[0][0]']       \n",
            "                                                                                                  \n",
            " dropout (Dropout)           (None, 176)                  0         ['token_char_hybrid[0][0]']   \n",
            "                                                                                                  \n",
            " dense_4 (Dense)             (None, 128)                  22656     ['dropout[0][0]']             \n",
            "                                                                                                  \n",
            " dropout_1 (Dropout)         (None, 128)                  0         ['dense_4[0][0]']             \n",
            "                                                                                                  \n",
            " dense_5 (Dense)             (None, 5)                    645       ['dropout_1[0][0]']           \n",
            "                                                                                                  \n",
            "==================================================================================================\n",
            "Total params: 256897089 (979.98 MB)\n",
            "Trainable params: 99265 (387.75 KB)\n",
            "Non-trainable params: 256797824 (979.61 MB)\n",
            "__________________________________________________________________________________________________\n"
          ]
        }
      ],
      "source": [
        "# Get a summary of our model\n",
        "model_4.summary()"
      ]
    },
    {
      "cell_type": "code",
      "execution_count": 89,
      "id": "2202fbb8-34c2-4b2b-a4e2-ebfcb783d920",
      "metadata": {
        "colab": {
          "base_uri": "https://localhost:8080/",
          "height": 976
        },
        "id": "2202fbb8-34c2-4b2b-a4e2-ebfcb783d920",
        "outputId": "731d378e-c690-452e-dbd7-272521e7b5b6"
      },
      "outputs": [
        {
          "output_type": "execute_result",
          "data": {
            "image/png": "[encoded data removed]",
            "text/plain": [
              "<IPython.core.display.Image object>"
            ]
          },
          "metadata": {},
          "execution_count": 89
        }
      ],
      "source": [
        "# Plot hybrid token and character model\n",
        "from keras.utils import plot_model\n",
        "plot_model(model_4, show_shapes=True)"
      ]
    },
    {
      "cell_type": "code",
      "execution_count": 90,
      "id": "f0ceb603-d282-49fc-aae3-3f5b5098466f",
      "metadata": {
        "id": "f0ceb603-d282-49fc-aae3-3f5b5098466f"
      },
      "outputs": [],
      "source": [
        "# Compile token char model\n",
        "model_4.compile(loss=\"categorical_crossentropy\",\n",
        "                optimizer=\"adam\", #The paper uses SGD\n",
        "                metrics=[\"accuracy\"])"
      ]
    },
    {
      "cell_type": "markdown",
      "id": "37e3979d-fff4-4554-a0b9-3a02d65362a8",
      "metadata": {
        "id": "37e3979d-fff4-4554-a0b9-3a02d65362a8"
      },
      "source": [
        "### Combining tokens and characters data into a tf.data.Dataset"
      ]
    },
    {
      "cell_type": "code",
      "execution_count": 91,
      "id": "81330a2c-7fd4-481e-96fd-795e6866a858",
      "metadata": {
        "id": "81330a2c-7fd4-481e-96fd-795e6866a858"
      },
      "outputs": [],
      "source": [
        "# combining the char and token inputs into a batch for training test and validation\n",
        "train_char_token_data = tf.data.Dataset.from_tensor_slices(\n",
        "    (train_sentences, train_chars)) #make data\n",
        "train_token_labels = tf.data.Dataset.from_tensor_slices(train_labels_one_hot) #make labels\n",
        "\n",
        "train_char_token_dataset = tf.data.Dataset.zip((train_char_token_data, train_token_labels)) #combine data and labels\n",
        "\n",
        "test_char_token_data = tf.data.Dataset.from_tensor_slices((test_sentences, test_chars))\n",
        "test_token_labels = tf.data.Dataset.from_tensor_slices(test_labels_one_hot)\n",
        "test_char_token_dataset = tf.data.Dataset.zip((test_char_token_data, test_token_labels))\n",
        "\n",
        "val_char_token_data = tf.data.Dataset.from_tensor_slices((val_sentences, val_chars))\n",
        "val_token_labels = tf.data.Dataset.from_tensor_slices(val_labels_one_hot)\n",
        "val_char_token_dataset = tf.data.Dataset.zip((val_char_token_data, val_token_labels))\n",
        "\n",
        "#Prefetch and batch the data\n",
        "train_char_token_dataset = train_char_token_dataset.batch(32).prefetch(tf.data.AUTOTUNE)\n",
        "test_char_token_dataset = test_char_token_dataset.batch(32).prefetch(tf.data.AUTOTUNE)\n",
        "val_char_token_dataset = val_char_token_dataset.batch(32).prefetch(tf.data.AUTOTUNE)\n"
      ]
    },
    {
      "cell_type": "code",
      "execution_count": 92,
      "id": "ec9e5e2c-17b0-44f6-9c71-bf0b01c24471",
      "metadata": {
        "colab": {
          "base_uri": "https://localhost:8080/"
        },
        "id": "ec9e5e2c-17b0-44f6-9c71-bf0b01c24471",
        "outputId": "fc1d0272-474a-4508-af7d-179be35f99e5"
      },
      "outputs": [
        {
          "output_type": "execute_result",
          "data": {
            "text/plain": [
              "(<_PrefetchDataset element_spec=((TensorSpec(shape=(None,), dtype=tf.string, name=None), TensorSpec(shape=(None,), dtype=tf.string, name=None)), TensorSpec(shape=(None, 5), dtype=tf.float64, name=None))>,\n",
              " <_PrefetchDataset element_spec=((TensorSpec(shape=(None,), dtype=tf.string, name=None), TensorSpec(shape=(None,), dtype=tf.string, name=None)), TensorSpec(shape=(None, 5), dtype=tf.float64, name=None))>)"
            ]
          },
          "metadata": {},
          "execution_count": 92
        }
      ],
      "source": [
        "train_char_token_dataset, val_char_token_dataset"
      ]
    },
    {
      "cell_type": "markdown",
      "id": "187f84c2-3cbb-459e-be93-3ff6920cda15",
      "metadata": {
        "id": "187f84c2-3cbb-459e-be93-3ff6920cda15"
      },
      "source": [
        "The order of the model inputs should be same as that of the batch"
      ]
    },
    {
      "cell_type": "code",
      "execution_count": 93,
      "id": "ee6df3c9-6c8d-4f81-b37c-66c7e5239d33",
      "metadata": {
        "colab": {
          "base_uri": "https://localhost:8080/"
        },
        "id": "ee6df3c9-6c8d-4f81-b37c-66c7e5239d33",
        "outputId": "2251efe1-c462-4214-f456-c623da223369"
      },
      "outputs": [
        {
          "output_type": "stream",
          "name": "stdout",
          "text": [
            "Epoch 1/3\n",
            "562/562 [==============================] - 43s 54ms/step - loss: 0.9893 - accuracy: 0.6043 - val_loss: 0.7824 - val_accuracy: 0.7001\n",
            "Epoch 2/3\n",
            "562/562 [==============================] - 27s 48ms/step - loss: 0.8063 - accuracy: 0.6896 - val_loss: 0.7188 - val_accuracy: 0.7264\n",
            "Epoch 3/3\n",
            "562/562 [==============================] - 25s 45ms/step - loss: 0.7807 - accuracy: 0.7040 - val_loss: 0.6929 - val_accuracy: 0.7404\n"
          ]
        }
      ],
      "source": [
        "model_4_history = model_4.fit(train_char_token_dataset,\n",
        "                              epochs=3,\n",
        "                              validation_data=val_char_token_dataset,\n",
        "                              steps_per_epoch=int(0.1 * len(train_char_token_dataset)),\n",
        "                              validation_steps= int(0.1 * len(val_char_token_dataset)))"
      ]
    },
    {
      "cell_type": "code",
      "execution_count": 94,
      "id": "f7b1b09f-62c6-44de-b587-31adade1916f",
      "metadata": {
        "colab": {
          "base_uri": "https://localhost:8080/"
        },
        "id": "f7b1b09f-62c6-44de-b587-31adade1916f",
        "outputId": "37547c14-b265-4c2d-c91f-7e3f3bb497ae"
      },
      "outputs": [
        {
          "output_type": "stream",
          "name": "stdout",
          "text": [
            "945/945 [==============================] - 21s 22ms/step - loss: 0.6987 - accuracy: 0.7340\n"
          ]
        },
        {
          "output_type": "execute_result",
          "data": {
            "text/plain": [
              "[0.6986721158027649, 0.7340461015701294]"
            ]
          },
          "metadata": {},
          "execution_count": 94
        }
      ],
      "source": [
        "# evaluating the model on full validation dataset\n",
        "model_4.evaluate(val_char_token_dataset)"
      ]
    },
    {
      "cell_type": "code",
      "execution_count": 95,
      "id": "778034a8-3c30-4c5f-977c-5dc4027bb85f",
      "metadata": {
        "colab": {
          "base_uri": "https://localhost:8080/"
        },
        "id": "778034a8-3c30-4c5f-977c-5dc4027bb85f",
        "outputId": "810a189c-4578-419f-e946-dd272097fe1c"
      },
      "outputs": [
        {
          "output_type": "stream",
          "name": "stdout",
          "text": [
            "945/945 [==============================] - 21s 20ms/step\n"
          ]
        },
        {
          "output_type": "execute_result",
          "data": {
            "text/plain": [
              "array([[0.42670426, 0.35370135, 0.00485282, 0.20705833, 0.00768331],\n",
              "       [0.31922972, 0.4914641 , 0.00362202, 0.1845237 , 0.00116055],\n",
              "       [0.2783324 , 0.15257202, 0.03913621, 0.50008494, 0.02987442],\n",
              "       [0.01187937, 0.02067492, 0.8333056 , 0.00622459, 0.12791558],\n",
              "       [0.03147986, 0.09360209, 0.5951111 , 0.01475781, 0.26504916]],\n",
              "      dtype=float32)"
            ]
          },
          "metadata": {},
          "execution_count": 95
        }
      ],
      "source": [
        "# Make predictions using the token-character model hybrid\n",
        "model_4_pred_probs = model_4.predict(val_char_token_dataset)\n",
        "model_4_pred_probs[:5]"
      ]
    },
    {
      "cell_type": "code",
      "execution_count": 96,
      "id": "bc2345bd-5f79-43d1-9ab5-66f73edb030c",
      "metadata": {
        "colab": {
          "base_uri": "https://localhost:8080/"
        },
        "id": "bc2345bd-5f79-43d1-9ab5-66f73edb030c",
        "outputId": "647b0880-b15a-4519-c3aa-6b5df64b6150"
      },
      "outputs": [
        {
          "output_type": "execute_result",
          "data": {
            "text/plain": [
              "<tf.Tensor: shape=(5,), dtype=int64, numpy=array([0, 1, 3, 2, 2])>"
            ]
          },
          "metadata": {},
          "execution_count": 96
        }
      ],
      "source": [
        "# Format pred probs into pred labels\n",
        "model_4_preds = tf.argmax(model_4_pred_probs, axis=1)\n",
        "model_4_preds[:5]"
      ]
    },
    {
      "cell_type": "code",
      "execution_count": 97,
      "id": "7d0bd14d-73b4-4554-8df8-9dc21565ed52",
      "metadata": {
        "colab": {
          "base_uri": "https://localhost:8080/"
        },
        "id": "7d0bd14d-73b4-4554-8df8-9dc21565ed52",
        "outputId": "501791b2-3bff-452d-aa5c-6e58f77edaec"
      },
      "outputs": [
        {
          "output_type": "execute_result",
          "data": {
            "text/plain": [
              "{'accuracy': 73.40460744075202,\n",
              " 'precision': 0.7359320104326638,\n",
              " 'recall': 0.7340460744075202,\n",
              " 'f1': 0.7315436174123483}"
            ]
          },
          "metadata": {},
          "execution_count": 97
        }
      ],
      "source": [
        "# Calculate model 4 results\n",
        "model_4_results = calculate_results(val_labels_encoded, model_4_preds)\n",
        "model_4_results"
      ]
    },
    {
      "cell_type": "markdown",
      "id": "708afff6-3b7a-4365-94e3-1e42c1322d0a",
      "metadata": {
        "id": "708afff6-3b7a-4365-94e3-1e42c1322d0a"
      },
      "source": [
        "## Model 5: Transfer Learning with pretrained tokem embeddings + character embeddings + positional embedding"
      ]
    },
    {
      "cell_type": "code",
      "execution_count": 98,
      "id": "8705d04a-df70-4be3-9cf9-0e2b8c0e3874",
      "metadata": {
        "colab": {
          "base_uri": "https://localhost:8080/",
          "height": 206
        },
        "id": "8705d04a-df70-4be3-9cf9-0e2b8c0e3874",
        "outputId": "b01b16ca-afd7-4f11-eca7-1718be29dfff"
      },
      "outputs": [
        {
          "output_type": "execute_result",
          "data": {
            "text/plain": [
              "      target                                               text  line_number  \\\n",
              "0  OBJECTIVE  to investigate the efficacy of @ weeks of dail...            0   \n",
              "1    METHODS  a total of @ patients with primary knee oa wer...            1   \n",
              "2    METHODS  outcome measures included pain reduction and i...            2   \n",
              "3    METHODS  pain was assessed using the visual analog pain...            3   \n",
              "4    METHODS  secondary outcome measures included the wester...            4   \n",
              "\n",
              "   total_lines  \n",
              "0           11  \n",
              "1           11  \n",
              "2           11  \n",
              "3           11  \n",
              "4           11  "
            ],
            "text/html": [
              "\n",
              "  <div id=\"df-0e83ead1-77cf-440e-9639-2264630717db\" class=\"colab-df-container\">\n",
              "    <div>\n",
              "<style scoped>\n",
              "    .dataframe tbody tr th:only-of-type {\n",
              "        vertical-align: middle;\n",
              "    }\n",
              "\n",
              "    .dataframe tbody tr th {\n",
              "        vertical-align: top;\n",
              "    }\n",
              "\n",
              "    .dataframe thead th {\n",
              "        text-align: right;\n",
              "    }\n",
              "</style>\n",
              "<table border=\"1\" class=\"dataframe\">\n",
              "  <thead>\n",
              "    <tr style=\"text-align: right;\">\n",
              "      <th></th>\n",
              "      <th>target</th>\n",
              "      <th>text</th>\n",
              "      <th>line_number</th>\n",
              "      <th>total_lines</th>\n",
              "    </tr>\n",
              "  </thead>\n",
              "  <tbody>\n",
              "    <tr>\n",
              "      <th>0</th>\n",
              "      <td>OBJECTIVE</td>\n",
              "      <td>to investigate the efficacy of @ weeks of dail...</td>\n",
              "      <td>0</td>\n",
              "      <td>11</td>\n",
              "    </tr>\n",
              "    <tr>\n",
              "      <th>1</th>\n",
              "      <td>METHODS</td>\n",
              "      <td>a total of @ patients with primary knee oa wer...</td>\n",
              "      <td>1</td>\n",
              "      <td>11</td>\n",
              "    </tr>\n",
              "    <tr>\n",
              "      <th>2</th>\n",
              "      <td>METHODS</td>\n",
              "      <td>outcome measures included pain reduction and i...</td>\n",
              "      <td>2</td>\n",
              "      <td>11</td>\n",
              "    </tr>\n",
              "    <tr>\n",
              "      <th>3</th>\n",
              "      <td>METHODS</td>\n",
              "      <td>pain was assessed using the visual analog pain...</td>\n",
              "      <td>3</td>\n",
              "      <td>11</td>\n",
              "    </tr>\n",
              "    <tr>\n",
              "      <th>4</th>\n",
              "      <td>METHODS</td>\n",
              "      <td>secondary outcome measures included the wester...</td>\n",
              "      <td>4</td>\n",
              "      <td>11</td>\n",
              "    </tr>\n",
              "  </tbody>\n",
              "</table>\n",
              "</div>\n",
              "    <div class=\"colab-df-buttons\">\n",
              "\n",
              "  <div class=\"colab-df-container\">\n",
              "    <button class=\"colab-df-convert\" onclick=\"convertToInteractive('df-0e83ead1-77cf-440e-9639-2264630717db')\"\n",
              "            title=\"Convert this dataframe to an interactive table.\"\n",
              "            style=\"display:none;\">\n",
              "\n",
              "  <svg xmlns=\"http://www.w3.org/2000/svg\" height=\"24px\" viewBox=\"0 -960 960 960\">\n",
              "    <path d=\"M120-120v-720h720v720H120Zm60-500h600v-160H180v160Zm220 220h160v-160H400v160Zm0 220h160v-160H400v160ZM180-400h160v-160H180v160Zm440 0h160v-160H620v160ZM180-180h160v-160H180v160Zm440 0h160v-160H620v160Z\"/>\n",
              "  </svg>\n",
              "    </button>\n",
              "\n",
              "  <style>\n",
              "    .colab-df-container {\n",
              "      display:flex;\n",
              "      gap: 12px;\n",
              "    }\n",
              "\n",
              "    .colab-df-convert {\n",
              "      background-color: #E8F0FE;\n",
              "      border: none;\n",
              "      border-radius: 50%;\n",
              "      cursor: pointer;\n",
              "      display: none;\n",
              "      fill: #1967D2;\n",
              "      height: 32px;\n",
              "      padding: 0 0 0 0;\n",
              "      width: 32px;\n",
              "    }\n",
              "\n",
              "    .colab-df-convert:hover {\n",
              "      background-color: #E2EBFA;\n",
              "      box-shadow: 0px 1px 2px rgba(60, 64, 67, 0.3), 0px 1px 3px 1px rgba(60, 64, 67, 0.15);\n",
              "      fill: #174EA6;\n",
              "    }\n",
              "\n",
              "    .colab-df-buttons div {\n",
              "      margin-bottom: 4px;\n",
              "    }\n",
              "\n",
              "    [theme=dark] .colab-df-convert {\n",
              "      background-color: #3B4455;\n",
              "      fill: #D2E3FC;\n",
              "    }\n",
              "\n",
              "    [theme=dark] .colab-df-convert:hover {\n",
              "      background-color: #434B5C;\n",
              "      box-shadow: 0px 1px 3px 1px rgba(0, 0, 0, 0.15);\n",
              "      filter: drop-shadow(0px 1px 2px rgba(0, 0, 0, 0.3));\n",
              "      fill: #FFFFFF;\n",
              "    }\n",
              "  </style>\n",
              "\n",
              "    <script>\n",
              "      const buttonEl =\n",
              "        document.querySelector('#df-0e83ead1-77cf-440e-9639-2264630717db button.colab-df-convert');\n",
              "      buttonEl.style.display =\n",
              "        google.colab.kernel.accessAllowed ? 'block' : 'none';\n",
              "\n",
              "      async function convertToInteractive(key) {\n",
              "        const element = document.querySelector('#df-0e83ead1-77cf-440e-9639-2264630717db');\n",
              "        const dataTable =\n",
              "          await google.colab.kernel.invokeFunction('convertToInteractive',\n",
              "                                                    [key], {});\n",
              "        if (!dataTable) return;\n",
              "\n",
              "        const docLinkHtml = 'Like what you see? Visit the ' +\n",
              "          '<a target=\"_blank\" href=https://colab.research.google.com/notebooks/data_table.ipynb>data table notebook</a>'\n",
              "          + ' to learn more about interactive tables.';\n",
              "        element.innerHTML = '';\n",
              "        dataTable['output_type'] = 'display_data';\n",
              "        await google.colab.output.renderOutput(dataTable, element);\n",
              "        const docLink = document.createElement('div');\n",
              "        docLink.innerHTML = docLinkHtml;\n",
              "        element.appendChild(docLink);\n",
              "      }\n",
              "    </script>\n",
              "  </div>\n",
              "\n",
              "\n",
              "<div id=\"df-ce73bb4e-4e56-4fd9-a8bf-c1a649a17e26\">\n",
              "  <button class=\"colab-df-quickchart\" onclick=\"quickchart('df-ce73bb4e-4e56-4fd9-a8bf-c1a649a17e26')\"\n",
              "            title=\"Suggest charts\"\n",
              "            style=\"display:none;\">\n",
              "\n",
              "<svg xmlns=\"http://www.w3.org/2000/svg\" height=\"24px\"viewBox=\"0 0 24 24\"\n",
              "     width=\"24px\">\n",
              "    <g>\n",
              "        <path d=\"M19 3H5c-1.1 0-2 .9-2 2v14c0 1.1.9 2 2 2h14c1.1 0 2-.9 2-2V5c0-1.1-.9-2-2-2zM9 17H7v-7h2v7zm4 0h-2V7h2v10zm4 0h-2v-4h2v4z\"/>\n",
              "    </g>\n",
              "</svg>\n",
              "  </button>\n",
              "\n",
              "<style>\n",
              "  .colab-df-quickchart {\n",
              "      --bg-color: #E8F0FE;\n",
              "      --fill-color: #1967D2;\n",
              "      --hover-bg-color: #E2EBFA;\n",
              "      --hover-fill-color: #174EA6;\n",
              "      --disabled-fill-color: #AAA;\n",
              "      --disabled-bg-color: #DDD;\n",
              "  }\n",
              "\n",
              "  [theme=dark] .colab-df-quickchart {\n",
              "      --bg-color: #3B4455;\n",
              "      --fill-color: #D2E3FC;\n",
              "      --hover-bg-color: #434B5C;\n",
              "      --hover-fill-color: #FFFFFF;\n",
              "      --disabled-bg-color: #3B4455;\n",
              "      --disabled-fill-color: #666;\n",
              "  }\n",
              "\n",
              "  .colab-df-quickchart {\n",
              "    background-color: var(--bg-color);\n",
              "    border: none;\n",
              "    border-radius: 50%;\n",
              "    cursor: pointer;\n",
              "    display: none;\n",
              "    fill: var(--fill-color);\n",
              "    height: 32px;\n",
              "    padding: 0;\n",
              "    width: 32px;\n",
              "  }\n",
              "\n",
              "  .colab-df-quickchart:hover {\n",
              "    background-color: var(--hover-bg-color);\n",
              "    box-shadow: 0 1px 2px rgba(60, 64, 67, 0.3), 0 1px 3px 1px rgba(60, 64, 67, 0.15);\n",
              "    fill: var(--button-hover-fill-color);\n",
              "  }\n",
              "\n",
              "  .colab-df-quickchart-complete:disabled,\n",
              "  .colab-df-quickchart-complete:disabled:hover {\n",
              "    background-color: var(--disabled-bg-color);\n",
              "    fill: var(--disabled-fill-color);\n",
              "    box-shadow: none;\n",
              "  }\n",
              "\n",
              "  .colab-df-spinner {\n",
              "    border: 2px solid var(--fill-color);\n",
              "    border-color: transparent;\n",
              "    border-bottom-color: var(--fill-color);\n",
              "    animation:\n",
              "      spin 1s steps(1) infinite;\n",
              "  }\n",
              "\n",
              "  @keyframes spin {\n",
              "    0% {\n",
              "      border-color: transparent;\n",
              "      border-bottom-color: var(--fill-color);\n",
              "      border-left-color: var(--fill-color);\n",
              "    }\n",
              "    20% {\n",
              "      border-color: transparent;\n",
              "      border-left-color: var(--fill-color);\n",
              "      border-top-color: var(--fill-color);\n",
              "    }\n",
              "    30% {\n",
              "      border-color: transparent;\n",
              "      border-left-color: var(--fill-color);\n",
              "      border-top-color: var(--fill-color);\n",
              "      border-right-color: var(--fill-color);\n",
              "    }\n",
              "    40% {\n",
              "      border-color: transparent;\n",
              "      border-right-color: var(--fill-color);\n",
              "      border-top-color: var(--fill-color);\n",
              "    }\n",
              "    60% {\n",
              "      border-color: transparent;\n",
              "      border-right-color: var(--fill-color);\n",
              "    }\n",
              "    80% {\n",
              "      border-color: transparent;\n",
              "      border-right-color: var(--fill-color);\n",
              "      border-bottom-color: var(--fill-color);\n",
              "    }\n",
              "    90% {\n",
              "      border-color: transparent;\n",
              "      border-bottom-color: var(--fill-color);\n",
              "    }\n",
              "  }\n",
              "</style>\n",
              "\n",
              "  <script>\n",
              "    async function quickchart(key) {\n",
              "      const quickchartButtonEl =\n",
              "        document.querySelector('#' + key + ' button');\n",
              "      quickchartButtonEl.disabled = true;  // To prevent multiple clicks.\n",
              "      quickchartButtonEl.classList.add('colab-df-spinner');\n",
              "      try {\n",
              "        const charts = await google.colab.kernel.invokeFunction(\n",
              "            'suggestCharts', [key], {});\n",
              "      } catch (error) {\n",
              "        console.error('Error during call to suggestCharts:', error);\n",
              "      }\n",
              "      quickchartButtonEl.classList.remove('colab-df-spinner');\n",
              "      quickchartButtonEl.classList.add('colab-df-quickchart-complete');\n",
              "    }\n",
              "    (() => {\n",
              "      let quickchartButtonEl =\n",
              "        document.querySelector('#df-ce73bb4e-4e56-4fd9-a8bf-c1a649a17e26 button');\n",
              "      quickchartButtonEl.style.display =\n",
              "        google.colab.kernel.accessAllowed ? 'block' : 'none';\n",
              "    })();\n",
              "  </script>\n",
              "</div>\n",
              "\n",
              "    </div>\n",
              "  </div>\n"
            ],
            "application/vnd.google.colaboratory.intrinsic+json": {
              "type": "dataframe",
              "variable_name": "train_df"
            }
          },
          "metadata": {},
          "execution_count": 98
        }
      ],
      "source": [
        "train_df.head()"
      ]
    },
    {
      "cell_type": "markdown",
      "id": "0ca14d79-4e1d-452e-bc56-43cfd985092d",
      "metadata": {
        "id": "0ca14d79-4e1d-452e-bc56-43cfd985092d"
      },
      "source": [
        "> **NOTE:** Any engineered features used to train a model need to be available at test time. In our case line numbers and total lines are available."
      ]
    },
    {
      "cell_type": "markdown",
      "id": "505ce63d-b5a1-4f2f-b3b4-f6636cbe6206",
      "metadata": {
        "id": "505ce63d-b5a1-4f2f-b3b4-f6636cbe6206"
      },
      "source": [
        "### Create Positional embeddings"
      ]
    },
    {
      "cell_type": "code",
      "execution_count": 99,
      "id": "34404429-a5cf-40f2-b880-f6f194aafd0e",
      "metadata": {
        "colab": {
          "base_uri": "https://localhost:8080/"
        },
        "id": "34404429-a5cf-40f2-b880-f6f194aafd0e",
        "outputId": "c402b2db-56d0-439a-ee3f-a1938684e6ac"
      },
      "outputs": [
        {
          "output_type": "execute_result",
          "data": {
            "text/plain": [
              "line_number\n",
              "0     15000\n",
              "1     15000\n",
              "2     15000\n",
              "3     15000\n",
              "4     14992\n",
              "5     14949\n",
              "6     14758\n",
              "7     14279\n",
              "8     13346\n",
              "9     11981\n",
              "10    10041\n",
              "11     7892\n",
              "12     5853\n",
              "13     4152\n",
              "14     2835\n",
              "15     1861\n",
              "16     1188\n",
              "17      751\n",
              "18      462\n",
              "19      286\n",
              "20      162\n",
              "21      101\n",
              "22       66\n",
              "23       33\n",
              "24       22\n",
              "25       14\n",
              "26        7\n",
              "27        4\n",
              "28        3\n",
              "29        1\n",
              "30        1\n",
              "Name: count, dtype: int64"
            ]
          },
          "metadata": {},
          "execution_count": 99
        }
      ],
      "source": [
        "# How many differrent line numbers are there?\n",
        "train_df[\"line_number\"].value_counts()"
      ]
    },
    {
      "cell_type": "code",
      "execution_count": 100,
      "id": "a3f81de8-2494-45bc-ac24-47f260ab2447",
      "metadata": {
        "colab": {
          "base_uri": "https://localhost:8080/",
          "height": 448
        },
        "id": "a3f81de8-2494-45bc-ac24-47f260ab2447",
        "outputId": "777a1ee4-912c-4fc8-8984-493efedc8e79"
      },
      "outputs": [
        {
          "output_type": "execute_result",
          "data": {
            "text/plain": [
              "<Axes: ylabel='Frequency'>"
            ]
          },
          "metadata": {},
          "execution_count": 100
        },
        {
          "output_type": "display_data",
          "data": {
            "text/plain": [
              "<Figure size 640x480 with 1 Axes>"
            ],
            "image/png": "[encoded data removed]"
          },
          "metadata": {}
        }
      ],
      "source": [
        "# check the distribution of \"line_number\" column\n",
        "train_df.line_number.plot.hist()"
      ]
    },
    {
      "cell_type": "code",
      "execution_count": 101,
      "id": "8228dc14-b0d1-47dc-beef-c6f84139ad6e",
      "metadata": {
        "colab": {
          "base_uri": "https://localhost:8080/"
        },
        "id": "8228dc14-b0d1-47dc-beef-c6f84139ad6e",
        "outputId": "045943c9-ba44-4960-a8f5-20c022be7561"
      },
      "outputs": [
        {
          "output_type": "execute_result",
          "data": {
            "text/plain": [
              "15.0"
            ]
          },
          "metadata": {},
          "execution_count": 101
        }
      ],
      "source": [
        "#checking the percentile value which represents most of the line numbers\n",
        "np.percentile(train_df.line_number.to_numpy(), 98)"
      ]
    },
    {
      "cell_type": "code",
      "execution_count": 102,
      "id": "b95e7b64-3f22-42f7-b5e5-003dbddd02e1",
      "metadata": {
        "colab": {
          "base_uri": "https://localhost:8080/"
        },
        "id": "b95e7b64-3f22-42f7-b5e5-003dbddd02e1",
        "outputId": "049c79bb-1933-4833-b9c7-ddaae593f7bb"
      },
      "outputs": [
        {
          "output_type": "execute_result",
          "data": {
            "text/plain": [
              "(<tf.Tensor: shape=(10, 15), dtype=float32, numpy=\n",
              " array([[1., 0., 0., 0., 0., 0., 0., 0., 0., 0., 0., 0., 0., 0., 0.],\n",
              "        [0., 1., 0., 0., 0., 0., 0., 0., 0., 0., 0., 0., 0., 0., 0.],\n",
              "        [0., 0., 1., 0., 0., 0., 0., 0., 0., 0., 0., 0., 0., 0., 0.],\n",
              "        [0., 0., 0., 1., 0., 0., 0., 0., 0., 0., 0., 0., 0., 0., 0.],\n",
              "        [0., 0., 0., 0., 1., 0., 0., 0., 0., 0., 0., 0., 0., 0., 0.],\n",
              "        [0., 0., 0., 0., 0., 1., 0., 0., 0., 0., 0., 0., 0., 0., 0.],\n",
              "        [0., 0., 0., 0., 0., 0., 1., 0., 0., 0., 0., 0., 0., 0., 0.],\n",
              "        [0., 0., 0., 0., 0., 0., 0., 1., 0., 0., 0., 0., 0., 0., 0.],\n",
              "        [0., 0., 0., 0., 0., 0., 0., 0., 1., 0., 0., 0., 0., 0., 0.],\n",
              "        [0., 0., 0., 0., 0., 0., 0., 0., 0., 1., 0., 0., 0., 0., 0.]],\n",
              "       dtype=float32)>,\n",
              " TensorShape([180040, 15]))"
            ]
          },
          "metadata": {},
          "execution_count": 102
        }
      ],
      "source": [
        "# Use tensorflow to create onehot encoded line number tensors\n",
        "train_line_numbers_one_hot = tf.one_hot(train_df.line_number.to_numpy(), depth=15)\n",
        "train_line_numbers_one_hot[:10], train_line_numbers_one_hot.shape"
      ]
    },
    {
      "cell_type": "code",
      "execution_count": 103,
      "id": "fca06d77-d1e7-4740-a6b1-fbea6f6bf151",
      "metadata": {
        "id": "fca06d77-d1e7-4740-a6b1-fbea6f6bf151"
      },
      "outputs": [],
      "source": [
        "#doing the same for validation and test data\n",
        "val_line_numbers_one_hot = tf.one_hot(val_df.line_number.to_numpy(), depth=15)\n",
        "test_line_numbers_one_hot = tf.one_hot(test_df.line_number.to_numpy(), depth=15)"
      ]
    },
    {
      "cell_type": "markdown",
      "id": "af35bc49-d86b-4c4b-86a7-dac08049d439",
      "metadata": {
        "id": "af35bc49-d86b-4c4b-86a7-dac08049d439"
      },
      "source": [
        "Now we have encoded our line numbers feature, let's do the same for total lines"
      ]
    },
    {
      "cell_type": "code",
      "execution_count": 104,
      "id": "74f2ea36-1b4b-4151-bc7c-e68da01dd941",
      "metadata": {
        "colab": {
          "base_uri": "https://localhost:8080/"
        },
        "id": "74f2ea36-1b4b-4151-bc7c-e68da01dd941",
        "outputId": "fef418d2-025f-42d3-aff2-56f53e37266a"
      },
      "outputs": [
        {
          "output_type": "execute_result",
          "data": {
            "text/plain": [
              "total_lines\n",
              "11    24468\n",
              "10    23639\n",
              "12    22113\n",
              "9     19400\n",
              "13    18438\n",
              "14    14610\n",
              "8     12285\n",
              "15    10768\n",
              "7      7464\n",
              "16     7429\n",
              "17     5202\n",
              "6      3353\n",
              "18     3344\n",
              "19     2480\n",
              "20     1281\n",
              "5      1146\n",
              "21      770\n",
              "22      759\n",
              "23      264\n",
              "4       215\n",
              "24      200\n",
              "25      182\n",
              "26       81\n",
              "28       58\n",
              "3        32\n",
              "30       31\n",
              "27       28\n",
              "Name: count, dtype: int64"
            ]
          },
          "metadata": {},
          "execution_count": 104
        }
      ],
      "source": [
        "train_df[\"total_lines\"].value_counts()"
      ]
    },
    {
      "cell_type": "code",
      "execution_count": 105,
      "id": "de5e779a-44f1-4d7c-ab9b-dde23ec7e43d",
      "metadata": {
        "colab": {
          "base_uri": "https://localhost:8080/"
        },
        "id": "de5e779a-44f1-4d7c-ab9b-dde23ec7e43d",
        "outputId": "fc6c4aff-4109-4a75-8484-345d375553f1"
      },
      "outputs": [
        {
          "output_type": "execute_result",
          "data": {
            "text/plain": [
              "20.0"
            ]
          },
          "metadata": {},
          "execution_count": 105
        }
      ],
      "source": [
        "#checking the most suitable value for depth of one-hot encoded labels\n",
        "np.percentile(train_df.total_lines.to_numpy(), 98)"
      ]
    },
    {
      "cell_type": "code",
      "execution_count": 106,
      "id": "a472a826-3e86-4060-bee2-c5d4c8939fb8",
      "metadata": {
        "colab": {
          "base_uri": "https://localhost:8080/",
          "height": 449
        },
        "id": "a472a826-3e86-4060-bee2-c5d4c8939fb8",
        "outputId": "ec17c312-303e-4582-f6d5-357a2a0ca970"
      },
      "outputs": [
        {
          "output_type": "execute_result",
          "data": {
            "text/plain": [
              "<Axes: ylabel='Frequency'>"
            ]
          },
          "metadata": {},
          "execution_count": 106
        },
        {
          "output_type": "display_data",
          "data": {
            "text/plain": [
              "<Figure size 640x480 with 1 Axes>"
            ],
            "image/png": "[encoded data removed]"
          },
          "metadata": {}
        }
      ],
      "source": [
        "# Check the distribution of the data\n",
        "train_df.total_lines.plot(kind=\"hist\")"
      ]
    },
    {
      "cell_type": "code",
      "execution_count": 107,
      "id": "127ba24b-5864-428a-b576-ce3e1150eb71",
      "metadata": {
        "colab": {
          "base_uri": "https://localhost:8080/"
        },
        "id": "127ba24b-5864-428a-b576-ce3e1150eb71",
        "outputId": "f15771bf-bede-4e64-8efa-1196f5ee6bff"
      },
      "outputs": [
        {
          "output_type": "execute_result",
          "data": {
            "text/plain": [
              "(<tf.Tensor: shape=(10, 20), dtype=float32, numpy=\n",
              " array([[0., 0., 0., 0., 0., 0., 0., 0., 0., 0., 0., 1., 0., 0., 0., 0.,\n",
              "         0., 0., 0., 0.],\n",
              "        [0., 0., 0., 0., 0., 0., 0., 0., 0., 0., 0., 1., 0., 0., 0., 0.,\n",
              "         0., 0., 0., 0.],\n",
              "        [0., 0., 0., 0., 0., 0., 0., 0., 0., 0., 0., 1., 0., 0., 0., 0.,\n",
              "         0., 0., 0., 0.],\n",
              "        [0., 0., 0., 0., 0., 0., 0., 0., 0., 0., 0., 1., 0., 0., 0., 0.,\n",
              "         0., 0., 0., 0.],\n",
              "        [0., 0., 0., 0., 0., 0., 0., 0., 0., 0., 0., 1., 0., 0., 0., 0.,\n",
              "         0., 0., 0., 0.],\n",
              "        [0., 0., 0., 0., 0., 0., 0., 0., 0., 0., 0., 1., 0., 0., 0., 0.,\n",
              "         0., 0., 0., 0.],\n",
              "        [0., 0., 0., 0., 0., 0., 0., 0., 0., 0., 0., 1., 0., 0., 0., 0.,\n",
              "         0., 0., 0., 0.],\n",
              "        [0., 0., 0., 0., 0., 0., 0., 0., 0., 0., 0., 1., 0., 0., 0., 0.,\n",
              "         0., 0., 0., 0.],\n",
              "        [0., 0., 0., 0., 0., 0., 0., 0., 0., 0., 0., 1., 0., 0., 0., 0.,\n",
              "         0., 0., 0., 0.],\n",
              "        [0., 0., 0., 0., 0., 0., 0., 0., 0., 0., 0., 1., 0., 0., 0., 0.,\n",
              "         0., 0., 0., 0.]], dtype=float32)>,\n",
              " TensorShape([180040, 20]))"
            ]
          },
          "metadata": {},
          "execution_count": 107
        }
      ],
      "source": [
        "# Use Tensorflow to create one hot encoded tensors of our total_lines\n",
        "train_total_lines_one_hot = tf.one_hot(train_df.total_lines.to_numpy(), depth=20)\n",
        "train_total_lines_one_hot[:10], train_total_lines_one_hot.shape"
      ]
    },
    {
      "cell_type": "code",
      "execution_count": 108,
      "id": "0118f96c-b611-4e2d-9867-e12c4de0324b",
      "metadata": {
        "id": "0118f96c-b611-4e2d-9867-e12c4de0324b"
      },
      "outputs": [],
      "source": [
        "#doing the same operation on validation and test data\n",
        "val_total_lines_one_hot = tf.one_hot(val_df.total_lines.to_numpy(), depth=20)\n",
        "test_total_lines_one_hot = tf.one_hot(test_df.total_lines.to_numpy(), depth=20)"
      ]
    },
    {
      "cell_type": "markdown",
      "id": "6f0264a6-1062-47f9-961f-6b3cd33ff403",
      "metadata": {
        "id": "6f0264a6-1062-47f9-961f-6b3cd33ff403"
      },
      "source": [
        "### Building a tribrid model\n",
        "\n",
        "1. Create a token-level model\n",
        "2. Create a character-level model\n",
        "3. Create a model for the \"line_number\" feature\n",
        "4. Create a model for the \"total_line\" feature\n",
        "5. Combine the outputs of 1 and 2 using tf.keras.layers.Concatenate\n",
        "6. Combine the outputs of 3,4,5 using tf.keras.layers.Concatenate\n",
        "7. Create an output layer to accept the concatenated embeddings and predict the output label probabilities\n",
        "8. Combine the inputs of 1,2,3,4 and outputs of into a tf.keras.Model"
      ]
    },
    {
      "cell_type": "code",
      "execution_count": 109,
      "id": "9e9eb0d3-32b2-43e4-8eff-986154fadb73",
      "metadata": {
        "id": "9e9eb0d3-32b2-43e4-8eff-986154fadb73"
      },
      "outputs": [],
      "source": [
        "# 1. Token inputs\n",
        "token_inputs = layers.Input(shape=[], dtype=\"string\", name=\"token_embedding\")\n",
        "token_embeddings = tf_hub_embedding_layer(token_inputs)\n",
        "token_outputs = layers.Dense(128, activation=\"relu\")(token_embeddings)\n",
        "token_model = tf.keras.Model(inputs=token_inputs, outputs = token_outputs)\n",
        "\n",
        "#2. Char inputs\n",
        "char_inputs = layers.Input(shape=(1,), dtype=\"string\", name=\"char_inputs\")\n",
        "char_vectors = char_vectorizer(char_inputs)\n",
        "char_embeddings = char_embedding(char_vectors)\n",
        "char_bi_lstm = layers.Bidirectional(layers.LSTM(24))(char_embeddings)\n",
        "char_model = tf.keras.Model(inputs = char_inputs,\n",
        "                            outputs = char_bi_lstm)\n",
        "\n",
        "#3. Create a model for line number feature\n",
        "line_number_inputs = layers.Input(shape=[15,], name=\"line_number_input\", dtype=tf.float32)\n",
        "line_number_outputs = layers.Dense(32, activation=\"relu\")(line_number_inputs)\n",
        "line_number_model = tf.keras.Model(line_number_inputs, line_number_outputs)\n",
        "\n",
        "#4. Create a model for total line feature\n",
        "total_line_inputs = layers.Input(shape=[20,], name=\"total_lines_input\", dtype=tf.float32)\n",
        "total_line_outputs = layers.Dense(32, activation=\"relu\")(total_line_inputs)\n",
        "total_lines_model = tf.keras.Model(total_line_inputs, total_line_outputs)\n",
        "\n",
        "\n",
        "#5. Combine token and char embeddings into a hybrid embedding\n",
        "combined_embeddings = layers.Concatenate(name=\"char_token_hybrid_embedding\")([token_model.output,\n",
        "                                                                              char_model.output])\n",
        "\n",
        "#5.5 Create a dropout layer to drop 50% weights\n",
        "intermediate_dense_layer = layers.Dense(256, activation=\"relu\")(combined_embeddings)\n",
        "intermediate_dropout_layer = layers.Dropout(0.5)(intermediate_dense_layer)\n",
        "\n",
        "\n",
        "#6. Combine the positional embeddings with combined token and char embeddings\n",
        "tribrid_embeddings = layers.Concatenate(name=\"char_token_positional_embedding\")([\n",
        "    line_number_model.output,\n",
        "    total_lines_model.output,\n",
        "    intermediate_dropout_layer\n",
        "])\n",
        "\n",
        "\n",
        "#7. Create output layer\n",
        "output_layer = layers.Dense(5, activation=\"softmax\", name=\"output_layer\")(tribrid_embeddings)\n",
        "\n",
        "#8. Put together model with all inputs\n",
        "model_5 = tf.keras.Model(inputs=[\n",
        "    line_number_model.input,\n",
        "    total_lines_model.input,\n",
        "    token_model.input,\n",
        "    char_model.input\n",
        "],\n",
        "                         outputs=output_layer, name=\"model_5_tribrid_embedding\")"
      ]
    },
    {
      "cell_type": "markdown",
      "id": "0a463fed-616f-4ca8-bfb5-161b754ae4cc",
      "metadata": {
        "id": "0a463fed-616f-4ca8-bfb5-161b754ae4cc"
      },
      "source": [
        "> **NOTE:** Dropout layer has no output"
      ]
    },
    {
      "cell_type": "code",
      "execution_count": 110,
      "id": "f0982c71-6ca9-4193-aa35-141c8a52e3ee",
      "metadata": {
        "colab": {
          "base_uri": "https://localhost:8080/"
        },
        "id": "f0982c71-6ca9-4193-aa35-141c8a52e3ee",
        "outputId": "3c898cf3-c9f5-428f-91f0-5efbb3facbb8"
      },
      "outputs": [
        {
          "output_type": "stream",
          "name": "stdout",
          "text": [
            "Model: \"model_5_tribrid_embedding\"\n",
            "__________________________________________________________________________________________________\n",
            " Layer (type)                Output Shape                 Param #   Connected to                  \n",
            "==================================================================================================\n",
            " char_inputs (InputLayer)    [(None, 1)]                  0         []                            \n",
            "                                                                                                  \n",
            " token_embedding (InputLaye  [(None,)]                    0         []                            \n",
            " r)                                                                                               \n",
            "                                                                                                  \n",
            " char_vectorizer (TextVecto  (None, 290)                  0         ['char_inputs[0][0]']         \n",
            " rization)                                                                                        \n",
            "                                                                                                  \n",
            " universal_sentence_encoder  (None, 512)                  2567978   ['token_embedding[0][0]']     \n",
            "  (KerasLayer)                                            24                                      \n",
            "                                                                                                  \n",
            " char_embedding (Embedding)  (None, 290, 25)              700       ['char_vectorizer[2][0]']     \n",
            "                                                                                                  \n",
            " dense_6 (Dense)             (None, 128)                  65664     ['universal_sentence_encoder[2\n",
            "                                                                    ][0]']                        \n",
            "                                                                                                  \n",
            " bidirectional_1 (Bidirecti  (None, 48)                   9600      ['char_embedding[2][0]']      \n",
            " onal)                                                                                            \n",
            "                                                                                                  \n",
            " char_token_hybrid_embeddin  (None, 176)                  0         ['dense_6[0][0]',             \n",
            " g (Concatenate)                                                     'bidirectional_1[0][0]']     \n",
            "                                                                                                  \n",
            " line_number_input (InputLa  [(None, 15)]                 0         []                            \n",
            " yer)                                                                                             \n",
            "                                                                                                  \n",
            " total_lines_input (InputLa  [(None, 20)]                 0         []                            \n",
            " yer)                                                                                             \n",
            "                                                                                                  \n",
            " dense_9 (Dense)             (None, 256)                  45312     ['char_token_hybrid_embedding[\n",
            "                                                                    0][0]']                       \n",
            "                                                                                                  \n",
            " dense_7 (Dense)             (None, 32)                   512       ['line_number_input[0][0]']   \n",
            "                                                                                                  \n",
            " dense_8 (Dense)             (None, 32)                   672       ['total_lines_input[0][0]']   \n",
            "                                                                                                  \n",
            " dropout_2 (Dropout)         (None, 256)                  0         ['dense_9[0][0]']             \n",
            "                                                                                                  \n",
            " char_token_positional_embe  (None, 320)                  0         ['dense_7[0][0]',             \n",
            " dding (Concatenate)                                                 'dense_8[0][0]',             \n",
            "                                                                     'dropout_2[0][0]']           \n",
            "                                                                                                  \n",
            " output_layer (Dense)        (None, 5)                    1605      ['char_token_positional_embedd\n",
            "                                                                    ing[0][0]']                   \n",
            "                                                                                                  \n",
            "==================================================================================================\n",
            "Total params: 256921889 (980.08 MB)\n",
            "Trainable params: 124065 (484.63 KB)\n",
            "Non-trainable params: 256797824 (979.61 MB)\n",
            "__________________________________________________________________________________________________\n"
          ]
        }
      ],
      "source": [
        "# Get the summary of the tribrid embedding model\n",
        "model_5.summary()"
      ]
    },
    {
      "cell_type": "code",
      "execution_count": 111,
      "id": "6eed9b7a-8952-477f-ab19-58e5421b1716",
      "metadata": {
        "colab": {
          "base_uri": "https://localhost:8080/",
          "height": 976
        },
        "id": "6eed9b7a-8952-477f-ab19-58e5421b1716",
        "outputId": "e661f07a-dcf7-4e7a-9a5c-2ecb0830fb94"
      },
      "outputs": [
        {
          "output_type": "execute_result",
          "data": {
            "image/png": "[encoded data removed]",
            "text/plain": [
              "<IPython.core.display.Image object>"
            ]
          },
          "metadata": {},
          "execution_count": 111
        }
      ],
      "source": [
        "#Plotting the model architecture\n",
        "from keras.utils import plot_model\n",
        "plot_model(model_5, show_shapes=True)"
      ]
    },
    {
      "cell_type": "markdown",
      "id": "eaefc338-a4a9-492f-97b4-54732317966e",
      "metadata": {
        "id": "eaefc338-a4a9-492f-97b4-54732317966e"
      },
      "source": [
        "**Label Smoothing**\n",
        "\n",
        "If our model gets too confident on a single class i.e, the prediction probability is too high, it may stop learning altogether and stick to that particular class by completely ignoring other classes. What label smoothing does is that it will assign the prediction probabilities of the highest class to other classes. In turn hopefully improving the generalization ability of the model."
      ]
    },
    {
      "cell_type": "code",
      "execution_count": 112,
      "id": "b2a6c149-5415-41b8-b1dd-af70dfa03ef6",
      "metadata": {
        "id": "b2a6c149-5415-41b8-b1dd-af70dfa03ef6"
      },
      "outputs": [],
      "source": [
        "#compiling the model_5\n",
        "model_5.compile(loss=tf.keras.losses.CategoricalCrossentropy(label_smoothing=0.2), #helps you to prevent overfitting\n",
        "                optimizer = tf.keras.optimizers.legacy.Adam(),\n",
        "                metrics=[\"accuracy\"])"
      ]
    },
    {
      "cell_type": "markdown",
      "id": "b938b764-add4-4c65-be34-5a22056587f4",
      "metadata": {
        "id": "b938b764-add4-4c65-be34-5a22056587f4"
      },
      "source": [
        "### Create tribrid embedding datasets using tf.data"
      ]
    },
    {
      "cell_type": "code",
      "execution_count": 113,
      "id": "b7b07308-4b82-4c25-ad2e-5f7d89f097d4",
      "metadata": {
        "id": "b7b07308-4b82-4c25-ad2e-5f7d89f097d4"
      },
      "outputs": [],
      "source": [
        "#creating training and validation data with all four kinds of data\n",
        "train_char_token_pos_data = tf.data.Dataset.from_tensor_slices((\n",
        "    train_line_numbers_one_hot,\n",
        "    train_total_lines_one_hot,\n",
        "    train_sentences,\n",
        "    train_chars\n",
        "))\n",
        "\n",
        "train_char_token_pos_labels = tf.data.Dataset.from_tensor_slices(train_labels_one_hot)\n",
        "\n",
        "train_char_token_pos_dataset = tf.data.Dataset.zip((train_char_token_pos_data, train_char_token_pos_labels))\n",
        "train_char_token_pos_dataset = train_char_token_pos_dataset.batch(32).prefetch(tf.data.AUTOTUNE)\n",
        "\n",
        "\n",
        "\n",
        "val_char_token_pos_data = tf.data.Dataset.from_tensor_slices((\n",
        "    val_line_numbers_one_hot,\n",
        "    val_total_lines_one_hot,\n",
        "    val_sentences,\n",
        "    val_chars\n",
        "))\n",
        "\n",
        "val_char_token_pos_data = tf.data.Dataset.from_tensor_slices((\n",
        "    val_line_numbers_one_hot,\n",
        "    val_total_lines_one_hot,\n",
        "    val_sentences,\n",
        "    val_chars\n",
        "))\n",
        "\n",
        "val_char_token_pos_labels = tf.data.Dataset.from_tensor_slices(val_labels_one_hot)\n",
        "\n",
        "val_char_token_pos_dataset = tf.data.Dataset.zip((val_char_token_pos_data, val_char_token_pos_labels))\n",
        "val_char_token_pos_dataset = val_char_token_pos_dataset.batch(32).prefetch(tf.data.AUTOTUNE)\n",
        "\n"
      ]
    },
    {
      "cell_type": "code",
      "execution_count": 114,
      "id": "59289521-1079-4dde-b7ca-18ec8adffcc2",
      "metadata": {
        "colab": {
          "base_uri": "https://localhost:8080/"
        },
        "id": "59289521-1079-4dde-b7ca-18ec8adffcc2",
        "outputId": "229c494e-cb37-4cb1-ca92-6a5271e66a27"
      },
      "outputs": [
        {
          "output_type": "execute_result",
          "data": {
            "text/plain": [
              "(<_PrefetchDataset element_spec=((TensorSpec(shape=(None, 15), dtype=tf.float32, name=None), TensorSpec(shape=(None, 20), dtype=tf.float32, name=None), TensorSpec(shape=(None,), dtype=tf.string, name=None), TensorSpec(shape=(None,), dtype=tf.string, name=None)), TensorSpec(shape=(None, 5), dtype=tf.float64, name=None))>,\n",
              " <_PrefetchDataset element_spec=((TensorSpec(shape=(None, 15), dtype=tf.float32, name=None), TensorSpec(shape=(None, 20), dtype=tf.float32, name=None), TensorSpec(shape=(None,), dtype=tf.string, name=None), TensorSpec(shape=(None,), dtype=tf.string, name=None)), TensorSpec(shape=(None, 5), dtype=tf.float64, name=None))>)"
            ]
          },
          "metadata": {},
          "execution_count": 114
        }
      ],
      "source": [
        "#check the input shapes\n",
        "train_char_token_pos_dataset ,  val_char_token_pos_dataset"
      ]
    },
    {
      "cell_type": "markdown",
      "id": "4d6da8ce-1df2-4274-a1a9-8488d892bf3e",
      "metadata": {
        "id": "4d6da8ce-1df2-4274-a1a9-8488d892bf3e"
      },
      "source": [
        "### Fitting and evaluating the model\n"
      ]
    },
    {
      "cell_type": "code",
      "execution_count": 115,
      "id": "41c30b96-baee-4a98-8e42-d24619d9a234",
      "metadata": {
        "colab": {
          "base_uri": "https://localhost:8080/"
        },
        "id": "41c30b96-baee-4a98-8e42-d24619d9a234",
        "outputId": "bc0fee08-a6eb-4be3-85d8-bdf3f791c27f"
      },
      "outputs": [
        {
          "output_type": "stream",
          "name": "stdout",
          "text": [
            "Epoch 1/3\n",
            "562/562 [==============================] - 40s 53ms/step - loss: 1.1044 - accuracy: 0.7166 - val_loss: 0.9788 - val_accuracy: 0.8125\n",
            "Epoch 2/3\n",
            "562/562 [==============================] - 26s 46ms/step - loss: 0.9670 - accuracy: 0.8156 - val_loss: 0.9454 - val_accuracy: 0.8305\n",
            "Epoch 3/3\n",
            "562/562 [==============================] - 25s 45ms/step - loss: 0.9480 - accuracy: 0.8253 - val_loss: 0.9370 - val_accuracy: 0.8351\n"
          ]
        }
      ],
      "source": [
        "history_model_5 = model_5.fit(train_char_token_pos_dataset,\n",
        "                              epochs=3,\n",
        "                              validation_data=val_char_token_pos_dataset,\n",
        "                              steps_per_epoch=int(0.1 * len(train_char_token_pos_dataset)),\n",
        "                              validation_steps=int(0.1 * len(val_char_token_pos_dataset))\n",
        "                             )\n"
      ]
    },
    {
      "cell_type": "code",
      "execution_count": 116,
      "id": "45690718-90a5-40bf-8515-fcff698e9e9e",
      "metadata": {
        "colab": {
          "base_uri": "https://localhost:8080/"
        },
        "id": "45690718-90a5-40bf-8515-fcff698e9e9e",
        "outputId": "9d147164-27d7-4793-f4b0-5dbdf1a45c50"
      },
      "outputs": [
        {
          "output_type": "stream",
          "name": "stdout",
          "text": [
            "945/945 [==============================] - 22s 21ms/step\n"
          ]
        },
        {
          "output_type": "execute_result",
          "data": {
            "text/plain": [
              "array([[0.5223872 , 0.10090435, 0.01007493, 0.34812227, 0.01851118],\n",
              "       [0.5696148 , 0.07975596, 0.02717738, 0.3145677 , 0.00888414],\n",
              "       [0.3000768 , 0.10371678, 0.10509627, 0.43063617, 0.06047406],\n",
              "       [0.04390397, 0.05936709, 0.7023195 , 0.04003505, 0.15437435],\n",
              "       [0.04709012, 0.03763434, 0.76233923, 0.0474597 , 0.10547655]],\n",
              "      dtype=float32)"
            ]
          },
          "metadata": {},
          "execution_count": 116
        }
      ],
      "source": [
        "#evaluating the model of the full validation dataset\n",
        "model_5_pred_probs = model_5.predict(val_char_token_pos_dataset)\n",
        "model_5_pred_probs[:5]"
      ]
    },
    {
      "cell_type": "code",
      "execution_count": 117,
      "id": "59d23c63-8f89-4d45-ac20-75b5f20fa687",
      "metadata": {
        "colab": {
          "base_uri": "https://localhost:8080/"
        },
        "id": "59d23c63-8f89-4d45-ac20-75b5f20fa687",
        "outputId": "6e5a75da-917b-471f-9cd4-f099025d1478"
      },
      "outputs": [
        {
          "output_type": "execute_result",
          "data": {
            "text/plain": [
              "<tf.Tensor: shape=(30212,), dtype=int64, numpy=array([0, 0, 3, ..., 4, 4, 1])>"
            ]
          },
          "metadata": {},
          "execution_count": 117
        }
      ],
      "source": [
        "#converting the prediction probabilities to prediction labels\n",
        "model_5_preds = tf.argmax(model_5_pred_probs, axis=1)\n",
        "model_5_preds"
      ]
    },
    {
      "cell_type": "code",
      "execution_count": 118,
      "id": "dfca8613-02b0-467b-8a58-f275850ec9c2",
      "metadata": {
        "colab": {
          "base_uri": "https://localhost:8080/"
        },
        "id": "dfca8613-02b0-467b-8a58-f275850ec9c2",
        "outputId": "59b630f0-3363-49e5-b184-e68ea8bcca73"
      },
      "outputs": [
        {
          "output_type": "execute_result",
          "data": {
            "text/plain": [
              "{'accuracy': 83.56282271944923,\n",
              " 'precision': 0.8348989781693796,\n",
              " 'recall': 0.8356282271944923,\n",
              " 'f1': 0.8348137302442978}"
            ]
          },
          "metadata": {},
          "execution_count": 118
        }
      ],
      "source": [
        "#calculating the model_5 results\n",
        "model_5_results = calculate_results(val_labels_encoded, model_5_preds)\n",
        "model_5_results"
      ]
    },
    {
      "cell_type": "code",
      "execution_count": 119,
      "id": "293fa411-7591-4b6c-83c4-1e27eb832105",
      "metadata": {
        "colab": {
          "base_uri": "https://localhost:8080/"
        },
        "id": "293fa411-7591-4b6c-83c4-1e27eb832105",
        "outputId": "351d9dfe-52fc-4fc0-9781-cfa30fc4646c"
      },
      "outputs": [
        {
          "output_type": "execute_result",
          "data": {
            "text/plain": [
              "{'accuracy': 73.40460744075202,\n",
              " 'precision': 0.7359320104326638,\n",
              " 'recall': 0.7340460744075202,\n",
              " 'f1': 0.7315436174123483}"
            ]
          },
          "metadata": {},
          "execution_count": 119
        }
      ],
      "source": [
        "model_4_results"
      ]
    },
    {
      "cell_type": "code",
      "execution_count": 120,
      "id": "fabebb41-3fb2-481d-bf4b-62050dd6e1c9",
      "metadata": {
        "colab": {
          "base_uri": "https://localhost:8080/"
        },
        "id": "fabebb41-3fb2-481d-bf4b-62050dd6e1c9",
        "outputId": "834acd8f-d3f6-478e-987f-0259c3ff8e8a"
      },
      "outputs": [
        {
          "output_type": "execute_result",
          "data": {
            "text/plain": [
              "{'accuracy': 72.1832384482987,\n",
              " 'precision': 0.7186466952323352,\n",
              " 'recall': 0.7218323844829869,\n",
              " 'f1': 0.6989250353450294}"
            ]
          },
          "metadata": {},
          "execution_count": 120
        }
      ],
      "source": [
        "base_line_results"
      ]
    },
    {
      "cell_type": "markdown",
      "source": [
        "We can see a significant improvement in the results compared to the baseline model we created as well as the `model_4`."
      ],
      "metadata": {
        "id": "CWeOG-z7-squ"
      },
      "id": "CWeOG-z7-squ"
    },
    {
      "cell_type": "markdown",
      "source": [
        "## Model 6: Replicating `model_5` and training on full dataset\n",
        "\n",
        "Our model 5 is the best performing model so far. Let's fit it on the complete train data and check the results."
      ],
      "metadata": {
        "id": "MuFGVRTw8G4y"
      },
      "id": "MuFGVRTw8G4y"
    },
    {
      "cell_type": "code",
      "source": [
        "# 1. Token inputs\n",
        "token_inputs = layers.Input(shape=[], dtype=\"string\", name=\"token_embedding\")\n",
        "token_embeddings = tf_hub_embedding_layer(token_inputs)\n",
        "token_outputs = layers.Dense(128, activation=\"relu\")(token_embeddings)\n",
        "token_model = tf.keras.Model(inputs=token_inputs, outputs = token_outputs)\n",
        "\n",
        "#2. Char inputs\n",
        "char_inputs = layers.Input(shape=(1,), dtype=\"string\", name=\"char_inputs\")\n",
        "char_vectors = char_vectorizer(char_inputs)\n",
        "char_embeddings = char_embedding(char_vectors)\n",
        "char_bi_lstm = layers.Bidirectional(layers.LSTM(24))(char_embeddings)\n",
        "char_model = tf.keras.Model(inputs = char_inputs,\n",
        "                            outputs = char_bi_lstm)\n",
        "\n",
        "#3. Create a model for line number feature\n",
        "line_number_inputs = layers.Input(shape=[15,], name=\"line_number_input\", dtype=tf.float32)\n",
        "line_number_outputs = layers.Dense(32, activation=\"relu\")(line_number_inputs)\n",
        "line_number_model = tf.keras.Model(line_number_inputs, line_number_outputs)\n",
        "\n",
        "#4. Create a model for total line feature\n",
        "total_line_inputs = layers.Input(shape=[20,], name=\"total_lines_input\", dtype=tf.float32)\n",
        "total_line_outputs = layers.Dense(32, activation=\"relu\")(total_line_inputs)\n",
        "total_lines_model = tf.keras.Model(total_line_inputs, total_line_outputs)\n",
        "\n",
        "\n",
        "#5. Combine token and char embeddings into a hybrid embedding\n",
        "combined_embeddings = layers.Concatenate(name=\"char_token_hybrid_embedding\")([token_model.output,\n",
        "                                                                              char_model.output])\n",
        "\n",
        "#5.5 Create a dropout layer to drop 50% weights\n",
        "intermediate_dense_layer = layers.Dense(256, activation=\"relu\")(combined_embeddings)\n",
        "intermediate_dropout_layer = layers.Dropout(0.5)(intermediate_dense_layer)\n",
        "\n",
        "\n",
        "#6. Combine the positional embeddings with combined token and char embeddings\n",
        "tribrid_embeddings = layers.Concatenate(name=\"char_token_positional_embedding\")([\n",
        "    line_number_model.output,\n",
        "    total_lines_model.output,\n",
        "    intermediate_dropout_layer\n",
        "])\n",
        "\n",
        "\n",
        "#7. Create output layer\n",
        "output_layer = layers.Dense(5, activation=\"softmax\", name=\"output_layer\")(tribrid_embeddings)\n",
        "\n",
        "#8. Put together model with all inputs\n",
        "model_6 = tf.keras.Model(inputs=[\n",
        "    line_number_model.input,\n",
        "    total_lines_model.input,\n",
        "    token_model.input,\n",
        "    char_model.input\n",
        "],\n",
        "                         outputs=output_layer, name=\"model_6_tribrid_embedding\")"
      ],
      "metadata": {
        "id": "trDhmEs67wcI"
      },
      "id": "trDhmEs67wcI",
      "execution_count": 125,
      "outputs": []
    },
    {
      "cell_type": "code",
      "source": [
        "#getting the model summary\n",
        "model_6.summary()"
      ],
      "metadata": {
        "colab": {
          "base_uri": "https://localhost:8080/"
        },
        "id": "WcbyX6fcYbeJ",
        "outputId": "892742fb-7d2f-44ee-a18c-e005fd042e97"
      },
      "id": "WcbyX6fcYbeJ",
      "execution_count": 126,
      "outputs": [
        {
          "output_type": "stream",
          "name": "stdout",
          "text": [
            "Model: \"model_6_tribrid_embedding\"\n",
            "__________________________________________________________________________________________________\n",
            " Layer (type)                Output Shape                 Param #   Connected to                  \n",
            "==================================================================================================\n",
            " char_inputs (InputLayer)    [(None, 1)]                  0         []                            \n",
            "                                                                                                  \n",
            " token_embedding (InputLaye  [(None,)]                    0         []                            \n",
            " r)                                                                                               \n",
            "                                                                                                  \n",
            " char_vectorizer (TextVecto  (None, 290)                  0         ['char_inputs[0][0]']         \n",
            " rization)                                                                                        \n",
            "                                                                                                  \n",
            " universal_sentence_encoder  (None, 512)                  2567978   ['token_embedding[0][0]']     \n",
            "  (KerasLayer)                                            24                                      \n",
            "                                                                                                  \n",
            " char_embedding (Embedding)  (None, 290, 25)              700       ['char_vectorizer[3][0]']     \n",
            "                                                                                                  \n",
            " dense_10 (Dense)            (None, 128)                  65664     ['universal_sentence_encoder[3\n",
            "                                                                    ][0]']                        \n",
            "                                                                                                  \n",
            " bidirectional_2 (Bidirecti  (None, 48)                   9600      ['char_embedding[3][0]']      \n",
            " onal)                                                                                            \n",
            "                                                                                                  \n",
            " char_token_hybrid_embeddin  (None, 176)                  0         ['dense_10[0][0]',            \n",
            " g (Concatenate)                                                     'bidirectional_2[0][0]']     \n",
            "                                                                                                  \n",
            " line_number_input (InputLa  [(None, 15)]                 0         []                            \n",
            " yer)                                                                                             \n",
            "                                                                                                  \n",
            " total_lines_input (InputLa  [(None, 20)]                 0         []                            \n",
            " yer)                                                                                             \n",
            "                                                                                                  \n",
            " dense_13 (Dense)            (None, 256)                  45312     ['char_token_hybrid_embedding[\n",
            "                                                                    0][0]']                       \n",
            "                                                                                                  \n",
            " dense_11 (Dense)            (None, 32)                   512       ['line_number_input[0][0]']   \n",
            "                                                                                                  \n",
            " dense_12 (Dense)            (None, 32)                   672       ['total_lines_input[0][0]']   \n",
            "                                                                                                  \n",
            " dropout_3 (Dropout)         (None, 256)                  0         ['dense_13[0][0]']            \n",
            "                                                                                                  \n",
            " char_token_positional_embe  (None, 320)                  0         ['dense_11[0][0]',            \n",
            " dding (Concatenate)                                                 'dense_12[0][0]',            \n",
            "                                                                     'dropout_3[0][0]']           \n",
            "                                                                                                  \n",
            " output_layer (Dense)        (None, 5)                    1605      ['char_token_positional_embedd\n",
            "                                                                    ing[0][0]']                   \n",
            "                                                                                                  \n",
            "==================================================================================================\n",
            "Total params: 256921889 (980.08 MB)\n",
            "Trainable params: 124065 (484.63 KB)\n",
            "Non-trainable params: 256797824 (979.61 MB)\n",
            "__________________________________________________________________________________________________\n"
          ]
        }
      ]
    },
    {
      "cell_type": "code",
      "source": [
        "#compiling the cloned_model_5\n",
        "model_6.compile(loss=tf.keras.losses.CategoricalCrossentropy(label_smoothing=0.2), #helps you to prevent overfitting\n",
        "                optimizer = tf.keras.optimizers.legacy.Adam(),\n",
        "                metrics=[\"accuracy\"])"
      ],
      "metadata": {
        "id": "nPfI5FUMY5Vq"
      },
      "id": "nPfI5FUMY5Vq",
      "execution_count": 127,
      "outputs": []
    },
    {
      "cell_type": "code",
      "source": [
        "#training on full train dataset and validating on 10% of validation dataset for 5 epochs\n",
        "history_model_6 = model_6.fit(train_char_token_pos_dataset,\n",
        "                              epochs=5,\n",
        "                              validation_data=val_char_token_pos_dataset,\n",
        "                              validation_steps=int(0.1 * len(val_char_token_pos_dataset))\n",
        "                             )"
      ],
      "metadata": {
        "colab": {
          "base_uri": "https://localhost:8080/"
        },
        "id": "0kq3ExKFZBOL",
        "outputId": "e6a44c01-1d26-4bdb-e269-357e10636fc5"
      },
      "id": "0kq3ExKFZBOL",
      "execution_count": 128,
      "outputs": [
        {
          "output_type": "stream",
          "name": "stdout",
          "text": [
            "Epoch 1/5\n",
            "5627/5627 [==============================] - 371s 65ms/step - loss: 0.9529 - accuracy: 0.8239 - val_loss: 0.9115 - val_accuracy: 0.8434\n",
            "Epoch 2/5\n",
            "5627/5627 [==============================] - 244s 43ms/step - loss: 0.9080 - accuracy: 0.8547 - val_loss: 0.9049 - val_accuracy: 0.8487\n",
            "Epoch 3/5\n",
            "5627/5627 [==============================] - 256s 46ms/step - loss: 0.8956 - accuracy: 0.8641 - val_loss: 0.8989 - val_accuracy: 0.8534\n",
            "Epoch 4/5\n",
            "5627/5627 [==============================] - 231s 41ms/step - loss: 0.8869 - accuracy: 0.8707 - val_loss: 0.8996 - val_accuracy: 0.8534\n",
            "Epoch 5/5\n",
            "5627/5627 [==============================] - 231s 41ms/step - loss: 0.8804 - accuracy: 0.8756 - val_loss: 0.8973 - val_accuracy: 0.8554\n"
          ]
        }
      ]
    },
    {
      "cell_type": "code",
      "source": [
        "#visualising the model architecture\n",
        "from keras.utils import plot_model\n",
        "plot_model(model_6)"
      ],
      "metadata": {
        "colab": {
          "base_uri": "https://localhost:8080/",
          "height": 856
        },
        "id": "giWBN6IE88zt",
        "outputId": "05d740c5-804d-4ecd-888b-bedde0ce031b"
      },
      "id": "giWBN6IE88zt",
      "execution_count": 129,
      "outputs": [
        {
          "output_type": "execute_result",
          "data": {
            "image/png": "[encoded data removed]",
            "text/plain": [
              "<IPython.core.display.Image object>"
            ]
          },
          "metadata": {},
          "execution_count": 129
        }
      ]
    },
    {
      "cell_type": "code",
      "source": [
        "#evaluating the model on complete validation data\n",
        "model_6_pred_probs = model_6.predict(val_char_token_pos_dataset)\n",
        "model_6_preds = tf.argmax(model_6_pred_probs, axis=1)\n",
        "model_6_preds"
      ],
      "metadata": {
        "colab": {
          "base_uri": "https://localhost:8080/"
        },
        "id": "uI0lGxnSZUbO",
        "outputId": "841259c4-78b8-4893-ced5-8607a0dcc0af"
      },
      "id": "uI0lGxnSZUbO",
      "execution_count": 130,
      "outputs": [
        {
          "output_type": "stream",
          "name": "stdout",
          "text": [
            "945/945 [==============================] - 21s 19ms/step\n"
          ]
        },
        {
          "output_type": "execute_result",
          "data": {
            "text/plain": [
              "<tf.Tensor: shape=(30212,), dtype=int64, numpy=array([0, 0, 3, ..., 4, 4, 1])>"
            ]
          },
          "metadata": {},
          "execution_count": 130
        }
      ]
    },
    {
      "cell_type": "code",
      "source": [
        "#evaluating the model on the complete validation dataset\n",
        "model_6_results = calculate_results(val_labels_encoded, model_6_preds)\n",
        "model_6_results"
      ],
      "metadata": {
        "colab": {
          "base_uri": "https://localhost:8080/"
        },
        "id": "piadwBw28ygX",
        "outputId": "9bef4874-6ee6-4a90-e2a9-297bea032438"
      },
      "id": "piadwBw28ygX",
      "execution_count": 131,
      "outputs": [
        {
          "output_type": "execute_result",
          "data": {
            "text/plain": [
              "{'accuracy': 85.70766582814777,\n",
              " 'precision': 0.8585297408240312,\n",
              " 'recall': 0.8570766582814776,\n",
              " 'f1': 0.8543142773305533}"
            ]
          },
          "metadata": {},
          "execution_count": 131
        }
      ]
    },
    {
      "cell_type": "markdown",
      "id": "bec7a905-6fb6-4a26-bd74-139be75af682",
      "metadata": {
        "id": "bec7a905-6fb6-4a26-bd74-139be75af682"
      },
      "source": [
        "## Compare our model results"
      ]
    },
    {
      "cell_type": "code",
      "execution_count": 132,
      "id": "d86ff2d0-2e18-429d-aeea-ef6b986f8760",
      "metadata": {
        "colab": {
          "base_uri": "https://localhost:8080/",
          "height": 269
        },
        "id": "d86ff2d0-2e18-429d-aeea-ef6b986f8760",
        "outputId": "68976cd1-2c70-430f-843d-80daacf3935e"
      },
      "outputs": [
        {
          "output_type": "execute_result",
          "data": {
            "text/plain": [
              "                                             accuracy  precision    recall  \\\n",
              "model_0_baseline                            72.183238   0.718647  0.721832   \n",
              "model_1_custom_token_embedding              78.793195   0.784723  0.787932   \n",
              "model_2_pretrained_token_embedding          71.316033   0.713632  0.713160   \n",
              "model_3_custom_char_embedding               64.719317   0.640079  0.647193   \n",
              "model_4_hybrid_char_token_embedding         73.404607   0.735932  0.734046   \n",
              "model_5_pos_char_token_embedding            83.562823   0.834899  0.835628   \n",
              "model_6_pos_char_token_embedding_full_data  85.707666   0.858530  0.857077   \n",
              "\n",
              "                                                  f1  \n",
              "model_0_baseline                            0.698925  \n",
              "model_1_custom_token_embedding              0.785398  \n",
              "model_2_pretrained_token_embedding          0.710387  \n",
              "model_3_custom_char_embedding               0.635224  \n",
              "model_4_hybrid_char_token_embedding         0.731544  \n",
              "model_5_pos_char_token_embedding            0.834814  \n",
              "model_6_pos_char_token_embedding_full_data  0.854314  "
            ],
            "text/html": [
              "\n",
              "  <div id=\"df-68867646-f6c4-407f-b93c-93d423c96712\" class=\"colab-df-container\">\n",
              "    <div>\n",
              "<style scoped>\n",
              "    .dataframe tbody tr th:only-of-type {\n",
              "        vertical-align: middle;\n",
              "    }\n",
              "\n",
              "    .dataframe tbody tr th {\n",
              "        vertical-align: top;\n",
              "    }\n",
              "\n",
              "    .dataframe thead th {\n",
              "        text-align: right;\n",
              "    }\n",
              "</style>\n",
              "<table border=\"1\" class=\"dataframe\">\n",
              "  <thead>\n",
              "    <tr style=\"text-align: right;\">\n",
              "      <th></th>\n",
              "      <th>accuracy</th>\n",
              "      <th>precision</th>\n",
              "      <th>recall</th>\n",
              "      <th>f1</th>\n",
              "    </tr>\n",
              "  </thead>\n",
              "  <tbody>\n",
              "    <tr>\n",
              "      <th>model_0_baseline</th>\n",
              "      <td>72.183238</td>\n",
              "      <td>0.718647</td>\n",
              "      <td>0.721832</td>\n",
              "      <td>0.698925</td>\n",
              "    </tr>\n",
              "    <tr>\n",
              "      <th>model_1_custom_token_embedding</th>\n",
              "      <td>78.793195</td>\n",
              "      <td>0.784723</td>\n",
              "      <td>0.787932</td>\n",
              "      <td>0.785398</td>\n",
              "    </tr>\n",
              "    <tr>\n",
              "      <th>model_2_pretrained_token_embedding</th>\n",
              "      <td>71.316033</td>\n",
              "      <td>0.713632</td>\n",
              "      <td>0.713160</td>\n",
              "      <td>0.710387</td>\n",
              "    </tr>\n",
              "    <tr>\n",
              "      <th>model_3_custom_char_embedding</th>\n",
              "      <td>64.719317</td>\n",
              "      <td>0.640079</td>\n",
              "      <td>0.647193</td>\n",
              "      <td>0.635224</td>\n",
              "    </tr>\n",
              "    <tr>\n",
              "      <th>model_4_hybrid_char_token_embedding</th>\n",
              "      <td>73.404607</td>\n",
              "      <td>0.735932</td>\n",
              "      <td>0.734046</td>\n",
              "      <td>0.731544</td>\n",
              "    </tr>\n",
              "    <tr>\n",
              "      <th>model_5_pos_char_token_embedding</th>\n",
              "      <td>83.562823</td>\n",
              "      <td>0.834899</td>\n",
              "      <td>0.835628</td>\n",
              "      <td>0.834814</td>\n",
              "    </tr>\n",
              "    <tr>\n",
              "      <th>model_6_pos_char_token_embedding_full_data</th>\n",
              "      <td>85.707666</td>\n",
              "      <td>0.858530</td>\n",
              "      <td>0.857077</td>\n",
              "      <td>0.854314</td>\n",
              "    </tr>\n",
              "  </tbody>\n",
              "</table>\n",
              "</div>\n",
              "    <div class=\"colab-df-buttons\">\n",
              "\n",
              "  <div class=\"colab-df-container\">\n",
              "    <button class=\"colab-df-convert\" onclick=\"convertToInteractive('df-68867646-f6c4-407f-b93c-93d423c96712')\"\n",
              "            title=\"Convert this dataframe to an interactive table.\"\n",
              "            style=\"display:none;\">\n",
              "\n",
              "  <svg xmlns=\"http://www.w3.org/2000/svg\" height=\"24px\" viewBox=\"0 -960 960 960\">\n",
              "    <path d=\"M120-120v-720h720v720H120Zm60-500h600v-160H180v160Zm220 220h160v-160H400v160Zm0 220h160v-160H400v160ZM180-400h160v-160H180v160Zm440 0h160v-160H620v160ZM180-180h160v-160H180v160Zm440 0h160v-160H620v160Z\"/>\n",
              "  </svg>\n",
              "    </button>\n",
              "\n",
              "  <style>\n",
              "    .colab-df-container {\n",
              "      display:flex;\n",
              "      gap: 12px;\n",
              "    }\n",
              "\n",
              "    .colab-df-convert {\n",
              "      background-color: #E8F0FE;\n",
              "      border: none;\n",
              "      border-radius: 50%;\n",
              "      cursor: pointer;\n",
              "      display: none;\n",
              "      fill: #1967D2;\n",
              "      height: 32px;\n",
              "      padding: 0 0 0 0;\n",
              "      width: 32px;\n",
              "    }\n",
              "\n",
              "    .colab-df-convert:hover {\n",
              "      background-color: #E2EBFA;\n",
              "      box-shadow: 0px 1px 2px rgba(60, 64, 67, 0.3), 0px 1px 3px 1px rgba(60, 64, 67, 0.15);\n",
              "      fill: #174EA6;\n",
              "    }\n",
              "\n",
              "    .colab-df-buttons div {\n",
              "      margin-bottom: 4px;\n",
              "    }\n",
              "\n",
              "    [theme=dark] .colab-df-convert {\n",
              "      background-color: #3B4455;\n",
              "      fill: #D2E3FC;\n",
              "    }\n",
              "\n",
              "    [theme=dark] .colab-df-convert:hover {\n",
              "      background-color: #434B5C;\n",
              "      box-shadow: 0px 1px 3px 1px rgba(0, 0, 0, 0.15);\n",
              "      filter: drop-shadow(0px 1px 2px rgba(0, 0, 0, 0.3));\n",
              "      fill: #FFFFFF;\n",
              "    }\n",
              "  </style>\n",
              "\n",
              "    <script>\n",
              "      const buttonEl =\n",
              "        document.querySelector('#df-68867646-f6c4-407f-b93c-93d423c96712 button.colab-df-convert');\n",
              "      buttonEl.style.display =\n",
              "        google.colab.kernel.accessAllowed ? 'block' : 'none';\n",
              "\n",
              "      async function convertToInteractive(key) {\n",
              "        const element = document.querySelector('#df-68867646-f6c4-407f-b93c-93d423c96712');\n",
              "        const dataTable =\n",
              "          await google.colab.kernel.invokeFunction('convertToInteractive',\n",
              "                                                    [key], {});\n",
              "        if (!dataTable) return;\n",
              "\n",
              "        const docLinkHtml = 'Like what you see? Visit the ' +\n",
              "          '<a target=\"_blank\" href=https://colab.research.google.com/notebooks/data_table.ipynb>data table notebook</a>'\n",
              "          + ' to learn more about interactive tables.';\n",
              "        element.innerHTML = '';\n",
              "        dataTable['output_type'] = 'display_data';\n",
              "        await google.colab.output.renderOutput(dataTable, element);\n",
              "        const docLink = document.createElement('div');\n",
              "        docLink.innerHTML = docLinkHtml;\n",
              "        element.appendChild(docLink);\n",
              "      }\n",
              "    </script>\n",
              "  </div>\n",
              "\n",
              "\n",
              "<div id=\"df-6f3097ff-2f1c-40c0-9094-d80fe250448d\">\n",
              "  <button class=\"colab-df-quickchart\" onclick=\"quickchart('df-6f3097ff-2f1c-40c0-9094-d80fe250448d')\"\n",
              "            title=\"Suggest charts\"\n",
              "            style=\"display:none;\">\n",
              "\n",
              "<svg xmlns=\"http://www.w3.org/2000/svg\" height=\"24px\"viewBox=\"0 0 24 24\"\n",
              "     width=\"24px\">\n",
              "    <g>\n",
              "        <path d=\"M19 3H5c-1.1 0-2 .9-2 2v14c0 1.1.9 2 2 2h14c1.1 0 2-.9 2-2V5c0-1.1-.9-2-2-2zM9 17H7v-7h2v7zm4 0h-2V7h2v10zm4 0h-2v-4h2v4z\"/>\n",
              "    </g>\n",
              "</svg>\n",
              "  </button>\n",
              "\n",
              "<style>\n",
              "  .colab-df-quickchart {\n",
              "      --bg-color: #E8F0FE;\n",
              "      --fill-color: #1967D2;\n",
              "      --hover-bg-color: #E2EBFA;\n",
              "      --hover-fill-color: #174EA6;\n",
              "      --disabled-fill-color: #AAA;\n",
              "      --disabled-bg-color: #DDD;\n",
              "  }\n",
              "\n",
              "  [theme=dark] .colab-df-quickchart {\n",
              "      --bg-color: #3B4455;\n",
              "      --fill-color: #D2E3FC;\n",
              "      --hover-bg-color: #434B5C;\n",
              "      --hover-fill-color: #FFFFFF;\n",
              "      --disabled-bg-color: #3B4455;\n",
              "      --disabled-fill-color: #666;\n",
              "  }\n",
              "\n",
              "  .colab-df-quickchart {\n",
              "    background-color: var(--bg-color);\n",
              "    border: none;\n",
              "    border-radius: 50%;\n",
              "    cursor: pointer;\n",
              "    display: none;\n",
              "    fill: var(--fill-color);\n",
              "    height: 32px;\n",
              "    padding: 0;\n",
              "    width: 32px;\n",
              "  }\n",
              "\n",
              "  .colab-df-quickchart:hover {\n",
              "    background-color: var(--hover-bg-color);\n",
              "    box-shadow: 0 1px 2px rgba(60, 64, 67, 0.3), 0 1px 3px 1px rgba(60, 64, 67, 0.15);\n",
              "    fill: var(--button-hover-fill-color);\n",
              "  }\n",
              "\n",
              "  .colab-df-quickchart-complete:disabled,\n",
              "  .colab-df-quickchart-complete:disabled:hover {\n",
              "    background-color: var(--disabled-bg-color);\n",
              "    fill: var(--disabled-fill-color);\n",
              "    box-shadow: none;\n",
              "  }\n",
              "\n",
              "  .colab-df-spinner {\n",
              "    border: 2px solid var(--fill-color);\n",
              "    border-color: transparent;\n",
              "    border-bottom-color: var(--fill-color);\n",
              "    animation:\n",
              "      spin 1s steps(1) infinite;\n",
              "  }\n",
              "\n",
              "  @keyframes spin {\n",
              "    0% {\n",
              "      border-color: transparent;\n",
              "      border-bottom-color: var(--fill-color);\n",
              "      border-left-color: var(--fill-color);\n",
              "    }\n",
              "    20% {\n",
              "      border-color: transparent;\n",
              "      border-left-color: var(--fill-color);\n",
              "      border-top-color: var(--fill-color);\n",
              "    }\n",
              "    30% {\n",
              "      border-color: transparent;\n",
              "      border-left-color: var(--fill-color);\n",
              "      border-top-color: var(--fill-color);\n",
              "      border-right-color: var(--fill-color);\n",
              "    }\n",
              "    40% {\n",
              "      border-color: transparent;\n",
              "      border-right-color: var(--fill-color);\n",
              "      border-top-color: var(--fill-color);\n",
              "    }\n",
              "    60% {\n",
              "      border-color: transparent;\n",
              "      border-right-color: var(--fill-color);\n",
              "    }\n",
              "    80% {\n",
              "      border-color: transparent;\n",
              "      border-right-color: var(--fill-color);\n",
              "      border-bottom-color: var(--fill-color);\n",
              "    }\n",
              "    90% {\n",
              "      border-color: transparent;\n",
              "      border-bottom-color: var(--fill-color);\n",
              "    }\n",
              "  }\n",
              "</style>\n",
              "\n",
              "  <script>\n",
              "    async function quickchart(key) {\n",
              "      const quickchartButtonEl =\n",
              "        document.querySelector('#' + key + ' button');\n",
              "      quickchartButtonEl.disabled = true;  // To prevent multiple clicks.\n",
              "      quickchartButtonEl.classList.add('colab-df-spinner');\n",
              "      try {\n",
              "        const charts = await google.colab.kernel.invokeFunction(\n",
              "            'suggestCharts', [key], {});\n",
              "      } catch (error) {\n",
              "        console.error('Error during call to suggestCharts:', error);\n",
              "      }\n",
              "      quickchartButtonEl.classList.remove('colab-df-spinner');\n",
              "      quickchartButtonEl.classList.add('colab-df-quickchart-complete');\n",
              "    }\n",
              "    (() => {\n",
              "      let quickchartButtonEl =\n",
              "        document.querySelector('#df-6f3097ff-2f1c-40c0-9094-d80fe250448d button');\n",
              "      quickchartButtonEl.style.display =\n",
              "        google.colab.kernel.accessAllowed ? 'block' : 'none';\n",
              "    })();\n",
              "  </script>\n",
              "</div>\n",
              "\n",
              "  <div id=\"id_8de14e68-36e2-47db-b9f9-bd2ce6e6ce2b\">\n",
              "    <style>\n",
              "      .colab-df-generate {\n",
              "        background-color: #E8F0FE;\n",
              "        border: none;\n",
              "        border-radius: 50%;\n",
              "        cursor: pointer;\n",
              "        display: none;\n",
              "        fill: #1967D2;\n",
              "        height: 32px;\n",
              "        padding: 0 0 0 0;\n",
              "        width: 32px;\n",
              "      }\n",
              "\n",
              "      .colab-df-generate:hover {\n",
              "        background-color: #E2EBFA;\n",
              "        box-shadow: 0px 1px 2px rgba(60, 64, 67, 0.3), 0px 1px 3px 1px rgba(60, 64, 67, 0.15);\n",
              "        fill: #174EA6;\n",
              "      }\n",
              "\n",
              "      [theme=dark] .colab-df-generate {\n",
              "        background-color: #3B4455;\n",
              "        fill: #D2E3FC;\n",
              "      }\n",
              "\n",
              "      [theme=dark] .colab-df-generate:hover {\n",
              "        background-color: #434B5C;\n",
              "        box-shadow: 0px 1px 3px 1px rgba(0, 0, 0, 0.15);\n",
              "        filter: drop-shadow(0px 1px 2px rgba(0, 0, 0, 0.3));\n",
              "        fill: #FFFFFF;\n",
              "      }\n",
              "    </style>\n",
              "    <button class=\"colab-df-generate\" onclick=\"generateWithVariable('all_model_results')\"\n",
              "            title=\"Generate code using this dataframe.\"\n",
              "            style=\"display:none;\">\n",
              "\n",
              "  <svg xmlns=\"http://www.w3.org/2000/svg\" height=\"24px\"viewBox=\"0 0 24 24\"\n",
              "       width=\"24px\">\n",
              "    <path d=\"M7,19H8.4L18.45,9,17,7.55,7,17.6ZM5,21V16.75L18.45,3.32a2,2,0,0,1,2.83,0l1.4,1.43a1.91,1.91,0,0,1,.58,1.4,1.91,1.91,0,0,1-.58,1.4L9.25,21ZM18.45,9,17,7.55Zm-12,3A5.31,5.31,0,0,0,4.9,8.1,5.31,5.31,0,0,0,1,6.5,5.31,5.31,0,0,0,4.9,4.9,5.31,5.31,0,0,0,6.5,1,5.31,5.31,0,0,0,8.1,4.9,5.31,5.31,0,0,0,12,6.5,5.46,5.46,0,0,0,6.5,12Z\"/>\n",
              "  </svg>\n",
              "    </button>\n",
              "    <script>\n",
              "      (() => {\n",
              "      const buttonEl =\n",
              "        document.querySelector('#id_8de14e68-36e2-47db-b9f9-bd2ce6e6ce2b button.colab-df-generate');\n",
              "      buttonEl.style.display =\n",
              "        google.colab.kernel.accessAllowed ? 'block' : 'none';\n",
              "\n",
              "      buttonEl.onclick = () => {\n",
              "        google.colab.notebook.generateWithVariable('all_model_results');\n",
              "      }\n",
              "      })();\n",
              "    </script>\n",
              "  </div>\n",
              "\n",
              "    </div>\n",
              "  </div>\n"
            ],
            "application/vnd.google.colaboratory.intrinsic+json": {
              "type": "dataframe",
              "variable_name": "all_model_results",
              "summary": "{\n  \"name\": \"all_model_results\",\n  \"rows\": 7,\n  \"fields\": [\n    {\n      \"column\": \"accuracy\",\n      \"properties\": {\n        \"dtype\": \"number\",\n        \"std\": 7.404612603279193,\n        \"min\": 64.71931682775056,\n        \"max\": 85.70766582814777,\n        \"num_unique_values\": 7,\n        \"samples\": [\n          72.1832384482987,\n          78.79319475705017,\n          83.56282271944923\n        ],\n        \"semantic_type\": \"\",\n        \"description\": \"\"\n      }\n    },\n    {\n      \"column\": \"precision\",\n      \"properties\": {\n        \"dtype\": \"number\",\n        \"std\": 0.0759260773062754,\n        \"min\": 0.64007934129627,\n        \"max\": 0.8585297408240312,\n        \"num_unique_values\": 7,\n        \"samples\": [\n          0.7186466952323352,\n          0.7847230716512823,\n          0.8348989781693796\n        ],\n        \"semantic_type\": \"\",\n        \"description\": \"\"\n      }\n    },\n    {\n      \"column\": \"recall\",\n      \"properties\": {\n        \"dtype\": \"number\",\n        \"std\": 0.0740461260327919,\n        \"min\": 0.6471931682775056,\n        \"max\": 0.8570766582814776,\n        \"num_unique_values\": 7,\n        \"samples\": [\n          0.7218323844829869,\n          0.7879319475705018,\n          0.8356282271944923\n        ],\n        \"semantic_type\": \"\",\n        \"description\": \"\"\n      }\n    },\n    {\n      \"column\": \"f1\",\n      \"properties\": {\n        \"dtype\": \"number\",\n        \"std\": 0.07854909515271241,\n        \"min\": 0.6352240866412838,\n        \"max\": 0.8543142773305533,\n        \"num_unique_values\": 7,\n        \"samples\": [\n          0.6989250353450294,\n          0.7853976704821627,\n          0.8348137302442978\n        ],\n        \"semantic_type\": \"\",\n        \"description\": \"\"\n      }\n    }\n  ]\n}"
            }
          },
          "metadata": {},
          "execution_count": 132
        }
      ],
      "source": [
        "#combine model resuts into a dataframe\n",
        "all_model_results = pd.DataFrame({\"model_0_baseline\":base_line_results,\n",
        "                                  \"model_1_custom_token_embedding\":model_1_results,\n",
        "                                  \"model_2_pretrained_token_embedding\":model_2_results,\n",
        "                                  \"model_3_custom_char_embedding\":model_3_results,\n",
        "                                  \"model_4_hybrid_char_token_embedding\":model_4_results,\n",
        "                                  \"model_5_pos_char_token_embedding\":model_5_results,\n",
        "                                  \"model_6_pos_char_token_embedding_full_data\":model_6_results}).T\n",
        "\n",
        "all_model_results"
      ]
    },
    {
      "cell_type": "code",
      "source": [
        "#cal"
      ],
      "metadata": {
        "id": "D2JPTm7Ecrt-"
      },
      "id": "D2JPTm7Ecrt-",
      "execution_count": 133,
      "outputs": []
    },
    {
      "cell_type": "code",
      "execution_count": 134,
      "id": "890c1497-0b2d-4f9e-9cb0-9cece1040f4e",
      "metadata": {
        "id": "890c1497-0b2d-4f9e-9cb0-9cece1040f4e"
      },
      "outputs": [],
      "source": [
        "# Reduce the accuracy to same scale as other metrics\n",
        "all_model_results[\"accuracy\"] = all_model_results.accuracy / 100"
      ]
    },
    {
      "cell_type": "code",
      "source": [
        "# Plot and compare all model results\n",
        "all_model_results.plot(kind=\"bar\", figsize=(10,7)).legend(bbox_to_anchor=(1.0,1.0))"
      ],
      "metadata": {
        "colab": {
          "base_uri": "https://localhost:8080/",
          "height": 930
        },
        "id": "hkhxIbFkXkgZ",
        "outputId": "55838b0a-cfe1-4888-cfe9-e73bd48d2aab"
      },
      "id": "hkhxIbFkXkgZ",
      "execution_count": 135,
      "outputs": [
        {
          "output_type": "execute_result",
          "data": {
            "text/plain": [
              "<matplotlib.legend.Legend at 0x7f1ef0448190>"
            ]
          },
          "metadata": {},
          "execution_count": 135
        },
        {
          "output_type": "display_data",
          "data": {
            "text/plain": [
              "<Figure size 1000x700 with 1 Axes>"
            ],
            "image/png": "[encoded data removed]"
          },
          "metadata": {}
        }
      ]
    },
    {
      "cell_type": "code",
      "source": [
        "# Sort the model's results to score the models by f1-scores\n",
        "all_model_results.sort_values(\"f1\", ascending=True)[\"f1\"].plot(kind=\"bar\", figsize=(10,7))"
      ],
      "metadata": {
        "colab": {
          "base_uri": "https://localhost:8080/",
          "height": 930
        },
        "id": "vYYneYrMXo5I",
        "outputId": "0cd96dc1-b00d-4165-f71e-af0cc7a438de"
      },
      "id": "vYYneYrMXo5I",
      "execution_count": 136,
      "outputs": [
        {
          "output_type": "execute_result",
          "data": {
            "text/plain": [
              "<Axes: >"
            ]
          },
          "metadata": {},
          "execution_count": 136
        },
        {
          "output_type": "display_data",
          "data": {
            "text/plain": [
              "<Figure size 1000x700 with 1 Axes>"
            ],
            "image/png": "[encoded data removed]"
          },
          "metadata": {}
        }
      ]
    },
    {
      "cell_type": "code",
      "source": [
        "#evaluating our model on full test data.\n",
        "test_char_token_pos_data = tf.data.Dataset.from_tensor_slices((\n",
        "    test_line_numbers_one_hot,\n",
        "    test_total_lines_one_hot,\n",
        "    test_sentences,\n",
        "    test_chars\n",
        "))\n",
        "\n",
        "test_char_token_pos_labels = tf.data.Dataset.from_tensor_slices(test_labels_one_hot)\n",
        "\n",
        "test_char_token_pos_dataset = tf.data.Dataset.zip((test_char_token_pos_data, test_char_token_pos_labels))\n",
        "test_char_token_pos_dataset = test_char_token_pos_dataset.batch(32).prefetch(tf.data.AUTOTUNE)"
      ],
      "metadata": {
        "id": "t-4I3Y20B30r"
      },
      "id": "t-4I3Y20B30r",
      "execution_count": 137,
      "outputs": []
    },
    {
      "cell_type": "code",
      "source": [
        "test_results = model_6.predict(test_char_token_pos_dataset)\n",
        "test_preds = tf.argmax(test_results, axis=1)\n",
        "model_6_result = calculate_results(test_labels_encoded, test_preds)\n",
        "model_6_result"
      ],
      "metadata": {
        "colab": {
          "base_uri": "https://localhost:8080/"
        },
        "id": "dCuxkuLzCPtl",
        "outputId": "dda1d688-4f5e-4305-d0e9-c68108d32540"
      },
      "id": "dCuxkuLzCPtl",
      "execution_count": 138,
      "outputs": [
        {
          "output_type": "stream",
          "name": "stdout",
          "text": [
            "942/942 [==============================] - 20s 22ms/step\n"
          ]
        },
        {
          "output_type": "execute_result",
          "data": {
            "text/plain": [
              "{'accuracy': 85.22979923676787,\n",
              " 'precision': 0.8527605216069509,\n",
              " 'recall': 0.8522979923676788,\n",
              " 'f1': 0.8493569399373521}"
            ]
          },
          "metadata": {},
          "execution_count": 138
        }
      ]
    },
    {
      "cell_type": "code",
      "source": [
        "#plotting the loss curves of model_6\n",
        "from helper_functions import plot_loss_curves\n",
        "plot_loss_curves(history_model_6)"
      ],
      "metadata": {
        "colab": {
          "base_uri": "https://localhost:8080/",
          "height": 927
        },
        "id": "H5ty2VldEIxd",
        "outputId": "9b56e904-b6c3-4988-c179-b90c532cd453"
      },
      "id": "H5ty2VldEIxd",
      "execution_count": 142,
      "outputs": [
        {
          "output_type": "display_data",
          "data": {
            "text/plain": [
              "<Figure size 640x480 with 1 Axes>"
            ],
            "image/png": "[encoded data removed]"
          },
          "metadata": {}
        },
        {
          "output_type": "display_data",
          "data": {
            "text/plain": [
              "<Figure size 640x480 with 1 Axes>"
            ],
            "image/png": "[encoded data removed]"
          },
          "metadata": {}
        }
      ]
    },
    {
      "cell_type": "markdown",
      "source": [
        "## Saving the best performing model\n",
        "\n",
        "We can save our best performing model which is `model_6`"
      ],
      "metadata": {
        "id": "zOMIaRfnBqt6"
      },
      "id": "zOMIaRfnBqt6"
    },
    {
      "cell_type": "code",
      "source": [
        "!mkdir \"skimlit_full_model\""
      ],
      "metadata": {
        "id": "AbeaYsUQDqox"
      },
      "id": "AbeaYsUQDqox",
      "execution_count": 139,
      "outputs": []
    },
    {
      "cell_type": "code",
      "source": [
        "model_6.save(\"skimlit_full_model/loaded_model_format\")"
      ],
      "metadata": {
        "id": "L0GgiulCB3K2"
      },
      "id": "L0GgiulCB3K2",
      "execution_count": 141,
      "outputs": []
    },
    {
      "cell_type": "code",
      "source": [
        "#loadin the model and evaluating on the val_data\n",
        "loaded_model = tf.keras.models.load_model(\"skimlit_full_model/loaded_model_format\")\n",
        "loaded_model.evaluate(val_char_token_pos_dataset)"
      ],
      "metadata": {
        "colab": {
          "base_uri": "https://localhost:8080/"
        },
        "id": "-V5zyXUlD4SF",
        "outputId": "0be00c4d-f646-427e-f5cd-dde5bfcb61b4"
      },
      "id": "-V5zyXUlD4SF",
      "execution_count": 143,
      "outputs": [
        {
          "output_type": "stream",
          "name": "stdout",
          "text": [
            "945/945 [==============================] - 26s 25ms/step - loss: 0.8928 - accuracy: 0.8571\n"
          ]
        },
        {
          "output_type": "execute_result",
          "data": {
            "text/plain": [
              "[0.8927565813064575, 0.8570766448974609]"
            ]
          },
          "metadata": {},
          "execution_count": 143
        }
      ]
    },
    {
      "cell_type": "code",
      "source": [
        "#saving model in .keras format\n",
        "model_6.save(\"skimlit_full_model/skimlit_full_model.keras\")"
      ],
      "metadata": {
        "id": "YIz9EgJ4EYqk"
      },
      "id": "YIz9EgJ4EYqk",
      "execution_count": 144,
      "outputs": []
    },
    {
      "cell_type": "code",
      "source": [],
      "metadata": {
        "id": "9OBdWU_EE7cM"
      },
      "id": "9OBdWU_EE7cM",
      "execution_count": null,
      "outputs": []
    },
    {
      "cell_type": "code",
      "source": [
        "from google.colab import drive\n",
        "drive.mount('/content/drive')"
      ],
      "metadata": {
        "colab": {
          "base_uri": "https://localhost:8080/"
        },
        "id": "x-AcCFlAIn88",
        "outputId": "a08a3982-2150-40c0-f113-b626b038d3b7"
      },
      "id": "x-AcCFlAIn88",
      "execution_count": 149,
      "outputs": [
        {
          "output_type": "stream",
          "name": "stdout",
          "text": [
            "Mounted at /content/drive\n"
          ]
        }
      ]
    },
    {
      "cell_type": "code",
      "source": [],
      "metadata": {
        "id": "e5pEi62PIpWb"
      },
      "id": "e5pEi62PIpWb",
      "execution_count": null,
      "outputs": []
    }
  ],
  "metadata": {
    "kernelspec": {
      "display_name": "Python 3",
      "name": "python3"
    },
    "language_info": {
      "codemirror_mode": {
        "name": "ipython",
        "version": 3
      },
      "file_extension": ".py",
      "mimetype": "text/x-python",
      "name": "python",
      "nbconvert_exporter": "python",
      "pygments_lexer": "ipython3",
      "version": "3.9.19"
    },
    "colab": {
      "provenance": [],
      "gpuType": "T4"
    },
    "accelerator": "GPU"
  },
  "nbformat": 4,
  "nbformat_minor": 5
}