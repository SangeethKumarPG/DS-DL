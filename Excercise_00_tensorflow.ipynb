{
  "nbformat": 4,
  "nbformat_minor": 0,
  "metadata": {
    "colab": {
      "provenance": []
    },
    "kernelspec": {
      "name": "python3",
      "display_name": "Python 3"
    },
    "language_info": {
      "name": "python"
    }
  },
  "cells": [
    {
      "cell_type": "markdown",
      "source": [
        "#Exercise\n",
        "🛠 00 TensorFlow Fundamentals Exercises\n",
        "\n",
        "1. Create a vector, scalar, matrix and tensor with values of your choosing using tf.constant().\n",
        "2. Find the shape, rank and size of the tensors you created in\n",
        "3. Create two tensors containing random values between 0 and 1 with shape [5, 300].\n",
        "4. Multiply the two tensors you created in 3 using matrix multiplication.\n",
        "5. Multiply the two tensors you created in 3 using dot product.\n",
        "6. Create a tensor with random values between 0 and 1 with shape [224, 224, 3].\n",
        "7. Find the min and max values of the tensor you created in 6.\n",
        "8. Created a tensor with random values of shape [1, 224, 224, 3] then squeeze it to change the shape to [224, 224, 3].\n",
        "9. Create a tensor with shape [10] using your own choice of values, then find the index which has the maximum value.\n",
        "10. One-hot encode the tensor you created in 9."
      ],
      "metadata": {
        "id": "TDKkA9KXL9LB"
      }
    },
    {
      "cell_type": "code",
      "source": [
        "import numpy as np\n",
        "import tensorflow as tf\n",
        "# vector\n",
        "vector_1 = tf.constant(np.arange(0,4))\n",
        "vector_1"
      ],
      "metadata": {
        "colab": {
          "base_uri": "https://localhost:8080/"
        },
        "id": "Iie-DMYTMWHV",
        "outputId": "3e32cbbe-8f0a-4bb0-e63e-a4d161303f3d"
      },
      "execution_count": null,
      "outputs": [
        {
          "output_type": "execute_result",
          "data": {
            "text/plain": [
              "<tf.Tensor: shape=(4,), dtype=int64, numpy=array([0, 1, 2, 3])>"
            ]
          },
          "metadata": {},
          "execution_count": 1
        }
      ]
    },
    {
      "cell_type": "code",
      "source": [
        "#scalar\n",
        "scalar = tf.constant([1])\n",
        "scalar"
      ],
      "metadata": {
        "colab": {
          "base_uri": "https://localhost:8080/"
        },
        "id": "__S9tCNWNA20",
        "outputId": "d821e95c-035d-42a8-d566-410131be6d06"
      },
      "execution_count": null,
      "outputs": [
        {
          "output_type": "execute_result",
          "data": {
            "text/plain": [
              "<tf.Tensor: shape=(1,), dtype=int32, numpy=array([1], dtype=int32)>"
            ]
          },
          "metadata": {},
          "execution_count": 2
        }
      ]
    },
    {
      "cell_type": "code",
      "source": [
        "#matrix\n",
        "matrix = tf.constant(np.arange(0,4), shape=(2,2))\n",
        "matrix"
      ],
      "metadata": {
        "colab": {
          "base_uri": "https://localhost:8080/"
        },
        "id": "zY9oTl0CNPgO",
        "outputId": "832bf1be-27d6-4809-9812-68cde3eafc21"
      },
      "execution_count": null,
      "outputs": [
        {
          "output_type": "execute_result",
          "data": {
            "text/plain": [
              "<tf.Tensor: shape=(2, 2), dtype=int64, numpy=\n",
              "array([[0, 1],\n",
              "       [2, 3]])>"
            ]
          },
          "metadata": {},
          "execution_count": 3
        }
      ]
    },
    {
      "cell_type": "code",
      "source": [
        "#tensor\n",
        "tensor = tf.constant(np.arange(1,28), shape=(3,3,3))\n",
        "tensor"
      ],
      "metadata": {
        "colab": {
          "base_uri": "https://localhost:8080/"
        },
        "id": "C_O2YJKdNtiJ",
        "outputId": "6c7bfa49-62ed-4a44-9b63-6b907c531a07"
      },
      "execution_count": null,
      "outputs": [
        {
          "output_type": "execute_result",
          "data": {
            "text/plain": [
              "<tf.Tensor: shape=(3, 3, 3), dtype=int64, numpy=\n",
              "array([[[ 1,  2,  3],\n",
              "        [ 4,  5,  6],\n",
              "        [ 7,  8,  9]],\n",
              "\n",
              "       [[10, 11, 12],\n",
              "        [13, 14, 15],\n",
              "        [16, 17, 18]],\n",
              "\n",
              "       [[19, 20, 21],\n",
              "        [22, 23, 24],\n",
              "        [25, 26, 27]]])>"
            ]
          },
          "metadata": {},
          "execution_count": 4
        }
      ]
    },
    {
      "cell_type": "code",
      "source": [
        "# shapes of tensors\n",
        "def find_shape_rank_size(copy_tensor):\n",
        "  print(f\"{copy_tensor}\")\n",
        "  print(f\"Shape of tensor: {copy_tensor.shape} \")\n",
        "  print(f\"Dimensions : {copy_tensor.ndim}\")\n",
        "  print(f\"Size : {tf.size(copy_tensor)}\")\n",
        "  print(\"\\n\")\n",
        "\n",
        "\n",
        "find_shape_rank_size(vector_1)\n",
        "find_shape_rank_size(scalar)\n",
        "find_shape_rank_size(matrix)\n",
        "find_shape_rank_size(tensor)"
      ],
      "metadata": {
        "colab": {
          "base_uri": "https://localhost:8080/"
        },
        "id": "UcUmGdiEN93x",
        "outputId": "b009bc05-faea-47de-db16-d36b595e41d0"
      },
      "execution_count": null,
      "outputs": [
        {
          "output_type": "stream",
          "name": "stdout",
          "text": [
            "[0 1 2 3]\n",
            "Shape of tensor: (4,) \n",
            "Dimensions : 1\n",
            "Size : 4\n",
            "\n",
            "\n",
            "[1]\n",
            "Shape of tensor: (1,) \n",
            "Dimensions : 1\n",
            "Size : 1\n",
            "\n",
            "\n",
            "[[0 1]\n",
            " [2 3]]\n",
            "Shape of tensor: (2, 2) \n",
            "Dimensions : 2\n",
            "Size : 4\n",
            "\n",
            "\n",
            "[[[ 1  2  3]\n",
            "  [ 4  5  6]\n",
            "  [ 7  8  9]]\n",
            "\n",
            " [[10 11 12]\n",
            "  [13 14 15]\n",
            "  [16 17 18]]\n",
            "\n",
            " [[19 20 21]\n",
            "  [22 23 24]\n",
            "  [25 26 27]]]\n",
            "Shape of tensor: (3, 3, 3) \n",
            "Dimensions : 3\n",
            "Size : 27\n",
            "\n",
            "\n"
          ]
        }
      ]
    },
    {
      "cell_type": "code",
      "source": [
        "#random tensors\n",
        "tf.random.set_seed(42)\n",
        "tensor_A = tf.random.uniform(minval=0, maxval=1, shape=(5,300))\n",
        "\n",
        "tensor_B = tf.random.uniform(minval=0, maxval=1, shape=(5,300))\n",
        "\n",
        "find_shape_rank_size(tensor_A)\n",
        "print(\"\\n\")\n",
        "find_shape_rank_size(tensor_B)"
      ],
      "metadata": {
        "colab": {
          "base_uri": "https://localhost:8080/"
        },
        "id": "RxfEqpvbO5X_",
        "outputId": "b76bdd61-fbef-4d50-e21e-48da8f14fb23"
      },
      "execution_count": null,
      "outputs": [
        {
          "output_type": "stream",
          "name": "stdout",
          "text": [
            "[[0.6645621  0.44100678 0.3528825  ... 0.31410468 0.7593535  0.03699052]\n",
            " [0.532024   0.29129946 0.10571766 ... 0.54052293 0.31425726 0.2200619 ]\n",
            " [0.08404207 0.03614604 0.97732127 ... 0.21516645 0.9786098  0.00726748]\n",
            " [0.7396945  0.6653172  0.0787828  ... 0.7117733  0.07013571 0.9409125 ]\n",
            " [0.15861344 0.12024033 0.27218235 ... 0.8824879  0.1432488  0.44135118]]\n",
            "Shape of tensor: (5, 300) \n",
            "Dimensions : 2\n",
            "Size : 1500\n",
            "\n",
            "\n",
            "\n",
            "\n",
            "[[0.68789124 0.48447883 0.9309944  ... 0.6920762  0.33180213 0.9212563 ]\n",
            " [0.27369928 0.10631859 0.6218617  ... 0.4382149  0.30427706 0.51477313]\n",
            " [0.00920248 0.37280262 0.8177401  ... 0.56786287 0.49201214 0.9892651 ]\n",
            " [0.88608265 0.08672249 0.12160683 ... 0.91770685 0.72545695 0.8280058 ]\n",
            " [0.36690474 0.9200133  0.9646884  ... 0.69012    0.7137332  0.2584542 ]]\n",
            "Shape of tensor: (5, 300) \n",
            "Dimensions : 2\n",
            "Size : 1500\n",
            "\n",
            "\n"
          ]
        }
      ]
    },
    {
      "cell_type": "code",
      "source": [
        "# product of matrix\n",
        "\n",
        "tf.matmul(tensor_A, tf.reshape(tensor_B,shape=(300,5)))"
      ],
      "metadata": {
        "colab": {
          "base_uri": "https://localhost:8080/"
        },
        "id": "PBJ3xB7tPWl-",
        "outputId": "70ca5f3d-bea6-408f-dccc-cb86fb51fab0"
      },
      "execution_count": null,
      "outputs": [
        {
          "output_type": "execute_result",
          "data": {
            "text/plain": [
              "<tf.Tensor: shape=(5, 5), dtype=float32, numpy=\n",
              "array([[76.2758  , 79.17824 , 77.82306 , 79.38919 , 79.37956 ],\n",
              "       [72.706345, 73.675156, 73.71575 , 74.184204, 73.72947 ],\n",
              "       [75.74081 , 76.490845, 74.435486, 78.802124, 77.70212 ],\n",
              "       [68.98616 , 75.53636 , 74.58009 , 76.192314, 75.25122 ],\n",
              "       [75.56367 , 81.7986  , 78.68144 , 80.15668 , 80.48313 ]],\n",
              "      dtype=float32)>"
            ]
          },
          "metadata": {},
          "execution_count": 7
        }
      ]
    },
    {
      "cell_type": "code",
      "source": [
        "# dot product\n",
        "tf.tensordot(tensor_A, tf.transpose(tensor_B), axes=1)"
      ],
      "metadata": {
        "id": "JYCq1NR9PbPk",
        "colab": {
          "base_uri": "https://localhost:8080/"
        },
        "outputId": "35a95161-be0b-42e1-eb48-6d50f9221d3b"
      },
      "execution_count": null,
      "outputs": [
        {
          "output_type": "execute_result",
          "data": {
            "text/plain": [
              "<tf.Tensor: shape=(5, 5), dtype=float32, numpy=\n",
              "array([[80.33345 , 73.40498 , 77.159615, 73.98369 , 80.90053 ],\n",
              "       [75.146355, 68.80437 , 74.24302 , 71.841835, 75.60206 ],\n",
              "       [79.7594  , 75.644554, 77.797585, 74.74873 , 80.559845],\n",
              "       [75.08526 , 69.064064, 74.30776 , 72.27616 , 76.05669 ],\n",
              "       [85.05688 , 74.26627 , 78.00687 , 74.88679 , 83.13417 ]],\n",
              "      dtype=float32)>"
            ]
          },
          "metadata": {},
          "execution_count": 14
        }
      ]
    },
    {
      "cell_type": "code",
      "source": [
        "# random tensor\n",
        "tf.random.set_seed(42)\n",
        "random_tensor_A = tf.random.uniform(shape=(224,224,3))\n",
        "random_tensor_A"
      ],
      "metadata": {
        "colab": {
          "base_uri": "https://localhost:8080/"
        },
        "id": "nK5hf2zPQx-0",
        "outputId": "2039c6b8-d99f-4b3c-c116-d8ce26774453"
      },
      "execution_count": null,
      "outputs": [
        {
          "output_type": "execute_result",
          "data": {
            "text/plain": [
              "<tf.Tensor: shape=(224, 224, 3), dtype=float32, numpy=\n",
              "array([[[0.6645621 , 0.44100678, 0.3528825 ],\n",
              "        [0.46448255, 0.03366041, 0.68467236],\n",
              "        [0.74011743, 0.8724445 , 0.22632635],\n",
              "        ...,\n",
              "        [0.42612267, 0.09686017, 0.16105258],\n",
              "        [0.1487099 , 0.04513884, 0.9497483 ],\n",
              "        [0.4393103 , 0.28527975, 0.96971095]],\n",
              "\n",
              "       [[0.73308516, 0.5657046 , 0.33238935],\n",
              "        [0.8838178 , 0.87544763, 0.56711245],\n",
              "        [0.8879347 , 0.47661996, 0.42041814],\n",
              "        ...,\n",
              "        [0.7716515 , 0.9116473 , 0.3229897 ],\n",
              "        [0.43050945, 0.83253574, 0.45549798],\n",
              "        [0.29816985, 0.9639522 , 0.3316357 ]],\n",
              "\n",
              "       [[0.41132426, 0.2179662 , 0.53570235],\n",
              "        [0.5112119 , 0.6484759 , 0.8894886 ],\n",
              "        [0.42459428, 0.20189774, 0.85781324],\n",
              "        ...,\n",
              "        [0.02888799, 0.3995477 , 0.11355484],\n",
              "        [0.68524575, 0.04945195, 0.17778492],\n",
              "        [0.97627187, 0.79811585, 0.9411576 ]],\n",
              "\n",
              "       ...,\n",
              "\n",
              "       [[0.9019445 , 0.27011132, 0.8090267 ],\n",
              "        [0.32395256, 0.6672456 , 0.940673  ],\n",
              "        [0.7166116 , 0.8860713 , 0.6777594 ],\n",
              "        ...,\n",
              "        [0.8318608 , 0.39227867, 0.68916583],\n",
              "        [0.1599741 , 0.46428144, 0.4656595 ],\n",
              "        [0.8619243 , 0.24755931, 0.33835268]],\n",
              "\n",
              "       [[0.47570062, 0.09377229, 0.11811328],\n",
              "        [0.0523994 , 0.38206005, 0.12188685],\n",
              "        [0.2757113 , 0.44918692, 0.9179864 ],\n",
              "        ...,\n",
              "        [0.4974177 , 0.4562863 , 0.8261535 ],\n",
              "        [0.60251105, 0.27676368, 0.258716  ],\n",
              "        [0.7977431 , 0.74125385, 0.76062095]],\n",
              "\n",
              "       [[0.4755299 , 0.4661665 , 0.14167643],\n",
              "        [0.9103775 , 0.41117966, 0.83182037],\n",
              "        [0.79765654, 0.38330686, 0.5313202 ],\n",
              "        ...,\n",
              "        [0.94517136, 0.17730081, 0.00362825],\n",
              "        [0.6170398 , 0.9977623 , 0.8315122 ],\n",
              "        [0.6683676 , 0.68716586, 0.4447713 ]]], dtype=float32)>"
            ]
          },
          "metadata": {},
          "execution_count": 16
        }
      ]
    },
    {
      "cell_type": "code",
      "source": [
        "# minumum\n",
        "tf.math.reduce_min(random_tensor_A)"
      ],
      "metadata": {
        "colab": {
          "base_uri": "https://localhost:8080/"
        },
        "id": "3CtDcIfsRXIq",
        "outputId": "7098c29c-68d1-4d55-a8e9-7948d69c3b56"
      },
      "execution_count": null,
      "outputs": [
        {
          "output_type": "execute_result",
          "data": {
            "text/plain": [
              "<tf.Tensor: shape=(), dtype=float32, numpy=3.5762787e-07>"
            ]
          },
          "metadata": {},
          "execution_count": 17
        }
      ]
    },
    {
      "cell_type": "code",
      "source": [
        "# maximum\n",
        "tf.math.reduce_max(random_tensor_A)"
      ],
      "metadata": {
        "colab": {
          "base_uri": "https://localhost:8080/"
        },
        "id": "f2EG18WpRo8T",
        "outputId": "44815f29-5039-4697-d89a-9344cc057f80"
      },
      "execution_count": null,
      "outputs": [
        {
          "output_type": "execute_result",
          "data": {
            "text/plain": [
              "<tf.Tensor: shape=(), dtype=float32, numpy=0.999998>"
            ]
          },
          "metadata": {},
          "execution_count": 18
        }
      ]
    },
    {
      "cell_type": "code",
      "source": [
        "# random tensor squeezing\n",
        "tf.random.set_seed(42)\n",
        "inflated_tensor_A = tf.random.uniform(minval=10, maxval=100, shape=(1,224,224,3))\n",
        "inflated_tensor_A"
      ],
      "metadata": {
        "colab": {
          "base_uri": "https://localhost:8080/"
        },
        "id": "BVn-W6DYRwvD",
        "outputId": "fd412121-1bbf-4481-836a-2792b5261365"
      },
      "execution_count": null,
      "outputs": [
        {
          "output_type": "execute_result",
          "data": {
            "text/plain": [
              "<tf.Tensor: shape=(1, 224, 224, 3), dtype=float32, numpy=\n",
              "array([[[[69.81059 , 49.69061 , 41.759426],\n",
              "         [51.80343 , 13.029437, 71.620514],\n",
              "         [76.610565, 88.520004, 30.369371],\n",
              "         ...,\n",
              "         [48.35104 , 18.717415, 24.494732],\n",
              "         [23.38389 , 14.062495, 95.47735 ],\n",
              "         [49.53793 , 35.67518 , 97.27399 ]],\n",
              "\n",
              "        [[75.97766 , 60.913414, 39.915043],\n",
              "         [89.5436  , 88.79028 , 61.04012 ],\n",
              "         [89.91412 , 52.895798, 47.83763 ],\n",
              "         ...,\n",
              "         [79.44864 , 92.048256, 39.069073],\n",
              "         [48.74585 , 84.928215, 50.99482 ],\n",
              "         [36.83529 , 96.7557  , 39.847214]],\n",
              "\n",
              "        [[47.019184, 29.616959, 58.21321 ],\n",
              "         [56.009068, 68.36283 , 90.05397 ],\n",
              "         [48.213486, 28.170797, 87.20319 ],\n",
              "         ...,\n",
              "         [12.599918, 45.959293, 20.219936],\n",
              "         [71.67212 , 14.450675, 26.000643],\n",
              "         [97.86447 , 81.83043 , 94.704185]],\n",
              "\n",
              "        ...,\n",
              "\n",
              "        [[91.175   , 34.31002 , 82.81241 ],\n",
              "         [39.15573 , 70.05211 , 94.66057 ],\n",
              "         [74.49505 , 89.74642 , 70.99835 ],\n",
              "         ...,\n",
              "         [84.86747 , 45.30508 , 72.024925],\n",
              "         [24.397669, 51.785328, 51.909355],\n",
              "         [87.57319 , 32.28034 , 40.45174 ]],\n",
              "\n",
              "        [[52.813057, 18.439507, 20.630196],\n",
              "         [14.715946, 44.385406, 20.969816],\n",
              "         [34.81402 , 50.426823, 92.618774],\n",
              "         ...,\n",
              "         [54.767593, 51.06577 , 84.35381 ],\n",
              "         [64.226   , 34.90873 , 33.28444 ],\n",
              "         [81.796875, 76.712845, 78.45589 ]],\n",
              "\n",
              "        [[52.79769 , 51.954987, 22.750877],\n",
              "         [91.933975, 47.00617 , 84.86383 ],\n",
              "         [81.789085, 44.497616, 57.81882 ],\n",
              "         ...,\n",
              "         [95.06542 , 25.957073, 10.326543],\n",
              "         [65.533585, 99.79861 , 84.8361  ],\n",
              "         [70.15309 , 71.844925, 50.029415]]]], dtype=float32)>"
            ]
          },
          "metadata": {},
          "execution_count": 21
        }
      ]
    },
    {
      "cell_type": "code",
      "source": [
        "tf.squeeze(inflated_tensor_A)"
      ],
      "metadata": {
        "colab": {
          "base_uri": "https://localhost:8080/"
        },
        "id": "KQHy0HFZSswL",
        "outputId": "f7f21b4e-e1cc-4ed1-853d-c66a2956e3fe"
      },
      "execution_count": null,
      "outputs": [
        {
          "output_type": "execute_result",
          "data": {
            "text/plain": [
              "<tf.Tensor: shape=(224, 224, 3), dtype=float32, numpy=\n",
              "array([[[69.81059 , 49.69061 , 41.759426],\n",
              "        [51.80343 , 13.029437, 71.620514],\n",
              "        [76.610565, 88.520004, 30.369371],\n",
              "        ...,\n",
              "        [48.35104 , 18.717415, 24.494732],\n",
              "        [23.38389 , 14.062495, 95.47735 ],\n",
              "        [49.53793 , 35.67518 , 97.27399 ]],\n",
              "\n",
              "       [[75.97766 , 60.913414, 39.915043],\n",
              "        [89.5436  , 88.79028 , 61.04012 ],\n",
              "        [89.91412 , 52.895798, 47.83763 ],\n",
              "        ...,\n",
              "        [79.44864 , 92.048256, 39.069073],\n",
              "        [48.74585 , 84.928215, 50.99482 ],\n",
              "        [36.83529 , 96.7557  , 39.847214]],\n",
              "\n",
              "       [[47.019184, 29.616959, 58.21321 ],\n",
              "        [56.009068, 68.36283 , 90.05397 ],\n",
              "        [48.213486, 28.170797, 87.20319 ],\n",
              "        ...,\n",
              "        [12.599918, 45.959293, 20.219936],\n",
              "        [71.67212 , 14.450675, 26.000643],\n",
              "        [97.86447 , 81.83043 , 94.704185]],\n",
              "\n",
              "       ...,\n",
              "\n",
              "       [[91.175   , 34.31002 , 82.81241 ],\n",
              "        [39.15573 , 70.05211 , 94.66057 ],\n",
              "        [74.49505 , 89.74642 , 70.99835 ],\n",
              "        ...,\n",
              "        [84.86747 , 45.30508 , 72.024925],\n",
              "        [24.397669, 51.785328, 51.909355],\n",
              "        [87.57319 , 32.28034 , 40.45174 ]],\n",
              "\n",
              "       [[52.813057, 18.439507, 20.630196],\n",
              "        [14.715946, 44.385406, 20.969816],\n",
              "        [34.81402 , 50.426823, 92.618774],\n",
              "        ...,\n",
              "        [54.767593, 51.06577 , 84.35381 ],\n",
              "        [64.226   , 34.90873 , 33.28444 ],\n",
              "        [81.796875, 76.712845, 78.45589 ]],\n",
              "\n",
              "       [[52.79769 , 51.954987, 22.750877],\n",
              "        [91.933975, 47.00617 , 84.86383 ],\n",
              "        [81.789085, 44.497616, 57.81882 ],\n",
              "        ...,\n",
              "        [95.06542 , 25.957073, 10.326543],\n",
              "        [65.533585, 99.79861 , 84.8361  ],\n",
              "        [70.15309 , 71.844925, 50.029415]]], dtype=float32)>"
            ]
          },
          "metadata": {},
          "execution_count": 22
        }
      ]
    },
    {
      "cell_type": "code",
      "source": [
        "# random tensor of shape 10\n",
        "tf.random.set_seed(42)\n",
        "shape_X = tf.random.uniform(shape=(10,))\n",
        "shape_X"
      ],
      "metadata": {
        "colab": {
          "base_uri": "https://localhost:8080/"
        },
        "id": "EutggYsjS5dm",
        "outputId": "ae2a4c6d-d7ee-4dac-e705-90106ae10baf"
      },
      "execution_count": null,
      "outputs": [
        {
          "output_type": "execute_result",
          "data": {
            "text/plain": [
              "<tf.Tensor: shape=(10,), dtype=float32, numpy=\n",
              "array([0.6645621 , 0.44100678, 0.3528825 , 0.46448255, 0.03366041,\n",
              "       0.68467236, 0.74011743, 0.8724445 , 0.22632635, 0.22319686],\n",
              "      dtype=float32)>"
            ]
          },
          "metadata": {},
          "execution_count": 25
        }
      ]
    },
    {
      "cell_type": "code",
      "source": [
        "# max index\n",
        "tf.argmax(shape_X)"
      ],
      "metadata": {
        "colab": {
          "base_uri": "https://localhost:8080/"
        },
        "id": "mVHoQnxLTIh5",
        "outputId": "91750849-edb5-4bf3-a309-fc04c2e873bf"
      },
      "execution_count": null,
      "outputs": [
        {
          "output_type": "execute_result",
          "data": {
            "text/plain": [
              "<tf.Tensor: shape=(), dtype=int64, numpy=7>"
            ]
          },
          "metadata": {},
          "execution_count": 26
        }
      ]
    },
    {
      "cell_type": "code",
      "source": [
        "tf.cast(tf.one_hot(np.arange(0,tf.size(shape_X)), depth=10), dtype=tf.int32)"
      ],
      "metadata": {
        "colab": {
          "base_uri": "https://localhost:8080/"
        },
        "id": "mHNzi22YTdTl",
        "outputId": "5ada893d-ac36-4f18-bf6a-fab074685221"
      },
      "execution_count": null,
      "outputs": [
        {
          "output_type": "execute_result",
          "data": {
            "text/plain": [
              "<tf.Tensor: shape=(10, 10), dtype=int32, numpy=\n",
              "array([[1, 0, 0, 0, 0, 0, 0, 0, 0, 0],\n",
              "       [0, 1, 0, 0, 0, 0, 0, 0, 0, 0],\n",
              "       [0, 0, 1, 0, 0, 0, 0, 0, 0, 0],\n",
              "       [0, 0, 0, 1, 0, 0, 0, 0, 0, 0],\n",
              "       [0, 0, 0, 0, 1, 0, 0, 0, 0, 0],\n",
              "       [0, 0, 0, 0, 0, 1, 0, 0, 0, 0],\n",
              "       [0, 0, 0, 0, 0, 0, 1, 0, 0, 0],\n",
              "       [0, 0, 0, 0, 0, 0, 0, 1, 0, 0],\n",
              "       [0, 0, 0, 0, 0, 0, 0, 0, 1, 0],\n",
              "       [0, 0, 0, 0, 0, 0, 0, 0, 0, 1]], dtype=int32)>"
            ]
          },
          "metadata": {},
          "execution_count": 30
        }
      ]
    },
    {
      "cell_type": "code",
      "source": [],
      "metadata": {
        "id": "THc2jNkzTiMp"
      },
      "execution_count": null,
      "outputs": []
    }
  ]
}